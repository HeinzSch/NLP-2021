{
 "cells": [
  {
   "cell_type": "markdown",
   "id": "f21e52e9",
   "metadata": {
    "id": "f21e52e9"
   },
   "source": [
    "### Importar Librerías "
   ]
  },
  {
   "cell_type": "code",
   "execution_count": 1,
   "id": "3741efef",
   "metadata": {
    "executionInfo": {
     "elapsed": 390,
     "status": "ok",
     "timestamp": 1635698245258,
     "user": {
      "displayName": "Carlos S.A.",
      "photoUrl": "https://lh3.googleusercontent.com/a-/AOh14GhgyXqJvWraBL2UAaPKuxyGQQbExZSZn359__0Lng=s64",
      "userId": "02982526807718094809"
     },
     "user_tz": 240
    },
    "id": "3741efef"
   },
   "outputs": [],
   "source": [
    "%reset -f\n",
    "import matplotlib.pyplot as plt\n",
    "import pandas as pd\n",
    "import numpy as np\n",
    "import os\n",
    "from functools import partial, reduce\n",
    "import operator\n",
    "import re\n",
    "import time\n",
    "from bs4 import BeautifulSoup\n",
    "from collections import Counter\n",
    "from wordcloud import WordCloud\n"
   ]
  },
  {
   "cell_type": "code",
   "execution_count": 4,
   "id": "3f12c125",
   "metadata": {
    "executionInfo": {
     "elapsed": 12,
     "status": "ok",
     "timestamp": 1635698348332,
     "user": {
      "displayName": "Carlos S.A.",
      "photoUrl": "https://lh3.googleusercontent.com/a-/AOh14GhgyXqJvWraBL2UAaPKuxyGQQbExZSZn359__0Lng=s64",
      "userId": "02982526807718094809"
     },
     "user_tz": 240
    },
    "id": "3f12c125"
   },
   "outputs": [],
   "source": [
    "#Functions"
   ]
  },
  {
   "cell_type": "code",
   "execution_count": 6,
   "id": "Xn8cLxn2Qfii",
   "metadata": {
    "executionInfo": {
     "elapsed": 10,
     "status": "ok",
     "timestamp": 1635698348333,
     "user": {
      "displayName": "Carlos S.A.",
      "photoUrl": "https://lh3.googleusercontent.com/a-/AOh14GhgyXqJvWraBL2UAaPKuxyGQQbExZSZn359__0Lng=s64",
      "userId": "02982526807718094809"
     },
     "user_tz": 240
    },
    "id": "Xn8cLxn2Qfii"
   },
   "outputs": [],
   "source": [
    "def getAllPaths(data_directory):\n",
    "    #Input: directorio de los archivos.\n",
    "    #Return: Arreglo con las rutas de los archivos.\n",
    "    file_name = [os.path.join(data_directory,f) \n",
    "                 for f in os.listdir(data_directory)\n",
    "                 if f.endswith(\".csv\")]\n",
    "    return file_name\n",
    "\n",
    "def sentences_ravel(df):\n",
    "    sentences = df.to_list()\n",
    "    return \" \".join(sentences)\n",
    "\n",
    "def cargarDF(x,df,col=\"PATH_FILES\"):\n",
    "    data =(df.iloc[x,0:1].values[0])\n",
    "    return pd.read_csv(data)\n",
    "\n",
    "def reducirDF(x,df,colname):\n",
    "    return df[x].iloc[:,5:6]\n",
    "\n",
    "def dropNA(x,df):\n",
    "    data = df.copy()\n",
    "    data[x].replace('', np.nan)\n",
    "    data[x][\"text\"].str.lower().str.strip();\n",
    "    return data[x].dropna()"
   ]
  },
  {
   "cell_type": "markdown",
   "id": "d28ca3c9",
   "metadata": {
    "id": "d28ca3c9"
   },
   "source": [
    "### Cargo todos los dataset de pruebas y los concatenamos."
   ]
  },
  {
   "cell_type": "code",
   "execution_count": null,
   "id": "4677b330",
   "metadata": {},
   "outputs": [],
   "source": [
    "#df = df.sample(frac=0.75)"
   ]
  },
  {
   "cell_type": "code",
   "execution_count": null,
   "id": "280aa9ee",
   "metadata": {},
   "outputs": [],
   "source": [
    "#df.reset_index(drop=True, inplace=True)"
   ]
  },
  {
   "cell_type": "code",
   "execution_count": null,
   "id": "944c981f",
   "metadata": {},
   "outputs": [],
   "source": [
    "#plt.figure(figsize=(20,20))\n",
    "#plt.imshow(WordCloud().generate(sentences_as_one_string))"
   ]
  },
  {
   "cell_type": "markdown",
   "id": "44f5daf4",
   "metadata": {
    "id": "44f5daf4"
   },
   "source": [
    "### \n"
   ]
  },
  {
   "cell_type": "code",
   "execution_count": 7,
   "id": "c1295a23",
   "metadata": {},
   "outputs": [
    {
     "data": {
      "text/html": [
       "<div>\n",
       "<style scoped>\n",
       "    .dataframe tbody tr th:only-of-type {\n",
       "        vertical-align: middle;\n",
       "    }\n",
       "\n",
       "    .dataframe tbody tr th {\n",
       "        vertical-align: top;\n",
       "    }\n",
       "\n",
       "    .dataframe thead th {\n",
       "        text-align: right;\n",
       "    }\n",
       "</style>\n",
       "<table border=\"1\" class=\"dataframe\">\n",
       "  <thead>\n",
       "    <tr style=\"text-align: right;\">\n",
       "      <th></th>\n",
       "      <th>PATH_FILES</th>\n",
       "    </tr>\n",
       "  </thead>\n",
       "  <tbody>\n",
       "    <tr>\n",
       "      <th>0</th>\n",
       "      <td>../data_sophia2/chile_2020-11.csv</td>\n",
       "    </tr>\n",
       "    <tr>\n",
       "      <th>1</th>\n",
       "      <td>../data_sophia2/chile_2021-02.csv</td>\n",
       "    </tr>\n",
       "    <tr>\n",
       "      <th>2</th>\n",
       "      <td>../data_sophia2/chile_2021-03.csv</td>\n",
       "    </tr>\n",
       "    <tr>\n",
       "      <th>3</th>\n",
       "      <td>../data_sophia2/chile_2020-10.csv</td>\n",
       "    </tr>\n",
       "    <tr>\n",
       "      <th>4</th>\n",
       "      <td>../data_sophia2/chile_2021-04.csv</td>\n",
       "    </tr>\n",
       "  </tbody>\n",
       "</table>\n",
       "</div>"
      ],
      "text/plain": [
       "                          PATH_FILES\n",
       "0  ../data_sophia2/chile_2020-11.csv\n",
       "1  ../data_sophia2/chile_2021-02.csv\n",
       "2  ../data_sophia2/chile_2021-03.csv\n",
       "3  ../data_sophia2/chile_2020-10.csv\n",
       "4  ../data_sophia2/chile_2021-04.csv"
      ]
     },
     "execution_count": 7,
     "metadata": {},
     "output_type": "execute_result"
    }
   ],
   "source": [
    "PATHS_CSV = getAllPaths(\"../data_sophia2/\")\n",
    "PATH_DF = pd.DataFrame(PATHS_CSV)\n",
    "PATH_DF.columns=[\"PATH_FILES\"]\n",
    "PATH_DF.head()"
   ]
  },
  {
   "cell_type": "markdown",
   "id": "328e43c5",
   "metadata": {
    "id": "328e43c5"
   },
   "source": [
    "### cargar los datasets"
   ]
  },
  {
   "cell_type": "code",
   "execution_count": 8,
   "id": "okIGxVeGVYdS",
   "metadata": {
    "executionInfo": {
     "elapsed": 8702,
     "status": "ok",
     "timestamp": 1635698358378,
     "user": {
      "displayName": "Carlos S.A.",
      "photoUrl": "https://lh3.googleusercontent.com/a-/AOh14GhgyXqJvWraBL2UAaPKuxyGQQbExZSZn359__0Lng=s64",
      "userId": "02982526807718094809"
     },
     "user_tz": 240
    },
    "id": "okIGxVeGVYdS"
   },
   "outputs": [
    {
     "data": {
      "text/html": [
       "<div>\n",
       "<style scoped>\n",
       "    .dataframe tbody tr th:only-of-type {\n",
       "        vertical-align: middle;\n",
       "    }\n",
       "\n",
       "    .dataframe tbody tr th {\n",
       "        vertical-align: top;\n",
       "    }\n",
       "\n",
       "    .dataframe thead th {\n",
       "        text-align: right;\n",
       "    }\n",
       "</style>\n",
       "<table border=\"1\" class=\"dataframe\">\n",
       "  <thead>\n",
       "    <tr style=\"text-align: right;\">\n",
       "      <th></th>\n",
       "      <th>id</th>\n",
       "      <th>country</th>\n",
       "      <th>media_outlet</th>\n",
       "      <th>url</th>\n",
       "      <th>title</th>\n",
       "      <th>text</th>\n",
       "      <th>date</th>\n",
       "      <th>year</th>\n",
       "      <th>id_journalist</th>\n",
       "    </tr>\n",
       "  </thead>\n",
       "  <tbody>\n",
       "    <tr>\n",
       "      <th>0</th>\n",
       "      <td>23046</td>\n",
       "      <td>chile</td>\n",
       "      <td>horas24</td>\n",
       "      <td>https://www.24horas.cl/nacional/adolescente-ba...</td>\n",
       "      <td>Adolescente baleado por carabinero tras intent...</td>\n",
       "      <td>Fue la noche del pasado viernes cuando tres su...</td>\n",
       "      <td>2020-11-01</td>\n",
       "      <td>2020.0</td>\n",
       "      <td>NaN</td>\n",
       "    </tr>\n",
       "    <tr>\n",
       "      <th>1</th>\n",
       "      <td>23062</td>\n",
       "      <td>chile</td>\n",
       "      <td>horas24</td>\n",
       "      <td>https://www.24horas.cl/nacional/senal-en-vivo-...</td>\n",
       "      <td>Señal en vivo: Cristián Warnken conversa con E...</td>\n",
       "      <td>Este domingo tendremos una nueva edición de \"E...</td>\n",
       "      <td>2020-11-01</td>\n",
       "      <td>2020.0</td>\n",
       "      <td>NaN</td>\n",
       "    </tr>\n",
       "    <tr>\n",
       "      <th>2</th>\n",
       "      <td>23082</td>\n",
       "      <td>chile</td>\n",
       "      <td>horas24</td>\n",
       "      <td>https://www.24horas.cl/nacional/ministro-bello...</td>\n",
       "      <td>Ministro Bellolio: “El Gobierno está ocupado y...</td>\n",
       "      <td>La tarde este domingo, el ministro Vocero de G...</td>\n",
       "      <td>2020-11-01</td>\n",
       "      <td>2020.0</td>\n",
       "      <td>NaN</td>\n",
       "    </tr>\n",
       "    <tr>\n",
       "      <th>3</th>\n",
       "      <td>23101</td>\n",
       "      <td>chile</td>\n",
       "      <td>horas24</td>\n",
       "      <td>https://www.24horas.cl/nacional/fueron-rescata...</td>\n",
       "      <td>Fueron rescatados de emergencia: Ciclistas se ...</td>\n",
       "      <td>NaN</td>\n",
       "      <td>2020-11-01</td>\n",
       "      <td>2020.0</td>\n",
       "      <td>NaN</td>\n",
       "    </tr>\n",
       "    <tr>\n",
       "      <th>4</th>\n",
       "      <td>23112</td>\n",
       "      <td>chile</td>\n",
       "      <td>horas24</td>\n",
       "      <td>https://www.24horas.cl/nacional/bellolio-para-...</td>\n",
       "      <td>Bellolio: \"Para que la Convención Constituyent...</td>\n",
       "      <td>NaN</td>\n",
       "      <td>2020-11-01</td>\n",
       "      <td>2020.0</td>\n",
       "      <td>NaN</td>\n",
       "    </tr>\n",
       "  </tbody>\n",
       "</table>\n",
       "</div>"
      ],
      "text/plain": [
       "      id country media_outlet  \\\n",
       "0  23046   chile      horas24   \n",
       "1  23062   chile      horas24   \n",
       "2  23082   chile      horas24   \n",
       "3  23101   chile      horas24   \n",
       "4  23112   chile      horas24   \n",
       "\n",
       "                                                 url  \\\n",
       "0  https://www.24horas.cl/nacional/adolescente-ba...   \n",
       "1  https://www.24horas.cl/nacional/senal-en-vivo-...   \n",
       "2  https://www.24horas.cl/nacional/ministro-bello...   \n",
       "3  https://www.24horas.cl/nacional/fueron-rescata...   \n",
       "4  https://www.24horas.cl/nacional/bellolio-para-...   \n",
       "\n",
       "                                               title  \\\n",
       "0  Adolescente baleado por carabinero tras intent...   \n",
       "1  Señal en vivo: Cristián Warnken conversa con E...   \n",
       "2  Ministro Bellolio: “El Gobierno está ocupado y...   \n",
       "3  Fueron rescatados de emergencia: Ciclistas se ...   \n",
       "4  Bellolio: \"Para que la Convención Constituyent...   \n",
       "\n",
       "                                                text        date    year  \\\n",
       "0  Fue la noche del pasado viernes cuando tres su...  2020-11-01  2020.0   \n",
       "1  Este domingo tendremos una nueva edición de \"E...  2020-11-01  2020.0   \n",
       "2  La tarde este domingo, el ministro Vocero de G...  2020-11-01  2020.0   \n",
       "3                                                NaN  2020-11-01  2020.0   \n",
       "4                                                NaN  2020-11-01  2020.0   \n",
       "\n",
       "   id_journalist  \n",
       "0            NaN  \n",
       "1            NaN  \n",
       "2            NaN  \n",
       "3            NaN  \n",
       "4            NaN  "
      ]
     },
     "execution_count": 8,
     "metadata": {},
     "output_type": "execute_result"
    }
   ],
   "source": [
    "df__sophia2 = list(map(partial(cargarDF, df=PATH_DF), range(PATH_DF.shape[0])))\n",
    "df__sophia2[0].head()"
   ]
  },
  {
   "cell_type": "markdown",
   "id": "6eed1e9b",
   "metadata": {},
   "source": [
    "### Seleccionar los columnas de texto"
   ]
  },
  {
   "cell_type": "code",
   "execution_count": 9,
   "id": "v11svqbTElin",
   "metadata": {
    "colab": {
     "base_uri": "https://localhost:8080/",
     "height": 424
    },
    "executionInfo": {
     "elapsed": 20,
     "status": "ok",
     "timestamp": 1635698358379,
     "user": {
      "displayName": "Carlos S.A.",
      "photoUrl": "https://lh3.googleusercontent.com/a-/AOh14GhgyXqJvWraBL2UAaPKuxyGQQbExZSZn359__0Lng=s64",
      "userId": "02982526807718094809"
     },
     "user_tz": 240
    },
    "id": "v11svqbTElin",
    "outputId": "4c5a3925-77d3-4c64-e000-b9720bfffb09"
   },
   "outputs": [],
   "source": [
    "df_sample_sophia2 =list(map(partial(reducirDF, df=df__sophia2,colname=\"text\"),range(len(df__sophia2))))"
   ]
  },
  {
   "cell_type": "code",
   "execution_count": 10,
   "id": "JKPqLQ8REm93",
   "metadata": {
    "executionInfo": {
     "elapsed": 16,
     "status": "ok",
     "timestamp": 1635698358379,
     "user": {
      "displayName": "Carlos S.A.",
      "photoUrl": "https://lh3.googleusercontent.com/a-/AOh14GhgyXqJvWraBL2UAaPKuxyGQQbExZSZn359__0Lng=s64",
      "userId": "02982526807718094809"
     },
     "user_tz": 240
    },
    "id": "JKPqLQ8REm93"
   },
   "outputs": [],
   "source": [
    "#eliminar NaN\n",
    "df_sophia2_subset_pd = list(map(partial(dropNA,df=df_sample_sophia2),\n",
    "                                range(len(df_sample_sophia2))))"
   ]
  },
  {
   "cell_type": "code",
   "execution_count": 15,
   "id": "d05a65dc",
   "metadata": {},
   "outputs": [
    {
     "data": {
      "text/html": [
       "<div>\n",
       "<style scoped>\n",
       "    .dataframe tbody tr th:only-of-type {\n",
       "        vertical-align: middle;\n",
       "    }\n",
       "\n",
       "    .dataframe tbody tr th {\n",
       "        vertical-align: top;\n",
       "    }\n",
       "\n",
       "    .dataframe thead th {\n",
       "        text-align: right;\n",
       "    }\n",
       "</style>\n",
       "<table border=\"1\" class=\"dataframe\">\n",
       "  <thead>\n",
       "    <tr style=\"text-align: right;\">\n",
       "      <th></th>\n",
       "      <th>text</th>\n",
       "    </tr>\n",
       "  </thead>\n",
       "  <tbody>\n",
       "    <tr>\n",
       "      <th>0</th>\n",
       "      <td>Fue la noche del pasado viernes cuando tres su...</td>\n",
       "    </tr>\n",
       "    <tr>\n",
       "      <th>1</th>\n",
       "      <td>Este domingo tendremos una nueva edición de \"E...</td>\n",
       "    </tr>\n",
       "    <tr>\n",
       "      <th>2</th>\n",
       "      <td>La tarde este domingo, el ministro Vocero de G...</td>\n",
       "    </tr>\n",
       "    <tr>\n",
       "      <th>5</th>\n",
       "      <td>El Ministerio de Salud entregó este domingo un...</td>\n",
       "    </tr>\n",
       "    <tr>\n",
       "      <th>6</th>\n",
       "      <td>Durante la mañana de este domingo el President...</td>\n",
       "    </tr>\n",
       "    <tr>\n",
       "      <th>...</th>\n",
       "      <td>...</td>\n",
       "    </tr>\n",
       "    <tr>\n",
       "      <th>13528</th>\n",
       "      <td>Luego de la muerte de  Diego Armando Maradona ...</td>\n",
       "    </tr>\n",
       "    <tr>\n",
       "      <th>13529</th>\n",
       "      <td>Este domingo el Barcelona goleó por 4-0 al Osa...</td>\n",
       "    </tr>\n",
       "    <tr>\n",
       "      <th>13530</th>\n",
       "      <td>Tomás Barrios  tuvo una excelente semana y alc...</td>\n",
       "    </tr>\n",
       "    <tr>\n",
       "      <th>13531</th>\n",
       "      <td>Las dobles faltas son errores comunes en el te...</td>\n",
       "    </tr>\n",
       "    <tr>\n",
       "      <th>13532</th>\n",
       "      <td>Luego de una buena semana en el  Challenger de...</td>\n",
       "    </tr>\n",
       "  </tbody>\n",
       "</table>\n",
       "<p>13027 rows × 1 columns</p>\n",
       "</div>"
      ],
      "text/plain": [
       "                                                    text\n",
       "0      Fue la noche del pasado viernes cuando tres su...\n",
       "1      Este domingo tendremos una nueva edición de \"E...\n",
       "2      La tarde este domingo, el ministro Vocero de G...\n",
       "5      El Ministerio de Salud entregó este domingo un...\n",
       "6      Durante la mañana de este domingo el President...\n",
       "...                                                  ...\n",
       "13528  Luego de la muerte de  Diego Armando Maradona ...\n",
       "13529  Este domingo el Barcelona goleó por 4-0 al Osa...\n",
       "13530  Tomás Barrios  tuvo una excelente semana y alc...\n",
       "13531  Las dobles faltas son errores comunes en el te...\n",
       "13532  Luego de una buena semana en el  Challenger de...\n",
       "\n",
       "[13027 rows x 1 columns]"
      ]
     },
     "execution_count": 15,
     "metadata": {},
     "output_type": "execute_result"
    }
   ],
   "source": [
    "df_sophia2_subset_pd[0]"
   ]
  },
  {
   "cell_type": "markdown",
   "id": "1ac92796",
   "metadata": {},
   "source": [
    "### juntar los Dataframes individuales"
   ]
  },
  {
   "cell_type": "code",
   "execution_count": 17,
   "id": "5def1608",
   "metadata": {},
   "outputs": [],
   "source": [
    "df_concat = pd.concat(df_sophia2_subset_pd, ignore_index=True)\n",
    "df_concat.to_csv(\"./data_noprocesada.csv\")"
   ]
  },
  {
   "cell_type": "markdown",
   "id": "56befff9",
   "metadata": {},
   "source": [
    "### StopWords y signos de puntuación"
   ]
  },
  {
   "cell_type": "code",
   "execution_count": 18,
   "id": "31aeaf53",
   "metadata": {
    "scrolled": true
   },
   "outputs": [
    {
     "name": "stderr",
     "output_type": "stream",
     "text": [
      "[nltk_data] Downloading package stopwords to\n",
      "[nltk_data]     /home/icarlos/nltk_data...\n",
      "[nltk_data]   Package stopwords is already up-to-date!\n"
     ]
    }
   ],
   "source": [
    "import nltk\n",
    "from nltk.corpus import stopwords\n",
    "import string\n",
    "nltk.download('stopwords')\n",
    "punct = string.punctuation\n",
    "stop_words_en = stopwords.words('spanish')"
   ]
  },
  {
   "cell_type": "code",
   "execution_count": 20,
   "id": "6665475e",
   "metadata": {},
   "outputs": [],
   "source": [
    "import ipyparallel as ipp\n",
    "rc = ipp.Client()\n",
    "dv=rc[:]"
   ]
  },
  {
   "cell_type": "code",
   "execution_count": 21,
   "id": "af691ce4",
   "metadata": {},
   "outputs": [],
   "source": [
    "def remove_stopword(x,stop_words_list,punc):\n",
    "    palabra = [char for char in x if char not in punc]\n",
    "    palabra = ''.join(palabra)\n",
    "    if(palabra.lower() not in stop_words_list):\n",
    "            return palabra\n"
   ]
  },
  {
   "cell_type": "code",
   "execution_count": 23,
   "id": "8483ee28",
   "metadata": {},
   "outputs": [
    {
     "name": "stdout",
     "output_type": "stream",
     "text": [
      "5.684140920639038\n"
     ]
    }
   ],
   "source": [
    "#1 core\n",
    "import time\n",
    "start = time.time()\n",
    "text = list(filter(None,list(map(partial(remove_stopword,\n",
    "                                        stop_words_list=stop_words_en,\n",
    "                                       punc=punct),df_concat[\"text\"]))))\n",
    "print(time.time()-start)"
   ]
  },
  {
   "cell_type": "code",
   "execution_count": 22,
   "id": "54a78b7e",
   "metadata": {},
   "outputs": [
    {
     "name": "stdout",
     "output_type": "stream",
     "text": [
      "1.9430596828460693\n"
     ]
    }
   ],
   "source": [
    "#10 cores\n",
    "import time\n",
    "start = time.time()\n",
    "text = list(filter(None,list(dv.map(partial(remove_stopword,\n",
    "                                        stop_words_list=stop_words_en,\n",
    "                                       punc=punct),df_concat[\"text\"]))))\n",
    "print(time.time()-start)"
   ]
  },
  {
   "cell_type": "markdown",
   "id": "7fda8ba9",
   "metadata": {},
   "source": [
    "### Guardar  datos limpios"
   ]
  },
  {
   "cell_type": "code",
   "execution_count": null,
   "id": "0310b7c9",
   "metadata": {},
   "outputs": [],
   "source": [
    "#data_clean = pd.DataFrame(text, columns =['text'])\n",
    "#data_clean.to_csv(\"./data_clean.csv\")"
   ]
  },
  {
   "cell_type": "code",
   "execution_count": 24,
   "id": "bef52f72",
   "metadata": {},
   "outputs": [],
   "source": [
    "data_clean = pd.read_csv(\"data_clean.csv\")"
   ]
  },
  {
   "cell_type": "code",
   "execution_count": 26,
   "id": "73eba00b",
   "metadata": {},
   "outputs": [
    {
     "data": {
      "text/html": [
       "<div>\n",
       "<style scoped>\n",
       "    .dataframe tbody tr th:only-of-type {\n",
       "        vertical-align: middle;\n",
       "    }\n",
       "\n",
       "    .dataframe tbody tr th {\n",
       "        vertical-align: top;\n",
       "    }\n",
       "\n",
       "    .dataframe thead th {\n",
       "        text-align: right;\n",
       "    }\n",
       "</style>\n",
       "<table border=\"1\" class=\"dataframe\">\n",
       "  <thead>\n",
       "    <tr style=\"text-align: right;\">\n",
       "      <th></th>\n",
       "      <th>text</th>\n",
       "    </tr>\n",
       "  </thead>\n",
       "  <tbody>\n",
       "    <tr>\n",
       "      <th>0</th>\n",
       "      <td>Fue la noche del pasado viernes cuando tres su...</td>\n",
       "    </tr>\n",
       "    <tr>\n",
       "      <th>1</th>\n",
       "      <td>Este domingo tendremos una nueva edición de En...</td>\n",
       "    </tr>\n",
       "    <tr>\n",
       "      <th>2</th>\n",
       "      <td>La tarde este domingo el ministro Vocero de Go...</td>\n",
       "    </tr>\n",
       "    <tr>\n",
       "      <th>3</th>\n",
       "      <td>El Ministerio de Salud entregó este domingo un...</td>\n",
       "    </tr>\n",
       "    <tr>\n",
       "      <th>4</th>\n",
       "      <td>Durante la mañana de este domingo el President...</td>\n",
       "    </tr>\n",
       "  </tbody>\n",
       "</table>\n",
       "</div>"
      ],
      "text/plain": [
       "                                                text\n",
       "0  Fue la noche del pasado viernes cuando tres su...\n",
       "1  Este domingo tendremos una nueva edición de En...\n",
       "2  La tarde este domingo el ministro Vocero de Go...\n",
       "3  El Ministerio de Salud entregó este domingo un...\n",
       "4  Durante la mañana de este domingo el President..."
      ]
     },
     "execution_count": 26,
     "metadata": {},
     "output_type": "execute_result"
    }
   ],
   "source": [
    "df = data_clean.iloc[:1000,1:2]\n",
    "df.head()"
   ]
  }
 ],
 "metadata": {
  "accelerator": "GPU",
  "colab": {
   "collapsed_sections": [],
   "name": "Extraccion_palabras_claves.ipynb",
   "provenance": []
  },
  "kernelspec": {
   "display_name": "Python 3",
   "language": "python",
   "name": "python3"
  },
  "language_info": {
   "codemirror_mode": {
    "name": "ipython",
    "version": 3
   },
   "file_extension": ".py",
   "mimetype": "text/x-python",
   "name": "python",
   "nbconvert_exporter": "python",
   "pygments_lexer": "ipython3",
   "version": "3.8.12"
  }
 },
 "nbformat": 4,
 "nbformat_minor": 5
}
