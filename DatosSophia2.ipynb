{
 "cells": [
  {
   "cell_type": "markdown",
   "id": "c869bfb4",
   "metadata": {},
   "source": [
    "### Importar Librerías "
   ]
  },
  {
   "cell_type": "code",
   "execution_count": 26,
   "id": "d041593f",
   "metadata": {},
   "outputs": [],
   "source": [
    "%reset -f\n",
    "import pandas as pd\n",
    "import numpy as np\n",
    "import os\n",
    "from functools import partial, reduce\n",
    "import operator"
   ]
  },
  {
   "cell_type": "code",
   "execution_count": 27,
   "id": "1ffdd2b2",
   "metadata": {},
   "outputs": [],
   "source": [
    "def getAllPaths(data_directory):\n",
    "    #Input: directorio de los archivos.\n",
    "    #Return: Arreglo con las rutas de los archivos.\n",
    "    file_name = [os.path.join(data_directory,f) \n",
    "                 for f in os.listdir(data_directory)\n",
    "                 if f.endswith(\".csv\")]\n",
    "    return file_name"
   ]
  },
  {
   "cell_type": "markdown",
   "id": "908f45f2",
   "metadata": {},
   "source": [
    "### Cargo todos los dataset de pruebas."
   ]
  },
  {
   "cell_type": "code",
   "execution_count": 28,
   "id": "77a0305a",
   "metadata": {},
   "outputs": [],
   "source": [
    "all_files = getAllPaths('data_sophia2/')\n",
    "df = (pd.read_csv(f) for f in all_files)\n",
    "df = pd.concat(df, ignore_index=True)"
   ]
  },
  {
   "cell_type": "markdown",
   "id": "902d6fca",
   "metadata": {},
   "source": [
    "Tomar un sample de textos de noticias."
   ]
  },
  {
   "cell_type": "code",
   "execution_count": 29,
   "id": "5d319463",
   "metadata": {},
   "outputs": [],
   "source": [
    "df = df.sample(10000)"
   ]
  },
  {
   "cell_type": "markdown",
   "id": "b205108d",
   "metadata": {},
   "source": [
    "Normalizacion"
   ]
  },
  {
   "cell_type": "code",
   "execution_count": 30,
   "id": "7262efb5",
   "metadata": {},
   "outputs": [],
   "source": [
    "df = df['text'].dropna().str.lower().str.strip();"
   ]
  },
  {
   "cell_type": "code",
   "execution_count": 31,
   "id": "ed5044ac",
   "metadata": {},
   "outputs": [
    {
     "data": {
      "text/plain": [
       "51570    la mañana de este miércoles, el ministro del i...\n",
       "40898    17 personas fueron detenidas tras los serios i...\n",
       "29381    cuando dc comics presentó a la nueva versión d...\n",
       "14319    ni el cine ni la vida han sido lo mismo en año...\n",
       "44026    el martes 8 de diciembre será feriado por una ...\n",
       "                               ...                        \n",
       "4061     el consejo para la transparencia se refirió al...\n",
       "62723    tras referirse al desarrollo del consejo de ga...\n",
       "41886    el pasado jueves se cumplió un año desde que f...\n",
       "8207     la fiscalía metropolitana sur y la brigada de ...\n",
       "35301    el ministro vocero de gobierno,  jaime belloli...\n",
       "Name: text, Length: 9636, dtype: object"
      ]
     },
     "execution_count": 31,
     "metadata": {},
     "output_type": "execute_result"
    }
   ],
   "source": [
    "df"
   ]
  },
  {
   "cell_type": "code",
   "execution_count": 32,
   "id": "02f8dbe2",
   "metadata": {},
   "outputs": [],
   "source": [
    "import string\n",
    "import spacy\n",
    "from spacy.lang.es.stop_words import STOP_WORDS\n",
    "from spacy.lang.es import Spanish\n",
    "\n",
    "spacy.prefer_gpu()\n",
    "nlp = spacy.load(\"es_core_news_lg\")"
   ]
  },
  {
   "cell_type": "code",
   "execution_count": 34,
   "id": "8ff5047f",
   "metadata": {},
   "outputs": [],
   "source": [
    "# Create our list of punctuation marks\n",
    "punctuations = string.punctuation\n",
    "\n",
    "# Create our list of stopwords\n",
    "stop_words = spacy.lang.es.stop_words.STOP_WORDS\n",
    "nlp.Defaults.stop_words |= {'.', ',', ':', ';', 'y', 'a', '?', '¿', '...', 'también', 'más', 'él', '%'}\n",
    "\n",
    "# Creating our tokenizer function\n",
    "def spacy_tokenizer(sentence):\n",
    "    # Creating our token object, which is used to create documents with linguistic annotations.\n",
    "    mytokens = nlp(sentence)\n",
    "\n",
    "    # Lemmatizing each token and converting each token into lowercase\n",
    "    mytokens = [ word.lemma_.lower().strip() if word.lemma_ != \"-PRON-\" else word.lower_ for word in mytokens ]\n",
    "\n",
    "    # Removing stop words\n",
    "    mytokens = [ word for word in mytokens if word not in stop_words and word not in punctuations ]\n",
    "\n",
    "    # return preprocessed list of tokens\n",
    "    return mytokens"
   ]
  },
  {
   "cell_type": "code",
   "execution_count": 36,
   "id": "2240477d",
   "metadata": {},
   "outputs": [],
   "source": [
    "tokens = []\n",
    "\n",
    "for doc in df.values:\n",
    "    try:\n",
    "        tokens.append(spacy_tokenizer(doc))\n",
    "    except:\n",
    "        continue"
   ]
  },
  {
   "cell_type": "code",
   "execution_count": 37,
   "id": "a76eab19",
   "metadata": {
    "scrolled": true
   },
   "outputs": [
    {
     "data": {
      "text/plain": [
       "'mañana'"
      ]
     },
     "execution_count": 37,
     "metadata": {},
     "output_type": "execute_result"
    }
   ],
   "source": [
    "tokens[0][0]"
   ]
  },
  {
   "cell_type": "code",
   "execution_count": 38,
   "id": "bb5a3ca4",
   "metadata": {},
   "outputs": [],
   "source": [
    "import gensim\n",
    "import gensim.corpora as corpora\n",
    "from gensim.utils import simple_preprocess\n",
    "from gensim.models import CoherenceModel\n",
    "\n",
    "# Build the bigram and trigram models\n",
    "bigram = gensim.models.Phrases(tokens, min_count=5, threshold=100) # higher threshold fewer phrases.\n",
    "trigram = gensim.models.Phrases(bigram[tokens], threshold=100)  \n",
    "\n",
    "bigram_mod = gensim.models.phrases.Phraser(bigram)\n",
    "trigram_mod = gensim.models.phrases.Phraser(trigram)"
   ]
  },
  {
   "cell_type": "code",
   "execution_count": 39,
   "id": "2826bf96",
   "metadata": {},
   "outputs": [],
   "source": [
    "# Define functions for stopwords, bigrams, trigrams and lemmatization\n",
    "def remove_stopwords(texts):\n",
    "    return [[word for word in simple_preprocess(str(doc)) if word not in stop_words] for doc in texts]\n",
    "\n",
    "def make_bigrams(texts):\n",
    "    return [bigram_mod[doc] for doc in texts]\n",
    "\n",
    "def make_trigrams(texts):\n",
    "    return [trigram_mod[bigram_mod[doc]] for doc in texts]\n",
    "\n",
    "def lemmatization(texts, allowed_postags=['NOUN', 'ADJ', 'VERB', 'ADV']):\n",
    "    \"\"\"https://spacy.io/api/annotation\"\"\"\n",
    "    texts_out = []\n",
    "    for sent in texts:\n",
    "        doc = nlp(\" \".join(sent)) \n",
    "        texts_out.append([token.lemma_ for token in doc if token.pos_ in allowed_postags])\n",
    "    return texts_out"
   ]
  },
  {
   "cell_type": "code",
   "execution_count": 40,
   "id": "5e9ad228",
   "metadata": {},
   "outputs": [],
   "source": [
    "# Remove Stop Words\n",
    "#data_words_nostops = remove_stopwords(data_words)\n",
    "\n",
    "# Form Bigrams\n",
    "data_words_bigrams = make_bigrams(tokens)\n",
    "\n",
    "# Do lemmatization keeping only noun, adj, vb, adv\n",
    "data_lemmatized = lemmatization(data_words_bigrams, allowed_postags=['NOUN', 'ADJ', 'VERB', 'ADV'])"
   ]
  },
  {
   "cell_type": "code",
   "execution_count": 41,
   "id": "09692601",
   "metadata": {},
   "outputs": [
    {
     "data": {
      "text/plain": [
       "['mañana',\n",
       " 'miércoles',\n",
       " 'ministro',\n",
       " 'delgado',\n",
       " 'llegar',\n",
       " 'comuna',\n",
       " 'reunir',\n",
       " 'alcaldesa',\n",
       " 'cathy',\n",
       " 'barrigo',\n",
       " 'conversar',\n",
       " 'balacera',\n",
       " 'dejar',\n",
       " 'mujer',\n",
       " 'fallecido',\n",
       " 'persona',\n",
       " 'grave',\n",
       " 'lesión',\n",
       " 'sentido',\n",
       " 'secretario',\n",
       " 'expresar',\n",
       " 'gobierno',\n",
       " 'repudiar',\n",
       " 'ocurrir',\n",
       " 'origen',\n",
       " 'tipo',\n",
       " 'delito',\n",
       " 'requerir',\n",
       " 'cambio',\n",
       " 'estructural',\n",
       " 'combatir',\n",
       " 'banda',\n",
       " 'hija',\n",
       " 'mujer',\n",
       " 'morir',\n",
       " 'mamá',\n",
       " 'recibir',\n",
       " 'balazo',\n",
       " 'cuello\"leer',\n",
       " 'delgado',\n",
       " 'precisar',\n",
       " 'tratar',\n",
       " 'banda_criminal',\n",
       " 'relacionado',\n",
       " 'arma',\n",
       " 'asociación_ilícito',\n",
       " 'operar',\n",
       " 'generar',\n",
       " 'temor',\n",
       " 'población',\n",
       " 'ajustar',\n",
       " 'terminar',\n",
       " 'vida',\n",
       " 'persona',\n",
       " 'inocente',\n",
       " 'ministro',\n",
       " 'enfatizar',\n",
       " 'agenda',\n",
       " 'ejecutivo',\n",
       " 'centrado',\n",
       " 'llamar',\n",
       " 'congreso',\n",
       " 'seguir',\n",
       " 'avanzar',\n",
       " 'modificación',\n",
       " 'ley',\n",
       " 'arma',\n",
       " 'banda_criminal',\n",
       " 'evolucionar',\n",
       " 'altura',\n",
       " 'perseguir',\n",
       " 'agregar',\n",
       " 'delgado',\n",
       " 'medida',\n",
       " 'concreto',\n",
       " 'maipú',\n",
       " 'acordar',\n",
       " 'aceleración',\n",
       " 'construcción',\n",
       " 'comisarío',\n",
       " 'creación',\n",
       " 'mixto',\n",
       " 'carabinero',\n",
       " 'personal',\n",
       " 'seguridad',\n",
       " 'municipal',\n",
       " 'policía',\n",
       " 'pasar',\n",
       " 'pasar',\n",
       " 'preocupación',\n",
       " 'dirigente',\n",
       " 'social',\n",
       " 'gente',\n",
       " 'persona',\n",
       " 'querer',\n",
       " 'vivir',\n",
       " 'tranquilo',\n",
       " 'indicar',\n",
       " 'delgado',\n",
       " 'alcaldesa_maipú',\n",
       " 'cathy_barriga',\n",
       " 'agradecer',\n",
       " 'autoridad',\n",
       " 'central',\n",
       " 'presencial',\n",
       " 'comuna',\n",
       " 'disposición',\n",
       " 'diálogo',\n",
       " 'balacera_feria',\n",
       " 'navideño',\n",
       " 'dejar',\n",
       " 'año',\n",
       " 'grave',\n",
       " 'espejoleer',\n",
       " 'asegurar',\n",
       " 'afectar',\n",
       " 'impactar',\n",
       " 'necesitar',\n",
       " 'recuperar',\n",
       " 'seguridad',\n",
       " 'decir',\n",
       " 'persona',\n",
       " 'planificación',\n",
       " 'impactante',\n",
       " 'vulnerir',\n",
       " 'seguridad',\n",
       " 'incidente',\n",
       " 'sentenciar']"
      ]
     },
     "execution_count": 41,
     "metadata": {},
     "output_type": "execute_result"
    }
   ],
   "source": [
    "data_lemmatized[0]"
   ]
  },
  {
   "cell_type": "code",
   "execution_count": 62,
   "id": "0b79a0bf",
   "metadata": {},
   "outputs": [
    {
     "data": {
      "text/plain": [
       "'aceleración'"
      ]
     },
     "execution_count": 62,
     "metadata": {},
     "output_type": "execute_result"
    }
   ],
   "source": [
    "id2word = corpora.Dictionary(data_lemmatized)\n",
    "id2word[0]"
   ]
  },
  {
   "cell_type": "code",
   "execution_count": 63,
   "id": "bb2f89d0",
   "metadata": {},
   "outputs": [],
   "source": [
    "# assume the word 'b' is to be deleted, put its id in a variable\n",
    "del_ids = [k for k,v in id2word.items() if v=='post_on' or v=='instagrama_post' or v=='año']"
   ]
  },
  {
   "cell_type": "code",
   "execution_count": 64,
   "id": "7c3ad7d2",
   "metadata": {},
   "outputs": [
    {
     "data": {
      "text/plain": [
       "[15, 1787, 1800]"
      ]
     },
     "execution_count": 64,
     "metadata": {},
     "output_type": "execute_result"
    }
   ],
   "source": [
    "del_ids"
   ]
  },
  {
   "cell_type": "code",
   "execution_count": 65,
   "id": "f260544d",
   "metadata": {},
   "outputs": [],
   "source": [
    "# remove unwanted word ids from the dictionary in place\n",
    "id2word.filter_tokens(bad_ids=del_ids)"
   ]
  },
  {
   "cell_type": "code",
   "execution_count": 66,
   "id": "0ce4539a",
   "metadata": {},
   "outputs": [],
   "source": [
    "texts = data_lemmatized"
   ]
  },
  {
   "cell_type": "code",
   "execution_count": 67,
   "id": "64506276",
   "metadata": {},
   "outputs": [
    {
     "data": {
      "text/plain": [
       "[[('aceleración', 1),\n",
       "  ('acordar', 1),\n",
       "  ('afectar', 1),\n",
       "  ('agenda', 1),\n",
       "  ('agradecer', 1),\n",
       "  ('agregar', 1),\n",
       "  ('ajustar', 1),\n",
       "  ('alcaldesa', 1),\n",
       "  ('alcaldesa_maipú', 1),\n",
       "  ('altura', 1),\n",
       "  ('arma', 2),\n",
       "  ('asegurar', 1),\n",
       "  ('asociación_ilícito', 1),\n",
       "  ('autoridad', 1),\n",
       "  ('avanzar', 1),\n",
       "  ('balacera', 1),\n",
       "  ('balacera_feria', 1),\n",
       "  ('balazo', 1),\n",
       "  ('banda', 1),\n",
       "  ('banda_criminal', 2),\n",
       "  ('barrigo', 1),\n",
       "  ('cambio', 1),\n",
       "  ('carabinero', 1),\n",
       "  ('cathy', 1),\n",
       "  ('cathy_barriga', 1),\n",
       "  ('centrado', 1),\n",
       "  ('central', 1),\n",
       "  ('combatir', 1),\n",
       "  ('comisarío', 1),\n",
       "  ('comuna', 2),\n",
       "  ('concreto', 1),\n",
       "  ('congreso', 1),\n",
       "  ('construcción', 1),\n",
       "  ('conversar', 1),\n",
       "  ('creación', 1),\n",
       "  ('cuello\"leer', 1),\n",
       "  ('decir', 1),\n",
       "  ('dejar', 2),\n",
       "  ('delgado', 4),\n",
       "  ('delito', 1),\n",
       "  ('dirigente', 1),\n",
       "  ('disposición', 1),\n",
       "  ('diálogo', 1),\n",
       "  ('ejecutivo', 1),\n",
       "  ('enfatizar', 1),\n",
       "  ('espejoleer', 1),\n",
       "  ('estructural', 1),\n",
       "  ('evolucionar', 1),\n",
       "  ('expresar', 1),\n",
       "  ('fallecido', 1),\n",
       "  ('generar', 1),\n",
       "  ('gente', 1),\n",
       "  ('gobierno', 1),\n",
       "  ('grave', 2),\n",
       "  ('hija', 1),\n",
       "  ('impactante', 1),\n",
       "  ('impactar', 1),\n",
       "  ('incidente', 1),\n",
       "  ('indicar', 1),\n",
       "  ('inocente', 1),\n",
       "  ('lesión', 1),\n",
       "  ('ley', 1),\n",
       "  ('llamar', 1),\n",
       "  ('llegar', 1),\n",
       "  ('maipú', 1),\n",
       "  ('mamá', 1),\n",
       "  ('mañana', 1),\n",
       "  ('medida', 1),\n",
       "  ('ministro', 2),\n",
       "  ('mixto', 1),\n",
       "  ('miércoles', 1),\n",
       "  ('modificación', 1),\n",
       "  ('morir', 1),\n",
       "  ('mujer', 2),\n",
       "  ('municipal', 1),\n",
       "  ('navideño', 1),\n",
       "  ('necesitar', 1),\n",
       "  ('ocurrir', 1),\n",
       "  ('operar', 1),\n",
       "  ('origen', 1),\n",
       "  ('pasar', 2),\n",
       "  ('perseguir', 1),\n",
       "  ('persona', 4),\n",
       "  ('personal', 1),\n",
       "  ('planificación', 1),\n",
       "  ('población', 1),\n",
       "  ('policía', 1),\n",
       "  ('precisar', 1),\n",
       "  ('preocupación', 1),\n",
       "  ('presencial', 1),\n",
       "  ('querer', 1),\n",
       "  ('recibir', 1),\n",
       "  ('recuperar', 1),\n",
       "  ('relacionado', 1),\n",
       "  ('repudiar', 1),\n",
       "  ('requerir', 1),\n",
       "  ('reunir', 1),\n",
       "  ('secretario', 1),\n",
       "  ('seguir', 1),\n",
       "  ('seguridad', 3),\n",
       "  ('sentenciar', 1),\n",
       "  ('sentido', 1),\n",
       "  ('social', 1),\n",
       "  ('temor', 1),\n",
       "  ('terminar', 1),\n",
       "  ('tipo', 1),\n",
       "  ('tranquilo', 1),\n",
       "  ('tratar', 1),\n",
       "  ('vida', 1),\n",
       "  ('vivir', 1),\n",
       "  ('vulnerir', 1)]]"
      ]
     },
     "execution_count": 67,
     "metadata": {},
     "output_type": "execute_result"
    }
   ],
   "source": [
    "# Term Document Frequency\n",
    "corpus = [id2word.doc2bow(text) for text in texts]\n",
    "[[(id2word[id], freq) for id, freq in cp] for cp in corpus[:1]]"
   ]
  },
  {
   "cell_type": "code",
   "execution_count": 68,
   "id": "f7bd247b",
   "metadata": {},
   "outputs": [],
   "source": [
    "# Build LDA model\n",
    "lda_model = gensim.models.ldamodel.LdaModel(corpus=corpus,\n",
    "                                           id2word=id2word,\n",
    "                                           num_topics=9, \n",
    "                                           random_state=100,\n",
    "                                           update_every=1,\n",
    "                                           chunksize=100,\n",
    "                                           passes=10,\n",
    "                                           alpha='auto',\n",
    "                                           per_word_topics=True)"
   ]
  },
  {
   "cell_type": "code",
   "execution_count": 69,
   "id": "1444c4e1",
   "metadata": {
    "scrolled": false
   },
   "outputs": [
    {
     "name": "stdout",
     "output_type": "stream",
     "text": [
      "[(0, '0.016*\"equipo\" + 0.015*\"partido\" + 0.014*\"jugar\" + 0.010*\"jugador\" + 0.009*\"ganar\"'), (1, '0.016*\"persona\" + 0.008*\"público\" + 0.007*\"entregar\" + 0.006*\"proceso\" + 0.006*\"medida\"'), (2, '0.019*\"carabinero\" + 0.011*\"investigación\" + 0.010*\"policía\" + 0.010*\"público\" + 0.009*\"caso\"'), (3, '0.011*\"vida\" + 0.011*\"mujer\" + 0.009*\"vivir\" + 0.008*\"dejar\" + 0.008*\"pasar\"'), (4, '0.024*\"caso\" + 0.018*\"país\" + 0.013*\"persona\" + 0.011*\"región\" + 0.010*\"contagio\"'), (5, '0.014*\"país\" + 0.010*\"unido\" + 0.009*\"internacional\" + 0.009*\"presidente\" + 0.007*\"empresa\"'), (6, '0.011*\"político\" + 0.009*\"presidente\" + 0.009*\"proyecto\" + 0.008*\"elección\" + 0.007*\"ministro\"'), (7, '0.012*\"serie\" + 0.010*\"favor_iniciar\" + 0.008*\"personaje\" + 0.008*\"película\" + 0.008*\"juego\"'), (8, '0.037*\"vehículo\" + 0.020*\"zona\" + 0.015*\"auto\" + 0.014*\"hora\" + 0.011*\"conductor\"')]\n"
     ]
    }
   ],
   "source": [
    "print(lda_model.print_topics(num_words=5))"
   ]
  },
  {
   "cell_type": "code",
   "execution_count": 70,
   "id": "3d7622c5",
   "metadata": {},
   "outputs": [
    {
     "name": "stderr",
     "output_type": "stream",
     "text": [
      "C:\\Users\\razor\\miniconda3\\envs\\nlp\\lib\\site-packages\\pyLDAvis\\_prepare.py:246: FutureWarning: In a future version of pandas all arguments of DataFrame.drop except for the argument 'labels' will be keyword-only\n",
      "  default_term_info = default_term_info.sort_values(\n"
     ]
    },
    {
     "data": {
      "text/html": [
       "\n",
       "<link rel=\"stylesheet\" type=\"text/css\" href=\"https://cdn.jsdelivr.net/gh/bmabey/pyLDAvis@3.3.1/pyLDAvis/js/ldavis.v1.0.0.css\">\n",
       "\n",
       "\n",
       "<div id=\"ldavis_el1232012511512036807066558517\"></div>\n",
       "<script type=\"text/javascript\">\n",
       "\n",
       "var ldavis_el1232012511512036807066558517_data = {\"mdsDat\": {\"x\": [-0.17893430729391263, -0.12736414445313748, -0.11095718037317293, -0.04732259958918203, -0.008051272591840719, 0.007256025772456026, 0.012463935634555808, 0.06651139931536404, 0.3863981435788699], \"y\": [0.04541123034183891, -0.07730806064665262, -0.0685989095213811, 0.15812502183840133, -0.23707693690950463, -0.1443096406526096, 0.22895063431783325, 0.13191450924596188, -0.03710784801388761], \"topics\": [1, 2, 3, 4, 5, 6, 7, 8, 9], \"cluster\": [1, 1, 1, 1, 1, 1, 1, 1, 1], \"Freq\": [21.390668151964785, 20.027760536427625, 14.358206429994421, 11.264630026516482, 9.850628633364716, 8.322265310963356, 6.764394723690277, 5.92448871509778, 2.09695747198056]}, \"tinfo\": {\"Term\": [\"caso\", \"pa\\u00eds\", \"carabinero\", \"partido\", \"persona\", \"pol\\u00edtico\", \"zona\", \"presidente\", \"veh\\u00edculo\", \"equipo\", \"hora\", \"regi\\u00f3n\", \"contagio\", \"proyecto\", \"p\\u00fablico\", \"elecci\\u00f3n\", \"jugar\", \"coronavirus\", \"vida\", \"creer\", \"vacuna\", \"mujer\", \"salud\", \"sector\", \"diputado\", \"investigaci\\u00f3n\", \"polic\\u00eda\", \"mill\\u00f3n\", \"registrar\", \"unido\", \"pol\\u00edtico\", \"elecci\\u00f3n\", \"diputado\", \"voto\", \"votar\", \"candidato\", \"parlamentario\", \"electoral\", \"presidencial\", \"oposici\\u00f3n\", \"senador\", \"plebiscito\", \"votaci\\u00f3n\", \"mandatario\", \"primario\", \"constitucional\", \"rechazo\", \"iniciativo\", \"debate\", \"exclusivo_suscriptor\", \"democracia\", \"senado\", \"candidatura\", \"proponer\", \"pensi\\u00f3n\", \"reforma\", \"pacto\", \"pi\\u00f1ero\", \"colectividad\", \"republicano\", \"aprobar\", \"proyecto\", \"independiente\", \"retiro\", \"derecho\", \"ley\", \"presidente\", \"creer\", \"tema\", \"ministro\", \"plantear\", \"gobierno\", \"sostener\", \"decisi\\u00f3n\", \"partido\", \"asegurar\", \"proceso\", \"social\", \"buscar\", \"pa\\u00eds\", \"se\\u00f1alar\", \"agregar\", \"deber\", \"trabajador\", \"ingreso\", \"municipio\", \"pago\", \"permiso\", \"incendio\", \"recinto\", \"protocolo\", \"accidente\", \"contrato\", \"cerrado\", \"establecimiento\", \"implementar\", \"preventivo\", \"horario\", \"laboral\", \"metropolitano\", \"municipalidad\", \"facilitar\", \"movilidad\", \"fiscalizaci\\u00f3n\", \"alumno\", \"financiero\", \"europeo\", \"sueldo\", \"r\\u00edo\", \"bombero\", \"presencial\", \"funcionamiento\", \"monto\", \"servicio\", \"suspensi\\u00f3n\", \"beneficio\", \"protecci\\u00f3n\", \"comuna\", \"promedio\", \"colegio\", \"recurso\", \"ingresar\", \"actividad\", \"entregar\", \"regional\", \"condici\\u00f3n\", \"acceder\", \"vecino\", \"informaci\\u00f3n\", \"persona\", \"medida\", \"sanitario\", \"autoridad\", \"permitir\", \"p\\u00fablico\", \"proceso\", \"plan\", \"deber\", \"situaci\\u00f3n\", \"explicar\", \"indicar\", \"necesario\", \"personal\", \"se\\u00f1alar\", \"encontrar\", \"regi\\u00f3n\", \"nacional\", \"tomar\", \"recibir\", \"generar\", \"hora\", \"agregar\", \"mantener\", \"contar\", \"contagio\", \"coronavirus\", \"vacuna\", \"aumento\", \"virus\", \"cifra\", \"activo\", \"paciente\", \"dosis\", \"enfermedad\", \"vacunaci\\u00f3n\", \"vacunar\", \"restricci\\u00f3n\", \"vacuno\", \"balance\", \"laboratorio\", \"s\\u00edntoma\", \"reino_unido\", \"ola\", \"disminuir\", \"reporte\", \"cuarent\\u00e9n\", \"doctor\", \"test\", \"confinamiento\", \"deceso\", \"mascarilla\", \"examen\", \"brote\", \"tasa\", \"positivo\", \"nivel\", \"habitante\", \"caso\", \"aumentar\", \"poblaci\\u00f3n\", \"salud\", \"n\\u00famero\", \"registrar\", \"pandemio\", \"pandemia\", \"pa\\u00eds\", \"regi\\u00f3n\", \"mill\\u00f3n\", \"diario\", \"semana\", \"m\\u00e9dico\", \"persona\", \"alto\", \"estudio\", \"nacional\", \"seguir\", \"mes\", \"hijo\", \"escribir\", \"padre\", \"actor\", \"amigo\", \"post_shared\", \"madre\", \"foto\", \"comentario\", \"dolor\", \"hija\", \"ni\\u00f1a\", \"pareja\", \"curso\", \"seguidor\", \"sentir\", \"costo\", \"cantante\", \"famoso\", \"car\\u00e1cter\", \"exitoso\", \"destruir\", \"c\\u00e1mara_alta\", \"negro\", \"televisi\\u00f3n\", \"amor\", \"estreno\", \"ojo\", \"disfrutar\", \"shared_by\", \"vida\", \"imagen\", \"compartir\", \"mujer\", \"mensaje\", \"video\", \"vivir\", \"cuerpo\", \"hablar\", \"joven\", \"pensar\", \"familia\", \"cosa\", \"dejar\", \"pasar\", \"gente\", \"casa\", \"publicar\", \"mostrar\", \"querer\", \"seguir\", \"creer\", \"contar\", \"volver\", \"hombre\", \"salir\", \"llegar\", \"recordar\", \"carabinero\", \"polic\\u00eda\", \"fiscal\", \"v\\u00edctima\", \"delito\", \"policial\", \"detener\", \"juez\", \"investigar\", \"imputado\", \"tribunal\", \"ocurrido\", \"manifestaci\\u00f3n\", \"condenar\", \"udi\", \"detenido\", \"incidente\", \"fiscal\\u00eda\", \"manifestante\", \"detenci\\u00f3n\", \"acusaci\\u00f3n_constitucional\", \"pena\", \"fallo\", \"denuncia\", \"acusado\", \"c\\u00e1rcel\", \"uniformado\", \"formalizar\", \"herido\", \"audiencia\", \"violencia\", \"justicia\", \"judicial\", \"sujeto\", \"investigaci\\u00f3n\", \"antecedente\", \"denunciar\", \"abogado\", \"funcionario\", \"penal\", \"p\\u00fablico\", \"encontrar\", \"acci\\u00f3n\", \"hombre\", \"caso\", \"da\\u00f1o\", \"ministerio\", \"persona\", \"ocurrir\", \"se\\u00f1alar\", \"estadounidense\", \"producci\\u00f3n\", \"chino\", \"tecnolog\\u00eda\", \"donald_trump\", \"vivo\", \"juzgar\", \"precio\", \"gasto\", \"mill\\u00f3n_d\\u00f3lar\", \"ruso\", \"distribuci\\u00f3n\", \"guerra\", \"invertir\", \"sexto\", \"fabricante\", \"vender\", \"activista\", \"financiar\", \"impuesto\", \"revista\", \"portavoz\", \"tecnol\\u00f3gico\", \"banco\", \"donald_trump \", \"federal\", \"d\\u00f3lares\", \"comisar\\u00eda\", \"fraude\", \"religioso\", \"unido\", \"internacional\", \"venta\", \"mesar\", \"boliviano\", \"mercado\", \"moral\", \"comunicado\", \"militar\", \"empresa\", \"venezolano\", \"pa\\u00eds\", \"organizaci\\u00f3n\", \"presidente\", \"econ\\u00f3mico\", \"incluir\", \"mill\\u00f3n\", \"pueblo\", \"principal\", \"declarar\", \"miembro\", \"movimiento\", \"crisis\", \"grupo\", \"afirmar\", \"oficial\", \"anunciar\", \"mes\", \"martes\", \"jugar\", \"jugador\", \"club\", \"f\\u00fatbol\", \"gol\", \"torneo\", \"colo_colo\", \"duelo\", \"entrenador\", \"futbolista\", \"selecci\\u00f3n\", \"peruano\", \"lista\", \"estadio\", \"mario\", \"cuadro\", \"cobrar\", \"disputar\", \"rival\", \"azul\", \"volante\", \"deporte\", \"cancha\", \"delantero\", \"libertador\", \"campe\\u00f3n\", \"derrotar\", \"cacique\", \"uruguayo\", \"seleccionado\", \"deportivo\", \"equipo\", \"argentino\", \"ganar\", \"partido\", \"ca\\u00edda\", \"punto\", \"encuentro\", \"chileno\", \"minuto\", \"quedar\", \"perder\", \"caer\", \"seguir\", \"nacional\", \"llegar\", \"fecha\", \"sumar\", \"terminar\", \"enfrentar\", \"dejar\", \"t\\u00e9cnico\", \"personaje\", \"pel\\u00edcula\", \"_\", \"actriz\", \"planeta\", \"restaurante\", \"estilo\", \"teatro\", \"robusto\", \"descripci\\u00f3n\", \"complicado\", \"femenino\", \"animal\", \"estrenar\", \"cultura\", \"enero_2021\", \"espacial\", \"premio\", \"emocional\", \"pantalla\", \"libro\", \"lanzamiento\", \"eclipse\", \"dise\\u00f1o\", \"monumento\", \"hoja\", \"glaciar\", \"productor\", \"formato\", \"pieza\", \"color\", \"juego\", \"generaci\\u00f3n\", \"serie\", \"versi\\u00f3n\", \"g\\u00e9nero\", \"favor_iniciar\", \"acabar\", \"historia\", \"mundo\", \"evento\", \"sesi\\u00f3n_tercero\", \"agua\", \"lanzar\", \"humano\", \"espacio\", \"formar\", \"modelo\", \"desarrollar\", \"contar\", \"papel\", \"futuro\", \"estudio\", \"forma\", \"presentar\", \"investigador\", \"incluir\", \"proyecto\", \"director\", \"generar\", \"auto\", \"playa\", \"kil\\u00f3metro\", \"cami\\u00f3n\", \"magnitud\", \"droga\", \"ruta\", \"mar\", \"delincuente\", \"tel\\u00e9fono\", \"aut\\u00f3nomo\", \"\\u00f1uble\", \"celular\", \"desecho\", \"viviendo\", \"nave\", \"superficie\", \"desaparecido\", \"normalmente\", \"el\\u00e9ctrico\", \"ileso\", \"choque\", \"hielo\", \"paradero\", \"avenida\", \"basura\", \"aterrizar\", \"acostumbrado\", \"rodilla\", \"\\u00e1ngel\", \"veh\\u00edculo\", \"conductor\", \"tr\\u00e1nsito\", \"sur\", \"zona\", \"norte\", \"robar\", \"hora\", \"metro\", \"da\\u00f1o\", \"calle\", \"sector\", \"registrar\", \"ciudad\", \"producir\", \"noche\", \"producto\"], \"Freq\": [6246.0, 6116.0, 2473.0, 2879.0, 8192.0, 3162.0, 1764.0, 3326.0, 1096.0, 2111.0, 2082.0, 3225.0, 1821.0, 2657.0, 3869.0, 2221.0, 1259.0, 1706.0, 1656.0, 2833.0, 1669.0, 1917.0, 2292.0, 1984.0, 2017.0, 1721.0, 1316.0, 2233.0, 1522.0, 1158.0, 3161.14992313698, 2220.6075378467167, 2016.6428050744307, 1599.5291045116464, 1537.7068907330477, 1401.249728212337, 1221.979092571771, 1109.8418080168863, 1075.2891619631523, 1058.6721224101489, 928.0766991000636, 899.8851365404521, 859.675203662814, 840.6216286446828, 803.2297729152154, 699.3899280121989, 606.341803339487, 603.2292839227863, 595.5434671507052, 574.5696583590785, 540.2897439528527, 504.6241716413341, 468.91569194862484, 444.1161569932158, 436.5848196399424, 426.2430488186804, 419.27869268362554, 414.98814726237873, 405.6639172781406, 398.99432457464854, 1431.8732657220098, 2345.257077231566, 805.0859025473512, 498.4880307354296, 2011.428659003273, 1806.475386415831, 2384.959508284672, 1920.233773495401, 1285.26619517587, 2063.1437436724204, 846.6112549749946, 1213.4469469754858, 1472.2595171046903, 1325.8154689140326, 1578.603405942343, 1327.5915004857718, 1200.3824201942073, 983.8350336551523, 1004.3888896650058, 1240.119922250502, 1031.538085485153, 977.06292571157, 945.888593600535, 1288.0664919016522, 720.9060869985841, 570.0138685486792, 540.6304759556059, 538.7317953065536, 522.0900888517959, 518.9763391889825, 516.2248128814394, 471.0624825958049, 467.5201149929264, 420.5434805097495, 397.9571733950119, 393.5714923272024, 384.5431518756162, 370.59415478643666, 365.9075029762312, 355.40843827541073, 327.54328054931426, 322.5269712059999, 317.06382149581543, 313.20734255563366, 311.67392233298597, 308.61709520142995, 305.37990814251947, 303.65394963796933, 293.976728414062, 290.4727602155235, 288.55757113030626, 265.4717109190133, 258.8002880176055, 1446.8029539009485, 290.78470651201826, 543.1801122077542, 726.9588194189452, 1489.296931530101, 411.3451242146717, 721.6125518424096, 973.1816937695817, 812.8955436715625, 825.093564006849, 1759.2704238302806, 758.0728012982979, 927.1703667868937, 483.3502919846227, 711.5764450344784, 1205.7131507472304, 4240.214622045834, 1539.8324721223325, 1532.7379942329371, 1511.668177924525, 1535.212756157124, 2014.1496124535722, 1575.7945216321707, 800.770894163676, 1413.5012584246056, 1499.2015121089144, 1364.6014061632131, 1407.0128716815518, 848.7340054352475, 980.8356542879129, 1419.1041434769736, 1381.213644006966, 1178.8398222715273, 1170.2891138783102, 1067.6619697527435, 1017.6770712061461, 973.9300160690386, 969.9284192546634, 1062.2348138460006, 985.8559629427208, 954.7156998735534, 1821.089283739766, 1705.3000475483773, 1668.6860193843356, 1077.5540756166224, 1012.6316640008898, 974.9863179166069, 936.8139304336189, 895.0049400534459, 873.033470591946, 850.543927713656, 844.8185611056011, 602.0495132128486, 546.5913405884264, 519.189456270225, 502.99500554338726, 455.53467752125704, 429.6548063260671, 414.4206626242098, 397.3589045694635, 374.1126451017858, 342.2061391560793, 333.56639400209207, 313.77964134642417, 308.5954363970612, 308.4987072267409, 305.465481362784, 300.2325776847039, 288.3944535190389, 281.72371933664596, 281.19055556567173, 797.9355038039605, 1543.7889352521681, 458.6814044063275, 4511.144282197603, 842.7168628054307, 922.3252933437553, 1716.833734597202, 1370.7729369259769, 1160.7177073701332, 1462.0290513601628, 1086.5616373750236, 3330.0545104482976, 1965.164742119844, 1461.1250097986403, 882.7573499058188, 1664.6457710703742, 1041.941788278621, 2487.5653826451544, 976.0631655911866, 783.4048724141674, 988.7209546808359, 1015.9984513652624, 927.9328689585786, 854.3578833495625, 766.126385547514, 730.5582820181443, 632.7304712683341, 490.1545720372226, 489.58470871696323, 476.0473513432847, 461.0412437334227, 418.52112565944634, 377.44746661680676, 363.67021664104595, 356.11911328151007, 351.75308145393495, 334.38664306563294, 328.3792479239802, 966.0804549182855, 301.5373223598619, 299.56365434713, 277.59760004161967, 271.012882989922, 245.35903805316346, 244.20302428801097, 244.92117993307696, 240.85848100301627, 239.87682234466482, 224.5763118495486, 223.90591823975336, 220.01918114218446, 215.83127599855817, 215.5484753640815, 1599.9200743003078, 857.8935593401501, 766.7556131538217, 1531.6881507743913, 717.466613438182, 588.7700504593519, 1335.7565107139994, 582.6565099446966, 984.714481486287, 881.3688026305452, 766.6662453796112, 875.7708350207034, 837.0911634314999, 1173.6784118290088, 1155.7629129899174, 971.1401863346229, 634.3777879239186, 560.27407690465, 714.5085468769734, 588.8634096784364, 1063.8153800102673, 912.7551573126195, 863.4430883986408, 710.4541183559946, 646.3749887891357, 679.7199928269588, 843.6949074979567, 604.2226248564225, 2473.0678826877142, 1315.7088739377873, 1115.174909832698, 1021.4856456904029, 966.4618456718565, 864.9463596819644, 843.2704050934399, 829.2185832011678, 740.6240835859968, 719.4757733595459, 706.6929837815289, 617.2958068813915, 590.0771313682073, 481.3259249546487, 455.77628930748114, 452.4648609696753, 413.9059432632487, 402.39594263330133, 401.1741788295627, 375.49158200919635, 354.0211478280991, 346.4134023376202, 326.88781002007147, 323.90755705381946, 320.319646383224, 306.43385587363605, 295.91048926639115, 289.50338760686685, 278.88548397858887, 271.6820646897685, 827.577732878657, 724.9008258644091, 628.8835727892787, 541.8333750496059, 1423.249290651113, 904.9284795880104, 746.7637839094326, 553.3911470465647, 788.219332504996, 533.1609344605466, 1255.3164005013894, 1118.8003276818508, 744.1172797567963, 673.7913791210016, 1159.1742615367716, 589.4047826547903, 687.9615793481216, 935.9509391070526, 612.7873730272704, 594.4800836775838, 734.5320617297507, 561.9455912205428, 486.8871033944553, 435.8847492596386, 289.7984710019232, 280.0077173538436, 274.1453005290307, 267.53752081447163, 251.25539261311636, 246.9313082299349, 246.5692976746857, 239.7355799903622, 228.74176475590608, 225.76163768673445, 209.22530740281707, 207.36022582340541, 204.21277570627913, 199.7452590725211, 194.77038786933954, 190.5353941688492, 187.78880214308523, 181.96801928106706, 181.1545326322702, 179.71357518225324, 171.021985641367, 168.279716950275, 166.79049059321235, 165.5666869965599, 165.13619032183945, 165.21441019191607, 1092.9478016847552, 981.7007535206625, 210.93517377039296, 358.2969856985815, 256.9571213342256, 474.9219623101148, 501.98723689456966, 501.75072799667663, 328.8248132397849, 798.5948350529712, 295.6442942185154, 1545.9439097300565, 389.5260564084953, 940.938754849436, 457.30035007166464, 503.1375438017987, 612.8060999935209, 308.3769396638122, 438.38678548713744, 368.6786867165339, 342.8686536190051, 328.71125698111774, 383.83544840373884, 435.5909624249355, 406.04491842110804, 339.4331769483427, 372.8514044054488, 364.6642330650615, 332.1490827469198, 1258.5176849634308, 838.1545276218158, 717.846925259409, 614.0055281645552, 438.0331942521544, 429.2827564158128, 416.1437544483716, 395.5994389833638, 370.2871653429865, 340.47211123619905, 327.255150475423, 295.95471526384273, 290.34816178289014, 286.4324691236077, 277.8044944360456, 274.6296337492769, 273.7833806883297, 234.55436557087162, 232.16557245660525, 223.8865232906444, 223.58659115349434, 199.4877162722212, 187.25777314712144, 171.40276644430116, 170.67525937236792, 162.89920489096934, 160.50853288447172, 156.37399498303472, 155.57092597488324, 153.20034288099848, 239.3218768745753, 1406.9978646249526, 647.2213772098736, 768.1281126020365, 1299.7040589141673, 347.3840174776698, 729.973803528495, 324.65527143610836, 745.60383065993, 437.5777914000005, 716.5261351140721, 478.12704822938747, 383.3445929190695, 738.3635346811368, 608.679142905715, 562.9919587863675, 407.1662245564065, 404.24214012354906, 396.825004839187, 383.776555321117, 371.55144653494733, 338.789822225573, 645.5343390894526, 637.2991607989559, 325.04770180424185, 243.95929356507924, 236.20920204515906, 234.23564056447137, 211.7966548153099, 204.27043581238595, 195.87361530244965, 189.97383440516333, 185.66165549585708, 183.32387420902958, 176.03063633154923, 174.48907551283062, 173.64444777209405, 170.29319147348656, 167.51394511122513, 167.20871777698292, 161.57652004308977, 159.59285369990576, 149.9598064469983, 337.80320493926854, 139.81643695264975, 139.74812238929425, 137.55945009016574, 137.5780675877052, 136.15019536719575, 125.67513554043019, 125.63404006091164, 122.79717107606989, 419.52546202681464, 612.9796743714277, 208.1028472361269, 897.573662167158, 322.858718175723, 196.0527275482473, 733.716271849786, 292.6009349577667, 420.1632069401395, 569.5016532948678, 360.7589618958129, 393.0733159050342, 304.04599042317665, 291.5029028835834, 309.5863370918082, 368.68971341335674, 447.7744234868514, 265.08391778943167, 362.23807893396435, 521.1040941441692, 248.62030371351943, 344.4360509140617, 351.5663478837887, 385.7098243268531, 397.0564819146799, 268.23336148212655, 297.53735597998457, 311.3930438095503, 277.8307926527846, 280.1996357176378, 402.08880807877995, 261.36419837530735, 260.61664069709815, 201.55813585150568, 198.8789173425276, 195.41090962167357, 181.43100173233532, 166.31775559948156, 162.37401103812837, 158.88692397289284, 148.5766855480266, 127.96668659567065, 123.0927138014852, 116.9168874455208, 113.6458062646627, 107.65725973067688, 104.9979706358795, 100.36787971867113, 97.61774649800175, 95.86814543096318, 95.01534911161592, 94.4695476292246, 91.87618616996336, 87.40226252008372, 81.10542400559655, 81.06186894781207, 76.83586972906562, 76.77163593631451, 75.5487758977257, 74.4671407884401, 1010.3694384066838, 289.5059920591409, 129.60815248744063, 196.11323099293992, 548.5953029028385, 234.95148444387894, 140.95783107548667, 380.5804805499075, 175.57899529853725, 255.58858488079528, 176.00229227764723, 205.82417650620002, 166.04208111201527, 143.10805429684385, 139.83352246228242, 129.68454542672663, 125.58073587059516], \"Total\": [6246.0, 6116.0, 2473.0, 2879.0, 8192.0, 3162.0, 1764.0, 3326.0, 1096.0, 2111.0, 2082.0, 3225.0, 1821.0, 2657.0, 3869.0, 2221.0, 1259.0, 1706.0, 1656.0, 2833.0, 1669.0, 1917.0, 2292.0, 1984.0, 2017.0, 1721.0, 1316.0, 2233.0, 1522.0, 1158.0, 3162.0550827636866, 2221.5124727509115, 2017.5477260624223, 1600.4339933232216, 1538.6118345187074, 1402.154598464424, 1222.8840026795724, 1110.7466867916733, 1076.194079549172, 1059.577013898619, 928.9816003891257, 900.7901283778737, 860.5800881514266, 841.5268538837392, 804.1346352178756, 700.2949954178556, 607.246866164008, 604.1345806439857, 596.4485091267437, 575.4746674828683, 541.1948384429339, 505.52907821322117, 469.82049721993616, 445.0216492371142, 437.4897131748376, 427.14792764412584, 420.1836240439521, 415.8931144526025, 406.56872610872733, 399.8992700936145, 1465.376433344156, 2657.4354147115596, 846.6681055321395, 506.29972072446594, 2326.3701693203807, 2252.8826648190793, 3326.6847742899, 2833.7747291982755, 1719.5476744502785, 3218.743736017761, 1001.2303686151754, 1664.265656366157, 2412.870581151543, 2070.4866872423872, 2879.100459762359, 2845.1198981639914, 2791.9288787429077, 1706.9718485105996, 1965.4454466863406, 6116.796705701086, 3967.0795882822163, 3037.440125580707, 2747.08790201618, 1288.9715653581782, 721.8111150112572, 570.9187391229792, 541.5354928909185, 539.636555110799, 522.9950218880277, 519.881277565149, 517.1297974098351, 471.96807829909295, 468.42582972630487, 421.4486733918705, 398.86194185491274, 394.47644440865037, 385.4482029512353, 371.49904409791446, 366.81251518719716, 356.3134430022347, 328.4481855994822, 323.4323071058549, 317.96876902976015, 314.1121617596218, 312.5787060603906, 309.5221477062027, 306.2855797571031, 304.5594531984583, 294.8817559947857, 291.3776578328032, 289.4624042757346, 266.3767517021942, 259.70508350447955, 1452.3063876515635, 291.9630158925947, 549.3401155294631, 750.0725381276094, 1615.3224818221056, 420.00249589876034, 766.5565939262074, 1070.2087884474188, 909.3010979331563, 929.7371714318672, 2192.010776834504, 871.8995656699708, 1138.5509932599896, 525.134958661033, 849.9504969545134, 1660.847784514987, 8192.917863911736, 2289.4330424923164, 2347.7737413094233, 2418.680235218556, 2501.6674512939085, 3869.788968026075, 2791.9288787429077, 1067.3670059032888, 2747.08790201618, 3148.452016891579, 2765.310766126771, 2971.4502724066315, 1327.8520659248818, 1835.5926457598764, 3967.0795882822163, 3835.598793160198, 3225.8549970070553, 3282.813048629446, 2593.9395462548337, 2351.1560988858305, 2095.8485732362687, 2082.147274063793, 3037.440125580707, 2586.033601160926, 2726.561441109223, 1821.9971340499576, 1706.2080842365824, 1669.5938177859234, 1078.462083861121, 1013.539450590383, 975.8943275256142, 937.7222266454177, 895.9127536962815, 873.941292905928, 851.4519202234638, 845.726583334433, 602.9573342248023, 547.4994541774582, 520.0972726280397, 503.90301301162447, 456.44323421076024, 430.5625866623973, 415.32882656407213, 398.2669241241883, 375.0209410887463, 343.1142688379015, 334.47455590136263, 314.6880396345448, 309.5033847982229, 309.4065523025837, 306.3734092253565, 301.1407326882947, 289.30319859458547, 282.63160326205394, 282.09847762446583, 849.8882138973335, 1824.275391295015, 481.2366733849846, 6246.4380149684275, 973.7169027018705, 1099.6756818370352, 2292.9600037589753, 1766.9475020373052, 1522.0191891924828, 2060.4477212975244, 1442.0685061166237, 6116.796705701086, 3225.8549970070553, 2233.5999901000705, 1178.0245369810214, 3115.584987418306, 1694.4205722478634, 8192.917863911736, 1685.9421842399313, 1202.8796249672328, 3282.813048629446, 3914.878876031799, 2686.1228834834906, 855.2544563267643, 767.0231165431992, 731.4549427138303, 633.6273736125445, 491.05142506135536, 490.4811424920506, 476.94443064133617, 461.9379285749982, 419.4182494474141, 378.34453120593923, 364.5668017056529, 357.01602955269476, 352.6499225204059, 335.2841859586251, 329.27585619015844, 968.8678882274204, 302.43510379371, 300.460195695214, 278.4941296495981, 271.91025323570705, 246.25665453643848, 245.1006725330564, 245.82187810194918, 241.75552512971626, 240.77366319959083, 225.472814399184, 224.8026625268734, 220.91614234553057, 216.7281269209925, 216.44492253954115, 1656.7831079313291, 950.1653735965895, 852.3678217898445, 1917.4082527952833, 826.9708883601535, 684.5164497862861, 1798.1169679188083, 740.9618943591557, 1518.6143647294764, 1313.1317022926664, 1104.516960911219, 1365.4173362033735, 1369.0571005049721, 2577.533315588369, 2560.4809768836876, 1928.8923523021033, 1010.8010625446334, 827.0001806328343, 1482.9992454930048, 1003.6208658202297, 3914.878876031799, 2833.7747291982755, 2726.561441109223, 1745.2052163541155, 1320.951600289279, 1694.1126664317273, 4130.4586484080555, 1238.6834544579676, 2473.9723021724303, 1316.6134213787784, 1116.0796147095934, 1022.3902011756887, 967.3662316483599, 865.8506996115365, 844.1751633593612, 830.1233598449978, 741.5289208946826, 720.3800654985398, 707.5975459559724, 618.2003573256181, 590.9816788296534, 482.2304716101307, 456.6822926770483, 453.36922740387314, 414.81078524461344, 403.30024885849485, 402.0786069280153, 376.3959722528592, 354.9258254539406, 347.31843555383267, 327.7924599491516, 324.812193976346, 321.2239827217617, 307.3383323530437, 296.81479316783305, 290.4080751723391, 279.7900179086533, 272.5867276805155, 893.3745952847852, 783.4722782614579, 671.4539937149704, 574.0895188619295, 1721.2745267076732, 1054.3235783842629, 874.6132321473493, 634.1248087822471, 1237.2953387094622, 680.2614352069011, 3869.788968026075, 3835.598793160198, 1561.1949114966092, 1320.951600289279, 6246.4380149684275, 1011.3600734615361, 1736.8106075299481, 8192.917863911736, 1435.0394475621138, 3967.0795882822163, 735.4295436522998, 562.8435515896467, 487.7846023202848, 436.7829523653314, 290.6958979659756, 280.90572384695423, 275.04390920822857, 268.43531202301705, 252.15316267264623, 247.82889489337876, 247.46678773835032, 240.63363271231032, 229.63927794447181, 226.6603509005841, 210.12354327329535, 208.25825453055802, 205.11069066445336, 200.643091543314, 195.66817856955643, 191.43304081713686, 188.68699349971692, 182.86551099507358, 182.05233270170197, 180.61161954509373, 171.91946643587963, 169.1772829165793, 167.68802123348533, 166.4650185326383, 166.03359546824623, 166.11285904384255, 1158.6874306785305, 1056.5858962939092, 219.82014925426114, 406.7761658669789, 277.5429931585117, 573.0582138352817, 614.3163261129317, 689.7279618211517, 401.72333401894207, 1480.657220274241, 363.0830389019493, 6116.796705701086, 647.8329672466521, 3326.6847742899, 1112.78834331259, 1412.0230681924613, 2233.5999901000705, 523.936032319414, 1366.403816687522, 851.3882962337871, 711.1786192491122, 627.8872110641561, 1061.9388808175377, 1964.7955917094814, 1611.9594297674826, 875.2455801090308, 1567.8886141074438, 2686.1228834834906, 1443.8190483483604, 1259.4219315126538, 839.0585064407383, 718.7510291936973, 614.9095593535181, 438.9371016330642, 430.1866719364321, 417.04767376477787, 396.50343171469046, 371.191119803062, 341.37614380613235, 328.1593770399845, 296.8595411534112, 291.2534188489376, 287.33771297516057, 278.7096622897503, 275.5338355148736, 274.68827012537787, 235.4585437364438, 233.06979228975896, 224.79128687488202, 224.49077782718885, 200.39211524776272, 188.16171532904352, 172.30682710990175, 171.57935731332074, 163.80330761982302, 161.41278731181941, 157.2779197987026, 156.47537157342697, 154.10501747815118, 258.56541501913085, 2111.8432111526845, 847.1585210584384, 1221.6557286870675, 2879.100459762359, 479.2326635890476, 1711.6088339647927, 496.7042752245453, 2315.382531723559, 875.4798298893705, 2506.962178267754, 1156.6640894923844, 723.1577264733457, 3914.878876031799, 3282.813048629446, 4130.4586484080555, 1217.72853690456, 1472.9474877497712, 1429.569879550354, 1492.2895546758996, 2577.533315588369, 827.9091466290289, 646.4306284815005, 638.195296507374, 325.94483444910026, 244.85560320995168, 237.1056126997281, 235.13239247104048, 212.69299418202866, 205.16725819261987, 196.77581544790638, 190.87068910833787, 186.55893852526745, 184.2209307478531, 176.92694812189796, 175.38522647658445, 174.54157601381272, 171.19053869737976, 168.41056100975652, 168.10526275560875, 162.47354140965237, 160.48903534793476, 150.85603192916935, 339.8991250744964, 140.71277781157306, 140.6443848440062, 138.45607443176453, 138.47732077420642, 137.04738152094697, 126.57159791253362, 126.5307342451072, 123.6936240970987, 436.39556369213665, 771.2268147132338, 234.92527554130723, 1492.1298282955884, 411.97441175460557, 219.83591350554164, 1510.8563633443164, 434.0763072586564, 844.5396814042613, 1578.9529890892272, 701.0067716734388, 835.9123896535052, 541.0729721372554, 504.10260791500247, 609.6578832215395, 962.9331800687943, 1526.4668059660423, 459.1841111273114, 1023.01060485826, 2726.561441109223, 395.2685621965437, 1098.0672764167434, 1202.8796249672328, 1724.084565620396, 2222.5917137715414, 659.6863741332054, 1412.0230681924613, 2657.4354147115596, 1174.5047987579328, 2095.8485732362687, 403.0009989080668, 262.27645013884194, 261.5286133825169, 202.4699629961261, 199.79185954344084, 196.32304410794936, 182.3429733869253, 167.23010940672998, 163.28630144191314, 159.79920532117544, 149.48961424369782, 128.87886667993976, 124.00506805438462, 117.83070298571741, 114.5596451373365, 108.56943277561793, 105.91027925597975, 101.28037723696106, 98.53106773378225, 96.78053069442682, 95.92937791875646, 95.38215971512795, 92.78914300598774, 88.3142753750043, 82.01728630928847, 81.97415776843788, 77.74848883457675, 77.68506877237766, 76.46277668673449, 75.3792304341962, 1096.0951589295996, 306.8778988260055, 144.56492539188966, 343.0147367719257, 1764.9812092724453, 463.7630630297135, 220.02958146325182, 2082.147274063793, 389.960050914365, 1011.3600734615361, 560.2324522467412, 1984.5834788287304, 1522.0191891924828, 1101.4214873788183, 1183.799961078867, 673.3231450308406, 1030.4671352359353], \"Category\": [\"Default\", \"Default\", \"Default\", \"Default\", \"Default\", \"Default\", \"Default\", \"Default\", \"Default\", \"Default\", \"Default\", \"Default\", \"Default\", \"Default\", \"Default\", \"Default\", \"Default\", \"Default\", \"Default\", \"Default\", \"Default\", \"Default\", \"Default\", \"Default\", \"Default\", \"Default\", \"Default\", \"Default\", \"Default\", \"Default\", \"Topic1\", \"Topic1\", \"Topic1\", \"Topic1\", \"Topic1\", \"Topic1\", \"Topic1\", \"Topic1\", \"Topic1\", \"Topic1\", \"Topic1\", \"Topic1\", \"Topic1\", \"Topic1\", \"Topic1\", \"Topic1\", \"Topic1\", \"Topic1\", \"Topic1\", \"Topic1\", \"Topic1\", \"Topic1\", \"Topic1\", \"Topic1\", \"Topic1\", \"Topic1\", \"Topic1\", \"Topic1\", \"Topic1\", \"Topic1\", \"Topic1\", \"Topic1\", \"Topic1\", \"Topic1\", \"Topic1\", \"Topic1\", \"Topic1\", \"Topic1\", \"Topic1\", \"Topic1\", \"Topic1\", \"Topic1\", \"Topic1\", \"Topic1\", \"Topic1\", \"Topic1\", \"Topic1\", \"Topic1\", \"Topic1\", \"Topic1\", \"Topic1\", \"Topic1\", \"Topic1\", \"Topic2\", \"Topic2\", \"Topic2\", \"Topic2\", \"Topic2\", \"Topic2\", \"Topic2\", \"Topic2\", \"Topic2\", \"Topic2\", \"Topic2\", \"Topic2\", \"Topic2\", \"Topic2\", \"Topic2\", \"Topic2\", \"Topic2\", \"Topic2\", \"Topic2\", \"Topic2\", \"Topic2\", \"Topic2\", \"Topic2\", \"Topic2\", \"Topic2\", \"Topic2\", \"Topic2\", \"Topic2\", \"Topic2\", \"Topic2\", \"Topic2\", \"Topic2\", \"Topic2\", \"Topic2\", \"Topic2\", \"Topic2\", \"Topic2\", \"Topic2\", \"Topic2\", \"Topic2\", \"Topic2\", \"Topic2\", \"Topic2\", \"Topic2\", \"Topic2\", \"Topic2\", \"Topic2\", \"Topic2\", \"Topic2\", \"Topic2\", \"Topic2\", \"Topic2\", \"Topic2\", \"Topic2\", \"Topic2\", \"Topic2\", \"Topic2\", \"Topic2\", \"Topic2\", \"Topic2\", \"Topic2\", \"Topic2\", \"Topic2\", \"Topic2\", \"Topic2\", \"Topic2\", \"Topic2\", \"Topic2\", \"Topic2\", \"Topic2\", \"Topic2\", \"Topic3\", \"Topic3\", \"Topic3\", \"Topic3\", \"Topic3\", \"Topic3\", \"Topic3\", \"Topic3\", \"Topic3\", \"Topic3\", \"Topic3\", \"Topic3\", \"Topic3\", \"Topic3\", \"Topic3\", \"Topic3\", \"Topic3\", \"Topic3\", \"Topic3\", \"Topic3\", \"Topic3\", \"Topic3\", \"Topic3\", \"Topic3\", \"Topic3\", \"Topic3\", \"Topic3\", \"Topic3\", \"Topic3\", \"Topic3\", \"Topic3\", \"Topic3\", \"Topic3\", \"Topic3\", \"Topic3\", \"Topic3\", \"Topic3\", \"Topic3\", \"Topic3\", \"Topic3\", \"Topic3\", \"Topic3\", \"Topic3\", \"Topic3\", \"Topic3\", \"Topic3\", \"Topic3\", \"Topic3\", \"Topic3\", \"Topic3\", \"Topic3\", \"Topic3\", \"Topic3\", \"Topic4\", \"Topic4\", \"Topic4\", \"Topic4\", \"Topic4\", \"Topic4\", \"Topic4\", \"Topic4\", \"Topic4\", \"Topic4\", \"Topic4\", \"Topic4\", \"Topic4\", \"Topic4\", \"Topic4\", \"Topic4\", \"Topic4\", \"Topic4\", \"Topic4\", \"Topic4\", \"Topic4\", \"Topic4\", \"Topic4\", \"Topic4\", \"Topic4\", \"Topic4\", \"Topic4\", \"Topic4\", \"Topic4\", \"Topic4\", \"Topic4\", \"Topic4\", \"Topic4\", \"Topic4\", \"Topic4\", \"Topic4\", \"Topic4\", \"Topic4\", \"Topic4\", \"Topic4\", \"Topic4\", \"Topic4\", \"Topic4\", \"Topic4\", \"Topic4\", \"Topic4\", \"Topic4\", \"Topic4\", \"Topic4\", \"Topic4\", \"Topic4\", \"Topic4\", \"Topic4\", \"Topic4\", \"Topic4\", \"Topic4\", \"Topic4\", \"Topic4\", \"Topic5\", \"Topic5\", \"Topic5\", \"Topic5\", \"Topic5\", \"Topic5\", \"Topic5\", \"Topic5\", \"Topic5\", \"Topic5\", \"Topic5\", \"Topic5\", \"Topic5\", \"Topic5\", \"Topic5\", \"Topic5\", \"Topic5\", \"Topic5\", \"Topic5\", \"Topic5\", \"Topic5\", \"Topic5\", \"Topic5\", \"Topic5\", \"Topic5\", \"Topic5\", \"Topic5\", \"Topic5\", \"Topic5\", \"Topic5\", \"Topic5\", \"Topic5\", \"Topic5\", \"Topic5\", \"Topic5\", \"Topic5\", \"Topic5\", \"Topic5\", \"Topic5\", \"Topic5\", \"Topic5\", \"Topic5\", \"Topic5\", \"Topic5\", \"Topic5\", \"Topic5\", \"Topic5\", \"Topic5\", \"Topic5\", \"Topic5\", \"Topic6\", \"Topic6\", \"Topic6\", \"Topic6\", \"Topic6\", \"Topic6\", \"Topic6\", \"Topic6\", \"Topic6\", \"Topic6\", \"Topic6\", \"Topic6\", \"Topic6\", \"Topic6\", \"Topic6\", \"Topic6\", \"Topic6\", \"Topic6\", \"Topic6\", \"Topic6\", \"Topic6\", \"Topic6\", \"Topic6\", \"Topic6\", \"Topic6\", \"Topic6\", \"Topic6\", \"Topic6\", \"Topic6\", \"Topic6\", \"Topic6\", \"Topic6\", \"Topic6\", \"Topic6\", \"Topic6\", \"Topic6\", \"Topic6\", \"Topic6\", \"Topic6\", \"Topic6\", \"Topic6\", \"Topic6\", \"Topic6\", \"Topic6\", \"Topic6\", \"Topic6\", \"Topic6\", \"Topic6\", \"Topic6\", \"Topic6\", \"Topic6\", \"Topic6\", \"Topic6\", \"Topic6\", \"Topic6\", \"Topic6\", \"Topic6\", \"Topic6\", \"Topic6\", \"Topic7\", \"Topic7\", \"Topic7\", \"Topic7\", \"Topic7\", \"Topic7\", \"Topic7\", \"Topic7\", \"Topic7\", \"Topic7\", \"Topic7\", \"Topic7\", \"Topic7\", \"Topic7\", \"Topic7\", \"Topic7\", \"Topic7\", \"Topic7\", \"Topic7\", \"Topic7\", \"Topic7\", \"Topic7\", \"Topic7\", \"Topic7\", \"Topic7\", \"Topic7\", \"Topic7\", \"Topic7\", \"Topic7\", \"Topic7\", \"Topic7\", \"Topic7\", \"Topic7\", \"Topic7\", \"Topic7\", \"Topic7\", \"Topic7\", \"Topic7\", \"Topic7\", \"Topic7\", \"Topic7\", \"Topic7\", \"Topic7\", \"Topic7\", \"Topic7\", \"Topic7\", \"Topic7\", \"Topic7\", \"Topic7\", \"Topic7\", \"Topic7\", \"Topic7\", \"Topic8\", \"Topic8\", \"Topic8\", \"Topic8\", \"Topic8\", \"Topic8\", \"Topic8\", \"Topic8\", \"Topic8\", \"Topic8\", \"Topic8\", \"Topic8\", \"Topic8\", \"Topic8\", \"Topic8\", \"Topic8\", \"Topic8\", \"Topic8\", \"Topic8\", \"Topic8\", \"Topic8\", \"Topic8\", \"Topic8\", \"Topic8\", \"Topic8\", \"Topic8\", \"Topic8\", \"Topic8\", \"Topic8\", \"Topic8\", \"Topic8\", \"Topic8\", \"Topic8\", \"Topic8\", \"Topic8\", \"Topic8\", \"Topic8\", \"Topic8\", \"Topic8\", \"Topic8\", \"Topic8\", \"Topic8\", \"Topic8\", \"Topic8\", \"Topic8\", \"Topic8\", \"Topic8\", \"Topic8\", \"Topic8\", \"Topic8\", \"Topic8\", \"Topic8\", \"Topic8\", \"Topic8\", \"Topic8\", \"Topic8\", \"Topic8\", \"Topic8\", \"Topic8\", \"Topic8\", \"Topic9\", \"Topic9\", \"Topic9\", \"Topic9\", \"Topic9\", \"Topic9\", \"Topic9\", \"Topic9\", \"Topic9\", \"Topic9\", \"Topic9\", \"Topic9\", \"Topic9\", \"Topic9\", \"Topic9\", \"Topic9\", \"Topic9\", \"Topic9\", \"Topic9\", \"Topic9\", \"Topic9\", \"Topic9\", \"Topic9\", \"Topic9\", \"Topic9\", \"Topic9\", \"Topic9\", \"Topic9\", \"Topic9\", \"Topic9\", \"Topic9\", \"Topic9\", \"Topic9\", \"Topic9\", \"Topic9\", \"Topic9\", \"Topic9\", \"Topic9\", \"Topic9\", \"Topic9\", \"Topic9\", \"Topic9\", \"Topic9\", \"Topic9\", \"Topic9\", \"Topic9\", \"Topic9\"], \"logprob\": [30.0, 29.0, 28.0, 27.0, 26.0, 25.0, 24.0, 23.0, 22.0, 21.0, 20.0, 19.0, 18.0, 17.0, 16.0, 15.0, 14.0, 13.0, 12.0, 11.0, 10.0, 9.0, 8.0, 7.0, 6.0, 5.0, 4.0, 3.0, 2.0, 1.0, -4.469, -4.8222, -4.9185, -5.1502, -5.1897, -5.2826, -5.4195, -5.5157, -5.5474, -5.5629, -5.6946, -5.7254, -5.7712, -5.7936, -5.8391, -5.9775, -6.1203, -6.1254, -6.1382, -6.1741, -6.2356, -6.3039, -6.3773, -6.4316, -6.4487, -6.4727, -6.4892, -6.4995, -6.5222, -6.5388, -5.261, -4.7676, -5.8368, -6.3161, -4.9211, -5.0286, -4.7508, -4.9675, -5.369, -4.8957, -5.7865, -5.4265, -5.2332, -5.3379, -5.1634, -5.3366, -5.4373, -5.6363, -5.6156, -5.4047, -5.5889, -5.6432, -5.6756, -5.301, -5.8814, -6.1162, -6.1691, -6.1727, -6.204, -6.21, -6.2153, -6.3069, -6.3144, -6.4203, -6.4755, -6.4866, -6.5098, -6.5468, -6.5595, -6.5886, -6.6703, -6.6857, -6.7028, -6.715, -6.7199, -6.7298, -6.7403, -6.746, -6.7784, -6.7904, -6.797, -6.8804, -6.9058, -5.1848, -6.7893, -6.1644, -5.873, -5.1558, -6.4424, -5.8804, -5.5813, -5.7613, -5.7464, -4.9892, -5.8311, -5.6297, -6.2811, -5.8944, -5.367, -4.1095, -5.1224, -5.1271, -5.1409, -5.1255, -4.8539, -5.0994, -5.7763, -5.208, -5.1492, -5.2433, -5.2127, -5.7181, -5.5735, -5.2041, -5.2312, -5.3896, -5.3969, -5.4886, -5.5366, -5.5805, -5.5847, -5.4937, -5.5684, -5.6005, -4.6219, -4.6876, -4.7093, -5.1466, -5.2088, -5.2467, -5.2866, -5.3322, -5.3571, -5.3832, -5.39, -5.7287, -5.8254, -5.8768, -5.9085, -6.0076, -6.0661, -6.1022, -6.1442, -6.2045, -6.2937, -6.3192, -6.3804, -6.397, -6.3974, -6.4072, -6.4245, -6.4647, -6.4882, -6.49, -5.447, -4.7871, -6.0007, -3.7148, -5.3924, -5.3022, -4.6808, -4.9059, -5.0723, -4.8415, -5.1383, -4.0183, -4.5457, -4.8421, -5.346, -4.7117, -5.1802, -4.31, -5.2455, -5.4654, -5.2327, -5.2054, -5.2961, -5.1361, -5.2451, -5.2926, -5.4364, -5.6917, -5.6929, -5.7209, -5.7529, -5.8497, -5.953, -5.9902, -6.0112, -6.0235, -6.0741, -6.0923, -5.0132, -6.1775, -6.1841, -6.2603, -6.2843, -6.3837, -6.3884, -6.3855, -6.4022, -6.4063, -6.4722, -6.4752, -6.4927, -6.5119, -6.5132, -4.5087, -5.1319, -5.2443, -4.5523, -5.3107, -5.5084, -4.6892, -5.5188, -4.9941, -5.1049, -5.2444, -5.1113, -5.1565, -4.8185, -4.8339, -5.008, -5.4338, -5.558, -5.3148, -5.5082, -4.9168, -5.07, -5.1255, -5.3205, -5.415, -5.3647, -5.1486, -5.4825, -3.9391, -4.5702, -4.7355, -4.8233, -4.8786, -4.9896, -5.015, -5.0318, -5.1448, -5.1738, -5.1917, -5.3269, -5.372, -5.5757, -5.6303, -5.6376, -5.7267, -5.7549, -5.7579, -5.8241, -5.8829, -5.9047, -5.9627, -5.9718, -5.983, -6.0273, -6.0622, -6.0841, -6.1215, -6.1477, -5.0338, -5.1663, -5.3083, -5.4573, -4.4916, -4.9444, -5.1365, -5.4362, -5.0825, -5.4735, -4.6171, -4.7323, -5.1401, -5.2394, -4.6968, -5.3732, -5.2186, -4.9107, -5.3343, -5.3646, -4.9845, -5.2523, -5.3957, -5.5063, -5.9145, -5.9489, -5.97, -5.9944, -6.0572, -6.0746, -6.076, -6.1042, -6.1511, -6.1642, -6.2403, -6.2492, -6.2645, -6.2866, -6.3119, -6.3339, -6.3484, -6.3799, -6.3843, -6.3923, -6.4419, -6.4581, -6.467, -6.4743, -6.4769, -6.4764, -4.5871, -4.6944, -6.2321, -5.7023, -6.0348, -5.4205, -5.3651, -5.3656, -5.7882, -4.9008, -5.8945, -4.2403, -5.6188, -4.7368, -5.4583, -5.3628, -5.1656, -5.8524, -5.5006, -5.6738, -5.7463, -5.7885, -5.6335, -5.507, -5.5772, -5.7564, -5.6625, -5.6847, -5.7781, -4.2387, -4.6452, -4.8002, -4.9564, -5.2941, -5.3143, -5.3454, -5.396, -5.4621, -5.5461, -5.5857, -5.6862, -5.7053, -5.7189, -5.7495, -5.761, -5.7641, -5.9187, -5.929, -5.9653, -5.9666, -6.0807, -6.1439, -6.2324, -6.2367, -6.2833, -6.2981, -6.3242, -6.3293, -6.3447, -5.8986, -4.1272, -4.9037, -4.7325, -4.2065, -5.526, -4.7834, -5.5937, -4.7622, -5.2952, -4.802, -5.2066, -5.4275, -4.772, -4.9651, -5.0432, -5.3672, -5.3744, -5.3929, -5.4264, -5.4587, -5.551, -4.7738, -4.7866, -5.4599, -5.7468, -5.7791, -5.7875, -5.8882, -5.9244, -5.9664, -5.997, -6.0199, -6.0326, -6.0732, -6.082, -6.0868, -6.1063, -6.1228, -6.1246, -6.1589, -6.1712, -6.2335, -5.4214, -6.3035, -6.304, -6.3198, -6.3197, -6.3301, -6.4101, -6.4105, -6.4333, -5.2047, -4.8255, -5.9058, -4.4442, -5.4666, -5.9655, -4.6457, -5.565, -5.2032, -4.8991, -5.3556, -5.2699, -5.5267, -5.5688, -5.5086, -5.3339, -5.1396, -5.6638, -5.3515, -4.9879, -5.7279, -5.4019, -5.3815, -5.2888, -5.2598, -5.652, -5.5483, -5.5028, -5.6168, -5.6083, -4.2086, -4.6393, -4.6422, -4.8992, -4.9125, -4.9301, -5.0044, -5.0913, -5.1153, -5.1371, -5.2041, -5.3535, -5.3923, -5.4438, -5.4722, -5.5263, -5.5513, -5.5964, -5.6242, -5.6423, -5.6512, -5.657, -5.6848, -5.7347, -5.8095, -5.81, -5.8636, -5.8644, -5.8805, -5.8949, -3.2872, -4.5371, -5.3407, -4.9266, -3.8979, -4.7459, -5.2568, -4.2635, -5.0372, -4.6617, -5.0347, -4.8782, -5.093, -5.2416, -5.2648, -5.3401, -5.3723], \"loglift\": [30.0, 29.0, 28.0, 27.0, 26.0, 25.0, 24.0, 23.0, 22.0, 21.0, 20.0, 19.0, 18.0, 17.0, 16.0, 15.0, 14.0, 13.0, 12.0, 11.0, 10.0, 9.0, 8.0, 7.0, 6.0, 5.0, 4.0, 3.0, 2.0, 1.0, 1.5419, 1.5418, 1.5418, 1.5416, 1.5416, 1.5416, 1.5415, 1.5414, 1.5414, 1.5414, 1.5412, 1.5412, 1.5412, 1.5411, 1.5411, 1.5409, 1.5407, 1.5407, 1.5407, 1.5406, 1.5405, 1.5404, 1.5403, 1.5402, 1.5401, 1.5401, 1.5401, 1.54, 1.54, 1.5399, 1.5191, 1.4172, 1.4919, 1.5267, 1.3968, 1.3214, 1.2094, 1.1531, 1.2511, 1.0975, 1.3745, 1.2263, 1.0482, 1.0965, 0.9413, 0.78, 0.6981, 0.9912, 0.8709, -0.0536, 0.1952, 0.408, 0.476, 1.6073, 1.6068, 1.6065, 1.6064, 1.6064, 1.6063, 1.6063, 1.6063, 1.6061, 1.6061, 1.6059, 1.6058, 1.6058, 1.6057, 1.6056, 1.6056, 1.6055, 1.6053, 1.6052, 1.6052, 1.6052, 1.6052, 1.6051, 1.6051, 1.6051, 1.605, 1.6049, 1.6049, 1.6046, 1.6046, 1.6043, 1.604, 1.5968, 1.5768, 1.5268, 1.5872, 1.5476, 1.513, 1.496, 1.4886, 1.3881, 1.4682, 1.4027, 1.5251, 1.4304, 1.2878, 0.9494, 1.2114, 1.1816, 1.138, 1.1198, 0.955, 1.0361, 1.3207, 0.9436, 0.8661, 0.9018, 0.8605, 1.1605, 0.9813, 0.58, 0.5867, 0.6014, 0.5766, 0.7203, 0.7707, 0.8417, 0.8441, 0.5574, 0.6437, 0.5587, 1.9404, 1.9403, 1.9403, 1.94, 1.94, 1.9399, 1.9399, 1.9398, 1.9398, 1.9398, 1.9398, 1.9393, 1.9392, 1.9391, 1.939, 1.9389, 1.9387, 1.9387, 1.9386, 1.9384, 1.9382, 1.9381, 1.938, 1.9379, 1.9379, 1.9379, 1.9378, 1.9377, 1.9376, 1.9376, 1.8778, 1.7739, 1.8928, 1.6154, 1.7964, 1.765, 1.6515, 1.687, 1.6698, 1.5978, 1.6578, 1.3328, 1.4452, 1.5164, 1.6523, 1.314, 1.4546, 0.7489, 1.3943, 1.512, 0.7408, 0.5919, 0.878, 2.1825, 2.1823, 2.1823, 2.1821, 2.1817, 2.1817, 2.1816, 2.1816, 2.1814, 2.1811, 2.181, 2.181, 2.181, 2.1808, 2.1808, 2.1806, 2.1805, 2.1805, 2.1803, 2.1802, 2.1799, 2.1798, 2.1798, 2.1798, 2.1798, 2.1795, 2.1795, 2.1794, 2.1794, 2.1794, 2.1486, 2.0813, 2.0777, 1.9589, 2.0415, 2.0328, 1.8863, 1.9432, 1.7503, 1.7848, 1.8184, 1.7394, 1.6916, 1.3968, 1.3881, 1.4973, 1.7176, 1.7941, 1.4533, 1.6503, 0.8806, 1.0506, 1.0336, 1.2848, 1.4688, 1.2703, 0.5951, 1.4656, 2.3173, 2.3169, 2.3168, 2.3167, 2.3167, 2.3166, 2.3166, 2.3165, 2.3164, 2.3164, 2.3164, 2.3162, 2.3161, 2.3158, 2.3156, 2.3156, 2.3155, 2.3154, 2.3154, 2.3152, 2.3151, 2.315, 2.3149, 2.3148, 2.3148, 2.3147, 2.3146, 2.3145, 2.3144, 2.3143, 2.2411, 2.2399, 2.2521, 2.2598, 2.1275, 2.1648, 2.1596, 2.1815, 1.8667, 2.074, 1.1918, 1.0856, 1.5766, 1.6444, 0.6333, 1.7777, 1.3916, 0.1482, 1.4667, 0.4195, 2.485, 2.4846, 2.4844, 2.4842, 2.4831, 2.483, 2.483, 2.4829, 2.4827, 2.4826, 2.4826, 2.4825, 2.4823, 2.4823, 2.482, 2.4819, 2.4818, 2.4818, 2.4816, 2.4815, 2.4815, 2.4813, 2.4813, 2.4813, 2.481, 2.4809, 2.4809, 2.4808, 2.4808, 2.4808, 2.4278, 2.4127, 2.445, 2.3593, 2.4092, 2.2984, 2.2843, 2.168, 2.286, 1.8688, 2.2808, 1.1108, 1.9775, 1.2234, 1.597, 1.4543, 1.1929, 1.9562, 1.3494, 1.6493, 1.7567, 1.8391, 1.4686, 0.9798, 1.1075, 1.539, 1.0499, 0.4894, 1.0168, 2.6928, 2.6924, 2.6922, 2.692, 2.6914, 2.6914, 2.6913, 2.6912, 2.6911, 2.6908, 2.6907, 2.6904, 2.6904, 2.6903, 2.6902, 2.6902, 2.6902, 2.6896, 2.6896, 2.6895, 2.6895, 2.689, 2.6887, 2.6882, 2.6882, 2.688, 2.6879, 2.6877, 2.6877, 2.6876, 2.6162, 2.2874, 2.4243, 2.2295, 1.8982, 2.3717, 1.8413, 2.2683, 1.5604, 2.0, 1.4411, 1.8101, 2.0588, 1.0254, 1.0083, 0.7006, 1.598, 1.4005, 1.4119, 1.3355, 0.7566, 1.8, 2.8247, 2.8247, 2.8233, 2.8224, 2.8223, 2.8223, 2.8219, 2.8217, 2.8215, 2.8214, 2.8213, 2.8212, 2.821, 2.821, 2.8209, 2.8208, 2.8207, 2.8207, 2.8205, 2.8205, 2.8201, 2.8199, 2.8197, 2.8197, 2.8196, 2.8196, 2.8195, 2.819, 2.819, 2.8188, 2.7867, 2.5964, 2.7048, 2.3178, 2.5823, 2.7116, 2.1038, 2.4317, 2.1279, 1.8063, 2.1618, 2.0715, 2.2497, 2.2783, 2.1484, 1.866, 1.5997, 2.2767, 1.7879, 1.1712, 2.3624, 1.6667, 1.596, 1.3287, 1.1037, 1.9262, 1.2688, 0.682, 1.3845, 0.8139, 3.8624, 3.8612, 3.8612, 3.8602, 3.8601, 3.86, 3.8597, 3.8592, 3.8591, 3.859, 3.8586, 3.8576, 3.8573, 3.8569, 3.8567, 3.8562, 3.856, 3.8556, 3.8554, 3.8552, 3.8551, 3.8551, 3.8548, 3.8543, 3.8535, 3.8535, 3.8529, 3.8529, 3.8527, 3.8525, 3.7832, 3.8064, 3.7555, 3.3056, 2.6961, 3.1847, 3.4194, 2.1652, 3.0667, 2.4892, 2.7068, 1.5985, 1.6491, 1.8239, 1.7287, 2.2176, 1.7599]}, \"token.table\": {\"Topic\": [8, 1, 5, 6, 2, 3, 8, 1, 2, 2, 1, 2, 5, 6, 7, 8, 9, 2, 3, 6, 3, 4, 8, 5, 5, 1, 2, 3, 4, 5, 6, 1, 2, 3, 4, 5, 7, 2, 6, 8, 9, 1, 2, 3, 5, 6, 7, 8, 2, 4, 4, 8, 2, 5, 1, 2, 3, 4, 6, 7, 8, 1, 3, 3, 4, 7, 1, 2, 3, 4, 5, 6, 9, 5, 2, 3, 3, 9, 1, 2, 3, 5, 6, 9, 9, 7, 3, 6, 9, 1, 2, 6, 7, 2, 3, 1, 2, 4, 5, 7, 8, 7, 4, 5, 7, 9, 1, 2, 4, 5, 9, 9, 7, 7, 1, 1, 4, 5, 4, 2, 4, 9, 1, 2, 3, 5, 5, 7, 9, 2, 1, 2, 3, 4, 7, 6, 9, 3, 2, 3, 4, 5, 6, 8, 9, 7, 7, 1, 1, 2, 7, 8, 9, 4, 6, 1, 4, 8, 2, 3, 2, 3, 5, 6, 5, 1, 2, 3, 7, 4, 9, 3, 1, 3, 1, 2, 3, 4, 8, 2, 3, 1, 4, 7, 8, 4, 1, 4, 1, 3, 6, 7, 3, 2, 4, 9, 8, 4, 4, 5, 2, 5, 9, 1, 1, 2, 3, 4, 5, 3, 1, 2, 4, 6, 7, 1, 2, 3, 4, 5, 6, 1, 2, 3, 4, 5, 6, 7, 7, 9, 5, 1, 5, 5, 6, 7, 3, 7, 1, 5, 7, 7, 9, 1, 2, 3, 5, 8, 8, 9, 4, 5, 5, 5, 3, 4, 6, 7, 1, 1, 2, 3, 5, 6, 8, 8, 4, 3, 7, 6, 3, 4, 6, 6, 3, 9, 7, 6, 8, 1, 2, 3, 6, 1, 1, 9, 8, 2, 6, 2, 3, 4, 5, 7, 8, 9, 1, 7, 8, 3, 1, 3, 4, 5, 7, 1, 2, 3, 5, 8, 7, 2, 3, 7, 8, 4, 8, 1, 2, 8, 2, 7, 6, 8, 8, 4, 1, 3, 8, 2, 2, 3, 8, 3, 1, 4, 1, 2, 3, 4, 5, 6, 8, 6, 2, 5, 2, 4, 4, 2, 3, 6, 8, 1, 2, 3, 7, 6, 8, 6, 2, 5, 2, 5, 1, 2, 3, 5, 6, 7, 8, 5, 1, 2, 3, 4, 6, 7, 8, 8, 4, 6, 2, 2, 5, 7, 1, 4, 7, 8, 7, 1, 4, 7, 6, 1, 8, 1, 2, 3, 4, 5, 7, 8, 1, 3, 4, 8, 1, 2, 3, 6, 7, 1, 2, 3, 4, 5, 6, 7, 6, 3, 8, 3, 6, 1, 4, 7, 5, 9, 4, 4, 4, 7, 8, 8, 4, 5, 1, 2, 3, 4, 5, 7, 9, 2, 1, 2, 3, 6, 8, 9, 4, 5, 8, 2, 6, 5, 2, 5, 1, 2, 3, 6, 8, 1, 3, 1, 2, 3, 4, 5, 6, 2, 3, 5, 6, 2, 5, 2, 1, 6, 7, 6, 3, 5, 6, 3, 8, 5, 4, 5, 1, 5, 7, 8, 5, 7, 7, 5, 6, 6, 9, 2, 3, 7, 8, 1, 5, 6, 7, 8, 1, 2, 5, 7, 8, 7, 1, 2, 3, 4, 5, 7, 8, 9, 4, 9, 1, 5, 5, 1, 2, 3, 4, 5, 6, 7, 9, 7, 1, 2, 3, 5, 6, 7, 3, 2, 3, 1, 4, 6, 6, 7, 1, 2, 3, 4, 5, 6, 7, 3, 6, 2, 9, 2, 1, 3, 5, 6, 5, 6, 1, 2, 3, 6, 6, 2, 3, 5, 1, 2, 3, 5, 1, 2, 4, 5, 7, 9, 1, 4, 6, 8, 2, 8, 1, 6, 7, 1, 3, 4, 6, 7, 8, 2, 1, 4, 6, 7, 9, 1, 4, 5, 1, 3, 4, 6, 7, 8, 2, 2, 2, 3, 4, 1, 2, 3, 5, 6, 7, 9, 1, 2, 3, 4, 1, 3, 7, 4, 1, 3, 4, 5, 6, 9, 9, 2, 3, 5, 9, 1, 3, 4, 7, 5, 1, 2, 3, 4, 5, 9, 1, 2, 3, 4, 5, 6, 7, 8, 4, 3, 1, 1, 2, 6, 3, 1, 4, 2, 1, 2, 3, 4, 1, 2, 3, 4, 8, 1, 6, 8, 9, 4, 1, 1, 7, 1, 2, 3, 4, 5, 7, 1, 3, 6, 8, 5, 5, 7, 1, 4, 7, 1, 1, 3, 4, 5, 7, 2, 1, 2, 3, 6, 8, 1, 2, 3, 4, 5, 8, 2, 3, 4, 5, 7, 8, 1, 1, 2, 3, 8, 8, 1, 2, 3, 8, 9, 1, 1, 2, 3, 5, 5, 5, 1, 6, 3, 7, 4, 6, 8, 2, 1, 2, 3, 5, 8, 1, 1, 6, 2, 1, 1, 2, 3, 6, 7, 8, 1, 2, 3, 6, 6, 1, 2, 3, 5, 6, 8, 9, 2, 3, 5, 6, 8, 9, 8, 2, 7, 1, 2, 3, 2, 1, 8, 3, 4, 6, 1, 6, 1, 2, 3, 7, 8, 9, 1, 2, 3, 5, 1, 2, 3, 4, 5, 7, 1, 4, 1, 1, 2, 3, 4, 5, 6, 7, 2, 1, 2, 3, 4, 7, 1, 2, 1, 1, 2, 3, 3, 5, 9, 1, 2, 3, 5, 3, 6, 3, 1, 8, 3, 1, 2, 6, 7, 6, 9, 8, 9, 6, 9, 2, 1, 2, 3, 4, 5, 7, 9, 2, 3, 2, 3, 1, 2, 5, 9, 4, 1, 2, 3, 4, 5, 6, 7, 8, 7, 7, 1, 2, 3, 4, 5, 7, 1, 1, 1, 4, 1, 2, 5, 7, 8, 2, 6, 2, 3, 6, 8, 6, 1, 2, 3, 4, 5, 8, 4, 1, 2, 3, 4, 5, 7, 1, 2, 3, 1, 2, 3, 4, 5, 7, 2, 5, 9, 1, 2, 3, 4, 5, 7, 8, 9, 3, 5, 9, 2, 3, 3, 8, 6, 6, 4, 9, 1, 2, 4, 1, 3, 4, 5, 7, 3, 1, 2, 3, 4, 5, 7, 8, 7, 2, 5, 2, 9, 2, 7, 5, 3, 6, 5, 7, 3, 3, 3, 3, 2, 4, 9, 5, 9, 6, 4, 6, 2, 6, 5, 8, 4, 5, 8, 4, 5, 1, 5, 3, 9, 1, 2, 3, 4, 6, 7, 1, 2, 3, 4, 7, 1, 1, 1, 5, 2, 3, 7, 9, 9, 9], \"Freq\": [0.9971012442927737, 0.05834813507936018, 0.8720680729428698, 0.06780999482195912, 0.2741453472812801, 0.05068233311082489, 0.6749965273396223, 0.07807516777123365, 0.9197635617928257, 0.9979488479335684, 0.089034366546039, 0.1844740832033038, 0.4765580482752015, 0.17166338298085215, 0.04932119585643886, 0.02882407550051622, 0.9911814614673901, 0.8873475486942575, 0.11185956977479125, 0.9967948483131542, 0.9992298074793413, 0.9990098697772989, 0.9965056825380547, 0.9973914959477618, 0.9961896284598966, 0.3821436126893436, 0.127174416560577, 0.061415937753644505, 0.10049880723323647, 0.07692501294395877, 0.2518673810907037, 0.3216524308650246, 0.34963652157487835, 0.05893120278898609, 0.14782184386734498, 0.11094868904965537, 0.010864411687354976, 0.1959070318764891, 0.020329975006050757, 0.5618465819854027, 0.2199333659745491, 0.05456889379719513, 0.14176049584271344, 0.578904786370244, 0.033808988548262205, 0.12396629134362808, 0.06405913619670733, 0.001779420449908537, 0.9981486068974936, 0.9978588290193354, 0.9979030092809907, 0.9947608426430363, 0.14132283774620744, 0.858370256109515, 0.13330028556842222, 0.22386794370581914, 0.26787617195568103, 0.017858411463712066, 0.23789955271302146, 0.01339380859778405, 0.10587486796343583, 0.9772233041390005, 0.022519810779739535, 0.10151582951978308, 0.13338707832250568, 0.7637295546430193, 0.4667641602229077, 0.2260010203488928, 0.06432066364517477, 0.15605669212271914, 0.017925430851933953, 0.06888989111723637, 0.9903729468469891, 0.9978475559484937, 0.1335090308479558, 0.8657547154217441, 0.9995715344396099, 0.9975161378984693, 0.014057253003073266, 0.6251343100190229, 0.26874160152934184, 0.0802090318410651, 0.011990009914386021, 0.9967247608057932, 0.9875966841251945, 0.9964799041551711, 0.9982079626668086, 0.9966136201722003, 0.9881162820703849, 0.009101829374286488, 0.9884586700475125, 0.9259826633534247, 0.07206090765396302, 0.9952719167178091, 0.9977652772911304, 0.5108256765369409, 0.1821470041834909, 0.06716034791123128, 0.020351620579160994, 0.08954713054830837, 0.12974158119215135, 0.9918747666529529, 0.18529844195053205, 0.2364629371159775, 0.5296216661720431, 0.04839884677812405, 0.019634706907616463, 0.11959321480093664, 0.2659610299304412, 0.2802408167723441, 0.3141553105218634, 0.997678850782745, 0.9950959011054439, 0.9938259739660005, 0.9991765540934727, 0.9982535942454804, 0.9984683638571519, 0.9996069874462311, 0.9966523761981201, 0.29877293484410516, 0.6272253003018631, 0.07320926218034364, 0.08452817409453935, 0.00768437946313994, 0.7221715782963389, 0.18554574578706648, 0.2733536546088506, 0.7240741843455814, 0.9918949437296882, 0.998935402054396, 0.3399006381093154, 0.12740875253144607, 0.010365457833066798, 0.19996695736291364, 0.3221929809778263, 0.998391498385655, 0.9855092428263738, 0.9990835815924027, 0.26057236334022094, 0.21880815179440155, 0.08534425837623962, 0.007263341138403371, 0.21063689301369776, 0.08716009366084046, 0.12983222284896026, 0.9989550913136921, 0.9974943592419737, 0.998601156281324, 0.05739954538077545, 0.9418743582936335, 0.9974878800897742, 0.9624295821125642, 0.03666398408047864, 0.9990027867219293, 0.9972065089906734, 0.09972220657217298, 0.8998462640100786, 0.997003957410533, 0.9217973604381385, 0.07738392884806401, 0.17398163717062165, 0.028996939528436943, 0.06959265486824867, 0.7278231821637673, 0.9974483744131261, 0.1352596422221327, 0.8141927814280325, 0.02634928095236351, 0.02371435285712716, 0.05539662538434776, 0.9450012565565207, 0.9954540319456191, 0.9981507858454951, 0.9994527246880235, 0.11332955690677275, 0.3502580156827443, 0.02860746096675817, 0.3165158822347731, 0.19108316876514111, 0.9990909345743089, 0.9992919478885701, 0.304589194889089, 0.6113696789500419, 0.07377340211941963, 0.009495586411410448, 0.9985613317096721, 0.6775415068166698, 0.32218510193938515, 0.5216872741051736, 0.1158258749367082, 0.36160273150972316, 0.9980625409802173, 0.9985811898304677, 0.0769270328662424, 0.7868150905441985, 0.13630930385071022, 0.996897151806571, 0.9961698582503872, 0.9966566112491895, 0.9956454102461051, 0.16413540968830156, 0.5823840741349977, 0.2531244872301518, 0.9992480337868556, 0.34436466314226744, 0.5147268855001756, 0.05205512349824973, 0.06333980062024792, 0.02584555082780231, 0.9955172048748321, 0.6404291358985049, 0.2303806167598694, 0.04588293205909349, 0.06327014841832891, 0.019802107520240347, 0.13742260789531968, 0.19262656149429425, 0.03758567053547205, 0.06225126682437558, 0.1362480556910862, 0.4334097633621621, 0.1567390021912402, 0.08108527588606237, 0.002715774790442281, 0.45547422913989105, 0.1412202891029986, 0.018622455705889926, 0.14432403172064692, 0.9924156974403097, 0.9921224166965976, 0.998587678995129, 0.9977922212887846, 0.9974994966586594, 0.8540918117211268, 0.14520704161791578, 0.9930530437984473, 0.06961487869005299, 0.9243308892734814, 0.8644368065411911, 0.12293830267070148, 0.01203591774398476, 0.9974426604069355, 0.9873580917459912, 0.05767291142419248, 0.25512932002905486, 0.26392688278867743, 0.06842548813039785, 0.35385752433148604, 0.9954383299373762, 0.9929500294518475, 0.9955093043128719, 0.9962912136266925, 0.998607915264073, 0.9969798845596254, 0.7495599389320917, 0.08064348153856027, 0.15449593305282072, 0.015279817554674576, 0.9997285189067169, 0.03575975172210111, 0.4819052255883149, 0.10727925516630332, 0.12771339900750395, 0.011068494580650342, 0.2366954994939073, 0.9954183393477037, 0.9966403672133524, 0.997277642454359, 0.9980525500193483, 0.9973668156642598, 0.9978135818719268, 0.9964462782066555, 0.997606096367906, 0.9946517607636797, 0.9989229334812662, 0.9932608822669748, 0.9987303219230327, 0.9958970162064985, 0.9949345196459164, 0.2552147510411352, 0.33249809114514095, 0.000898643489581462, 0.4106800747387282, 0.999769313583787, 0.999327761405411, 0.9919350442818788, 0.9970854244602301, 0.45993089465627174, 0.5396252346995023, 0.3600480849203148, 0.1460006716548706, 0.09333614366507799, 0.2917406278246432, 0.041714477615677314, 0.05370738993018454, 0.013557205225095128, 0.3442692332831159, 0.6543128702749279, 0.9930455344878356, 0.9994692357692432, 0.5260373213364004, 0.08845468333299981, 0.04355723042912869, 0.08443401590877254, 0.2573227151505449, 0.05200704358061053, 0.802459558406087, 0.049726032897250416, 0.023266308970273132, 0.07207993759417951, 0.9967910875570138, 0.24102168063990795, 0.0350404800930318, 0.6662426417688615, 0.05729592015211957, 0.998666120327885, 0.997562142140642, 0.24196902217384794, 0.3738577166634561, 0.38320415958004245, 0.9978389969950398, 0.9953444573588702, 0.9994159282068454, 0.9967418100220284, 0.9921018063812268, 0.9964294794472132, 0.05569967152933123, 0.6509379523502441, 0.29263111012424764, 0.995802676188273, 0.3523503766024445, 0.1312398163863356, 0.5149736273420342, 0.9954953882262059, 0.9991751722366086, 0.9948969722714538, 0.1251215611056346, 0.49361540725199776, 0.19816940891875076, 0.08715114516317324, 0.0050627221256615155, 0.013018428323129612, 0.07774894692980185, 0.9939582009203223, 0.9986633768601435, 0.997582433869057, 0.3581322625943028, 0.6415620900462358, 0.9982257089216932, 0.11649022651658283, 0.2998299580227956, 0.0972958141928277, 0.48581719467711254, 0.04352365769034605, 0.2767447668235211, 0.34490445716878004, 0.3342288430183178, 0.9930411288307556, 0.9933724645571127, 0.9965851444295072, 0.9983130521997465, 0.9990326723153399, 0.9964593482996914, 0.9967759780407399, 0.23142716311970668, 0.37585163333726795, 0.10614328534061734, 0.034221059208177175, 0.015080466769705196, 0.013340412911662288, 0.22388692973485408, 0.9985948215382889, 0.3013494942714353, 0.29152288032780155, 0.02030833548350977, 0.013757259521087263, 0.011791936732360512, 0.06747608241295182, 0.2934882031165283, 0.9958054914620262, 0.9979695787745952, 0.9937747811499757, 0.9948315620886713, 0.3620800838603967, 0.6368730046473049, 0.9959688342870442, 0.5919491582711632, 0.006374837089074065, 0.08742633722158719, 0.3132777083773541, 0.9985208241770149, 0.28404074229073223, 0.0867674889994744, 0.6286550146377012, 0.9954267372242191, 0.11067348943229562, 0.8853879154583649, 0.3301765255547351, 0.46472823105536415, 0.031013690984187547, 0.026719487617146192, 0.0014314011223471176, 0.012405476393675018, 0.13359743808573096, 0.3426837164920617, 0.15345594566059043, 0.503397713636599, 0.9923575225639252, 0.7288499857940507, 0.039056264696301156, 0.1814614144351223, 0.049871845689123014, 0.9978650662484951, 0.12469490517679571, 0.22445082931823226, 0.09721113015823665, 0.029010651408479003, 0.20816414782575282, 0.22190603533503236, 0.09466633617503674, 0.9972161646291782, 0.10462348773336443, 0.8915740693799752, 0.9537926458751087, 0.04571555165414465, 0.2403506831472785, 0.6486175969864912, 0.11062716374998025, 0.9971763899421486, 0.9914953088214554, 0.9984452733957094, 0.9985332361410286, 0.3990339440766739, 0.10301469772899297, 0.497312333864104, 0.9965530761893876, 0.4890413849065557, 0.5102382251192238, 0.07060019328656586, 0.46586522100659106, 0.03842187389745081, 0.052830076608994865, 0.05042870949040419, 0.13879901945454107, 0.1829841744366095, 0.9986566746110309, 0.06397030379385425, 0.06561056799369668, 0.0688910963933815, 0.2919670275719502, 0.5084819019511492, 0.9903118529597518, 0.90300070265903, 0.056832212055463426, 0.03999303811310389, 0.9987922107507216, 0.9977378992921576, 0.9980842536257791, 0.9980974543802813, 0.998045409440993, 0.1536802088352444, 0.15084739392583899, 0.12818487465059555, 0.3562264748577324, 0.2110447107507043, 0.9507857857643631, 0.04842511455445825, 0.12115296134787054, 0.47350615726792733, 0.17903715399185313, 0.00841340009360212, 0.16961414588701876, 0.04778811253166004, 0.7261351770127357, 0.16858859831141457, 0.044555558125159565, 0.06021021368264806, 0.894093278725772, 0.10557559010784023, 0.9988762780256653, 0.9981219736788179, 0.9294085823447698, 0.0700368992805631, 0.9970866060254459, 0.1173549000265348, 0.8267129838502922, 0.05519166090356835, 0.5927058907556705, 0.4062536540217895, 0.999286715757432, 0.6709151857820623, 0.3282229796504754, 0.06255082312881266, 0.9367730416195992, 0.2035717599606252, 0.7948375086360716, 0.9986467555313615, 0.9987384593176603, 0.9996649800181365, 0.9253677763925366, 0.07402942211140294, 0.9962045725308599, 0.9979787550750949, 0.997784930574731, 0.9990289390278144, 0.0029420493500265056, 0.9944126803089588, 0.03769073934885023, 0.11703966429379807, 0.14481178802452982, 0.12100711054104546, 0.5792471520981193, 0.8016396185218253, 0.10653018186336549, 0.09099453034162469, 0.9966233856893241, 0.9943255041364785, 0.9956964664865009, 0.17843054796930397, 0.20021989575388655, 0.2023988305323448, 0.20433566144652993, 0.029052463712776765, 0.13630447558577766, 0.023968282563040833, 0.02566300961295281, 0.9980198308635951, 0.996036577539994, 0.9993739309906656, 0.998338901416373, 0.99731742273916, 0.09937999254326285, 0.3812788818974987, 0.30432705887761813, 0.11562108081881553, 0.031322098817137316, 0.012760855073648537, 0.054910346074487644, 0.9926442109552284, 0.997453757849943, 0.1807705753006707, 0.06787554168377674, 0.24726090184804383, 0.12882500768553545, 0.22994571264299876, 0.14475498175417692, 0.996211961503476, 0.6726556188441875, 0.32715523280149117, 0.10520321963511574, 0.8670196376825056, 0.025393880601579658, 0.8288861210469147, 0.16926727103484362, 0.10386717663421997, 0.2069897856940011, 0.34547935453962775, 0.17125054212093616, 0.01154079740380222, 0.13588358233509065, 0.024943013743701573, 0.1180010138934655, 0.8800908952887635, 0.5487741616050672, 0.45132828244155065, 0.9963137989092754, 0.41339825473158304, 0.037965145842696404, 0.06608747609654558, 0.48229796385351353, 0.17922782647374189, 0.8189715959702928, 0.030891833947809356, 0.04029369645366438, 0.654101005764485, 0.2744448436232918, 0.9966553742906558, 0.4007345400716058, 0.20267034210517995, 0.3961283959328517, 0.6409332861498162, 0.10563127352929592, 0.1957285362454601, 0.05747584000858749, 0.06053823079704453, 0.11879200005457795, 0.149632230837978, 0.052542615408755634, 0.500297077152934, 0.11764976928482239, 0.12195543931717986, 0.1742220561673998, 0.12413321501927237, 0.5771105610545119, 0.9972850608275929, 0.9967059991146195, 0.1758051925518027, 0.8171685801944905, 0.004883477570883409, 0.11328394165443455, 0.2906272550777458, 0.4821310612078613, 0.03304114964921007, 0.061362135062818714, 0.01955496611892025, 0.9969532572877637, 0.28030511993023655, 0.052557209986919345, 0.5239794571423171, 0.02388964090314516, 0.11785556178884944, 0.0020861493602985287, 0.7989952049943365, 0.19870572656843488, 0.050033155227483264, 0.19759929659461747, 0.18999932364867064, 0.17163272236263247, 0.0291332296261295, 0.3609987149324742, 0.9986354450438989, 0.9983907707699513, 0.21777355990813707, 0.614959483534631, 0.16701874648781245, 0.13098522323088801, 0.35640165390729994, 0.3012660134310424, 0.02162779267300709, 0.0042646351749591445, 0.1855116301107228, 0.9947551280221314, 0.30274456795004273, 0.6393784532079261, 0.05798838739341614, 0.996874838209754, 0.039467725291677976, 0.8463634423659833, 0.1140178730648475, 0.9971541066266192, 0.07128820738488267, 0.09653611416702863, 0.28366765855234566, 0.2688159486804951, 0.08762508824391829, 0.19307222833405727, 0.9946101494077266, 0.1423140505602779, 0.20268970837372913, 0.14878287104029053, 0.5067242709343228, 0.10696412869204175, 0.7759143938454457, 0.07810079237831619, 0.03905039618915809, 0.9980583037337426, 0.12682578190389598, 0.13309738650353917, 0.1519122003024688, 0.1226447121708005, 0.427165957731254, 0.03762962759785925, 0.02513580245359185, 0.06626711555946943, 0.13481930406926537, 0.11882379341697966, 0.12339393931763272, 0.38731986508034716, 0.09026038153789802, 0.05255667785751023, 0.9958529859529339, 0.9968189070006898, 0.9994554299583227, 0.38898915729933053, 0.009261646602365014, 0.6020070291537258, 0.9989812024747771, 0.9971830790725241, 0.9993780304332317, 0.9990111582750378, 0.05824965987656533, 0.11511242308940292, 0.7537783367360299, 0.07281207484570666, 0.10919956748929835, 0.13929011497523833, 0.7095545229749075, 0.041253169940401596, 0.9969528426233322, 0.07083791294810149, 0.2985312045669991, 0.6299514401456168, 0.9851182000936591, 0.9981570320056762, 0.9992771164904968, 0.5484351873328972, 0.4515299199067552, 0.10974500593322108, 0.22183332160167107, 0.09138907967392787, 0.45147767565410524, 0.00234330973522892, 0.12341431272205644, 0.20272048584584693, 0.5444025950537663, 0.252746670256193, 0.9981270678209078, 0.9962039574670711, 0.7835222936574207, 0.2146233674934023, 0.24173463101890877, 0.6944212059606855, 0.06337612049184874, 0.9988806292808948, 0.13919339371092324, 0.01988477053013189, 0.36484231146589813, 0.06311253255215774, 0.4132574049305671, 0.9988204003143035, 0.266222434822635, 0.6135907469260432, 0.016389068810402457, 0.008794134483630586, 0.09473681239183858, 0.031490612292897686, 0.5175201400073108, 0.3036769123439126, 0.03307734857122199, 0.11424501203934975, 0.9993338365131118, 0.5344323002524874, 0.06591876486294697, 0.09206835753585155, 0.3067129307259433, 0.9971045527117923, 0.9943924021778664, 0.9978525384971135, 0.015927042812807653, 0.7504447819446429, 0.16957616171283443, 0.06370817125123061, 0.9953370454324577, 0.8459591584017823, 0.07990169146652017, 0.04394593030658609, 0.02996313429994506, 0.9951331881373023, 0.9991228496483454, 0.05456154118073115, 0.07456743961366591, 0.838429016143902, 0.031827565688759836, 0.9990174984995471, 0.999534091504144, 0.9996663300492652, 0.9952669533453091, 0.9389470132084905, 0.06000789182159526, 0.9990190397746874, 0.9983783354740612, 0.9934251745751971, 0.9984025411628442, 0.2965007004735635, 0.19481760744317603, 0.16107321816318018, 0.1691718715903792, 0.178620300588778, 0.9988904607710978, 0.7169299653614136, 0.28286419178410493, 0.9988371901910462, 0.9985889984485394, 0.21296778920411033, 0.11416829936715192, 0.09294470525402752, 0.320549455915465, 0.07245295921376949, 0.18588941050805505, 0.4298103755924869, 0.5644842932781328, 0.0017908765649686954, 0.00393992844293113, 0.9985012680925911, 0.07180267173056372, 0.005913161201340542, 0.26440277943136997, 0.2373711853680989, 0.13684744494530968, 0.16472377632305796, 0.11826322402681085, 0.5977871384117077, 0.04658081598013307, 0.0349356119850998, 0.10577726962155218, 0.09219119829401337, 0.1222746419478493, 0.9954839954463669, 0.9785656133316637, 0.01904750585560416, 0.9977042707048845, 0.9692395908998284, 0.029330496560930154, 0.9978152537032406, 0.8824297241686788, 0.11703012546544098, 0.14631193902207953, 0.6771461640691284, 0.17533248891075645, 0.41035543794958296, 0.587858022737077, 0.3084816983428007, 0.1635887794242125, 0.05667182715767361, 0.42649931778455397, 0.02044859742802656, 0.023954071272831116, 0.07726519520068706, 0.5204418165022867, 0.07778201924885218, 0.3243070902236196, 0.1950567919368797, 0.17989900442440232, 0.040287803651584554, 0.1759101129737504, 0.12285785668007965, 0.2860035170117438, 0.41250636978501837, 0.5868750043559803, 0.9979466898332725, 0.019564843024160988, 0.4329784825781714, 0.17735955524076372, 0.17991149128739342, 0.09569760174861353, 0.02977258721067976, 0.0650743691890572, 0.9983048484275554, 0.1606544426534541, 0.32453812033511836, 0.016953483898103198, 0.48761448925973006, 0.0096877050846304, 0.08970212264774038, 0.9091683889192853, 0.9973125758786726, 0.08831292390980024, 0.8693661860211503, 0.041289159230555955, 0.7628024720345189, 0.1281192782486918, 0.10906564199632225, 0.009609855380592669, 0.3654844997973793, 0.6091408329956322, 0.015499766742891403, 0.9968005433789289, 0.9933005846130862, 0.996752484699411, 0.997751258477156, 0.9951840218221744, 0.9990877540175659, 0.9836070999356076, 0.013825802609536654, 0.9963590839677142, 0.9954099916628022, 0.35449778834864143, 0.6408229250917749, 0.9960573638272546, 0.9939476866157965, 0.998113735816364, 0.9926349046416197, 0.99700979807377, 0.17295189735942387, 0.3010425517177685, 0.018888944421507042, 0.40139006895702467, 0.013576428802958188, 0.09031276551533056, 0.0017708385395162854, 0.2507675664021051, 0.7488137591520252, 0.6529590024058282, 0.3467114337627816, 0.3718664434491593, 0.425278154838876, 0.09926516173371869, 0.10380011836114746, 0.9961252665017091, 0.18263655725786812, 0.06743503652598207, 0.2595227163272643, 0.2717836320592611, 0.021456602530994295, 0.001021742977666395, 0.18851157937944987, 0.007407636588081364, 0.9928294516542406, 0.9964670305921405, 0.1373738805804997, 0.1691496146400078, 0.534410072819, 0.0613046990441015, 0.0025677360856168167, 0.09532720217852432, 0.9989534168537026, 0.9989433586319529, 0.0020642649264174437, 0.9970399594596253, 0.06299719918297804, 0.1286751302460828, 0.12264348351579767, 0.08377287125396016, 0.6018243070884498, 0.9963462340338913, 0.0034427997029505574, 0.132789035518436, 0.35410409471582927, 0.043066714222195455, 0.47014496359230035, 0.9946529396192695, 0.26014098710000066, 0.3576938572625009, 0.15502587894040737, 0.0708329625727715, 0.14973231234244225, 0.006553939597480637, 0.9979444075919135, 0.12196469818813298, 0.4761069858958628, 0.21121490701851153, 0.04796007663127104, 0.12132946538506978, 0.020962682501085354, 0.5764594189755261, 0.3919221049742144, 0.031049135371649272, 0.6100617295841403, 0.24866646586310068, 0.027767755354712906, 0.030668864123115747, 0.07708660441756121, 0.005387773427033848, 0.9981630739332404, 0.9441036322600985, 0.053998547232588665, 0.22471948440312034, 0.17923245885928632, 0.2410133442994191, 0.0006789108290124481, 0.02579861150247303, 0.27427997492102907, 0.0536339554919834, 0.9914051850077777, 0.3702464832711946, 0.055391206158682656, 0.5714040214264106, 0.996701582597198, 0.998693368444392, 0.9961060490871272, 0.9943106994610027, 0.9982074566759269, 0.99421961429395, 0.9967867615198864, 0.9949986902652668, 0.7472895454386289, 0.027914317650625825, 0.22447763777378268, 0.2826024846907596, 0.037074088338144205, 0.2385332853454184, 0.16298608646769058, 0.27770590698572173, 0.9983735725586618, 0.21434578180619537, 0.41172894778600116, 0.09329438704514259, 0.21396026781014107, 0.04587616553046268, 0.013878503857955096, 0.006939251928977548, 0.9972414953464493, 0.9992462476409182, 0.9991555285071473, 0.0968423008696508, 0.8992499366467575, 0.589436657375962, 0.4094652189558425, 0.9985059795661253, 0.05609795901724404, 0.9433087570130421, 0.9972548768235675, 0.9969620038690632, 0.9996443339813567, 0.9991408767931022, 0.9984122687121253, 0.9978902549853891, 0.8376958452888627, 0.03294309503944966, 0.1282427628321433, 0.07754801150933595, 0.9214528426403448, 0.9945849206550117, 0.18453078998849454, 0.8152405050237967, 0.03639338808175667, 0.9598756106563322, 0.21360549949014213, 0.7840292765376807, 0.9657268910701118, 0.015089482672970497, 0.018710958514483417, 0.8604614252643491, 0.13878410084908857, 0.07275783343635336, 0.9268228628507783, 0.9994677557049518, 0.9951148143251877, 0.07229785510030846, 0.15182549571064777, 0.03225596612167608, 0.7429994954924007, 0.9967757017032245, 0.9978138174229738, 0.111161712205561, 0.23722138584073327, 0.09167976264376165, 0.4068289467316923, 0.15299060391177724, 0.999325933565727, 0.9996023464105885, 0.9997288277273338, 0.9986402440339411, 0.45722866382960464, 0.2260647297001391, 0.0056657826992516066, 0.3110514701889132, 0.9817027790513166, 0.9931806765330863], \"Term\": [\"_\", \"abogado\", \"abogado\", \"abogado\", \"acabar\", \"acabar\", \"acabar\", \"acceder\", \"acceder\", \"accidente\", \"acci\\u00f3n\", \"acci\\u00f3n\", \"acci\\u00f3n\", \"acci\\u00f3n\", \"acci\\u00f3n\", \"acci\\u00f3n\", \"acostumbrado\", \"actividad\", \"actividad\", \"activista\", \"activo\", \"actor\", \"actriz\", \"acusaci\\u00f3n_constitucional\", \"acusado\", \"afirmar\", \"afirmar\", \"afirmar\", \"afirmar\", \"afirmar\", \"afirmar\", \"agregar\", \"agregar\", \"agregar\", \"agregar\", \"agregar\", \"agregar\", \"agua\", \"agua\", \"agua\", \"agua\", \"alto\", \"alto\", \"alto\", \"alto\", \"alto\", \"alto\", \"alto\", \"alumno\", \"amigo\", \"amor\", \"animal\", \"antecedente\", \"antecedente\", \"anunciar\", \"anunciar\", \"anunciar\", \"anunciar\", \"anunciar\", \"anunciar\", \"anunciar\", \"aprobar\", \"aprobar\", \"argentino\", \"argentino\", \"argentino\", \"asegurar\", \"asegurar\", \"asegurar\", \"asegurar\", \"asegurar\", \"asegurar\", \"aterrizar\", \"audiencia\", \"aumentar\", \"aumentar\", \"aumento\", \"auto\", \"autoridad\", \"autoridad\", \"autoridad\", \"autoridad\", \"autoridad\", \"aut\\u00f3nomo\", \"avenida\", \"azul\", \"balance\", \"banco\", \"basura\", \"beneficio\", \"beneficio\", \"boliviano\", \"boliviano\", \"bombero\", \"brote\", \"buscar\", \"buscar\", \"buscar\", \"buscar\", \"buscar\", \"buscar\", \"cacique\", \"caer\", \"caer\", \"caer\", \"caer\", \"calle\", \"calle\", \"calle\", \"calle\", \"calle\", \"cami\\u00f3n\", \"campe\\u00f3n\", \"cancha\", \"candidato\", \"candidatura\", \"cantante\", \"carabinero\", \"car\\u00e1cter\", \"casa\", \"casa\", \"casa\", \"caso\", \"caso\", \"caso\", \"caso\", \"ca\\u00edda\", \"ca\\u00edda\", \"celular\", \"cerrado\", \"chileno\", \"chileno\", \"chileno\", \"chileno\", \"chileno\", \"chino\", \"choque\", \"cifra\", \"ciudad\", \"ciudad\", \"ciudad\", \"ciudad\", \"ciudad\", \"ciudad\", \"ciudad\", \"club\", \"cobrar\", \"colectividad\", \"colegio\", \"colegio\", \"colo_colo\", \"color\", \"color\", \"comentario\", \"comisar\\u00eda\", \"compartir\", \"compartir\", \"complicado\", \"comuna\", \"comuna\", \"comunicado\", \"comunicado\", \"comunicado\", \"comunicado\", \"condenar\", \"condici\\u00f3n\", \"condici\\u00f3n\", \"condici\\u00f3n\", \"condici\\u00f3n\", \"conductor\", \"conductor\", \"confinamiento\", \"constitucional\", \"contagio\", \"contar\", \"contar\", \"contar\", \"contar\", \"contar\", \"contrato\", \"coronavirus\", \"cosa\", \"cosa\", \"cosa\", \"cosa\", \"costo\", \"creer\", \"creer\", \"crisis\", \"crisis\", \"crisis\", \"cuadro\", \"cuarent\\u00e9n\", \"cuerpo\", \"cuerpo\", \"cuerpo\", \"cultura\", \"curso\", \"c\\u00e1mara_alta\", \"c\\u00e1rcel\", \"da\\u00f1o\", \"da\\u00f1o\", \"da\\u00f1o\", \"debate\", \"deber\", \"deber\", \"deber\", \"deber\", \"deber\", \"deceso\", \"decisi\\u00f3n\", \"decisi\\u00f3n\", \"decisi\\u00f3n\", \"decisi\\u00f3n\", \"decisi\\u00f3n\", \"declarar\", \"declarar\", \"declarar\", \"declarar\", \"declarar\", \"declarar\", \"dejar\", \"dejar\", \"dejar\", \"dejar\", \"dejar\", \"dejar\", \"dejar\", \"delantero\", \"delincuente\", \"delito\", \"democracia\", \"denuncia\", \"denunciar\", \"denunciar\", \"deporte\", \"deportivo\", \"deportivo\", \"derecho\", \"derecho\", \"derecho\", \"derrotar\", \"desaparecido\", \"desarrollar\", \"desarrollar\", \"desarrollar\", \"desarrollar\", \"desarrollar\", \"descripci\\u00f3n\", \"desecho\", \"destruir\", \"detenci\\u00f3n\", \"detener\", \"detenido\", \"diario\", \"diario\", \"diario\", \"diario\", \"diputado\", \"director\", \"director\", \"director\", \"director\", \"director\", \"director\", \"dise\\u00f1o\", \"disfrutar\", \"disminuir\", \"disputar\", \"distribuci\\u00f3n\", \"doctor\", \"dolor\", \"donald_trump\", \"donald_trump \", \"dosis\", \"droga\", \"duelo\", \"d\\u00f3lares\", \"eclipse\", \"econ\\u00f3mico\", \"econ\\u00f3mico\", \"econ\\u00f3mico\", \"econ\\u00f3mico\", \"elecci\\u00f3n\", \"electoral\", \"el\\u00e9ctrico\", \"emocional\", \"empresa\", \"empresa\", \"encontrar\", \"encontrar\", \"encontrar\", \"encontrar\", \"encontrar\", \"encontrar\", \"encontrar\", \"encuentro\", \"encuentro\", \"enero_2021\", \"enfermedad\", \"enfrentar\", \"enfrentar\", \"enfrentar\", \"enfrentar\", \"enfrentar\", \"entregar\", \"entregar\", \"entregar\", \"entregar\", \"entregar\", \"entrenador\", \"equipo\", \"equipo\", \"equipo\", \"equipo\", \"escribir\", \"espacial\", \"espacio\", \"espacio\", \"espacio\", \"establecimiento\", \"estadio\", \"estadounidense\", \"estilo\", \"estrenar\", \"estreno\", \"estudio\", \"estudio\", \"estudio\", \"europeo\", \"evento\", \"evento\", \"evento\", \"examen\", \"exclusivo_suscriptor\", \"exitoso\", \"explicar\", \"explicar\", \"explicar\", \"explicar\", \"explicar\", \"explicar\", \"explicar\", \"fabricante\", \"facilitar\", \"fallo\", \"familia\", \"familia\", \"famoso\", \"favor_iniciar\", \"favor_iniciar\", \"favor_iniciar\", \"favor_iniciar\", \"fecha\", \"fecha\", \"fecha\", \"fecha\", \"federal\", \"femenino\", \"financiar\", \"financiero\", \"fiscal\", \"fiscalizaci\\u00f3n\", \"fiscal\\u00eda\", \"forma\", \"forma\", \"forma\", \"forma\", \"forma\", \"forma\", \"forma\", \"formalizar\", \"formar\", \"formar\", \"formar\", \"formar\", \"formar\", \"formar\", \"formar\", \"formato\", \"foto\", \"fraude\", \"funcionamiento\", \"funcionario\", \"funcionario\", \"futbolista\", \"futuro\", \"futuro\", \"futuro\", \"futuro\", \"f\\u00fatbol\", \"ganar\", \"ganar\", \"ganar\", \"gasto\", \"generaci\\u00f3n\", \"generaci\\u00f3n\", \"generar\", \"generar\", \"generar\", \"generar\", \"generar\", \"generar\", \"generar\", \"gente\", \"gente\", \"gente\", \"glaciar\", \"gobierno\", \"gobierno\", \"gobierno\", \"gobierno\", \"gol\", \"grupo\", \"grupo\", \"grupo\", \"grupo\", \"grupo\", \"grupo\", \"grupo\", \"guerra\", \"g\\u00e9nero\", \"g\\u00e9nero\", \"habitante\", \"habitante\", \"hablar\", \"hablar\", \"hablar\", \"herido\", \"hielo\", \"hija\", \"hijo\", \"historia\", \"historia\", \"historia\", \"hoja\", \"hombre\", \"hombre\", \"hora\", \"hora\", \"hora\", \"hora\", \"hora\", \"hora\", \"hora\", \"horario\", \"humano\", \"humano\", \"humano\", \"humano\", \"humano\", \"ileso\", \"imagen\", \"imagen\", \"imagen\", \"implementar\", \"impuesto\", \"imputado\", \"incendio\", \"incidente\", \"incluir\", \"incluir\", \"incluir\", \"incluir\", \"incluir\", \"independiente\", \"independiente\", \"indicar\", \"indicar\", \"indicar\", \"indicar\", \"indicar\", \"indicar\", \"informaci\\u00f3n\", \"informaci\\u00f3n\", \"informaci\\u00f3n\", \"informaci\\u00f3n\", \"ingresar\", \"ingresar\", \"ingreso\", \"iniciativo\", \"internacional\", \"internacional\", \"invertir\", \"investigaci\\u00f3n\", \"investigaci\\u00f3n\", \"investigaci\\u00f3n\", \"investigador\", \"investigador\", \"investigar\", \"joven\", \"joven\", \"judicial\", \"judicial\", \"juego\", \"juego\", \"juez\", \"jugador\", \"jugar\", \"justicia\", \"justicia\", \"juzgar\", \"kil\\u00f3metro\", \"laboral\", \"laboratorio\", \"lanzamiento\", \"lanzamiento\", \"lanzar\", \"lanzar\", \"lanzar\", \"lanzar\", \"lanzar\", \"ley\", \"ley\", \"ley\", \"libertador\", \"libro\", \"lista\", \"llegar\", \"llegar\", \"llegar\", \"llegar\", \"llegar\", \"llegar\", \"llegar\", \"llegar\", \"madre\", \"magnitud\", \"mandatario\", \"manifestaci\\u00f3n\", \"manifestante\", \"mantener\", \"mantener\", \"mantener\", \"mantener\", \"mantener\", \"mantener\", \"mantener\", \"mar\", \"mario\", \"martes\", \"martes\", \"martes\", \"martes\", \"martes\", \"martes\", \"mascarilla\", \"medida\", \"medida\", \"mensaje\", \"mensaje\", \"mensaje\", \"mercado\", \"mercado\", \"mes\", \"mes\", \"mes\", \"mes\", \"mes\", \"mes\", \"mes\", \"mesar\", \"mesar\", \"metro\", \"metro\", \"metropolitano\", \"miembro\", \"miembro\", \"miembro\", \"miembro\", \"militar\", \"militar\", \"mill\\u00f3n\", \"mill\\u00f3n\", \"mill\\u00f3n\", \"mill\\u00f3n\", \"mill\\u00f3n_d\\u00f3lar\", \"ministerio\", \"ministerio\", \"ministerio\", \"ministro\", \"ministro\", \"ministro\", \"ministro\", \"minuto\", \"minuto\", \"minuto\", \"minuto\", \"minuto\", \"minuto\", \"modelo\", \"modelo\", \"modelo\", \"modelo\", \"monto\", \"monumento\", \"moral\", \"moral\", \"moral\", \"mostrar\", \"mostrar\", \"mostrar\", \"mostrar\", \"mostrar\", \"mostrar\", \"movilidad\", \"movimiento\", \"movimiento\", \"movimiento\", \"movimiento\", \"movimiento\", \"mujer\", \"mujer\", \"mujer\", \"mundo\", \"mundo\", \"mundo\", \"mundo\", \"mundo\", \"mundo\", \"municipalidad\", \"municipio\", \"m\\u00e9dico\", \"m\\u00e9dico\", \"m\\u00e9dico\", \"nacional\", \"nacional\", \"nacional\", \"nacional\", \"nacional\", \"nacional\", \"nave\", \"necesario\", \"necesario\", \"necesario\", \"negro\", \"nivel\", \"nivel\", \"nivel\", \"ni\\u00f1a\", \"noche\", \"noche\", \"noche\", \"noche\", \"noche\", \"noche\", \"normalmente\", \"norte\", \"norte\", \"norte\", \"norte\", \"n\\u00famero\", \"n\\u00famero\", \"n\\u00famero\", \"n\\u00famero\", \"ocurrido\", \"ocurrir\", \"ocurrir\", \"ocurrir\", \"ocurrir\", \"ocurrir\", \"ocurrir\", \"oficial\", \"oficial\", \"oficial\", \"oficial\", \"oficial\", \"oficial\", \"oficial\", \"oficial\", \"ojo\", \"ola\", \"oposici\\u00f3n\", \"organizaci\\u00f3n\", \"organizaci\\u00f3n\", \"organizaci\\u00f3n\", \"paciente\", \"pacto\", \"padre\", \"pago\", \"pandemia\", \"pandemia\", \"pandemia\", \"pandemia\", \"pandemio\", \"pandemio\", \"pandemio\", \"pandemio\", \"pantalla\", \"papel\", \"papel\", \"papel\", \"paradero\", \"pareja\", \"parlamentario\", \"partido\", \"partido\", \"pasar\", \"pasar\", \"pasar\", \"pasar\", \"pasar\", \"pasar\", \"pa\\u00eds\", \"pa\\u00eds\", \"pa\\u00eds\", \"pel\\u00edcula\", \"pena\", \"penal\", \"penal\", \"pensar\", \"pensar\", \"pensar\", \"pensi\\u00f3n\", \"perder\", \"perder\", \"perder\", \"perder\", \"perder\", \"permiso\", \"permitir\", \"permitir\", \"permitir\", \"permitir\", \"permitir\", \"persona\", \"persona\", \"persona\", \"persona\", \"persona\", \"personaje\", \"personal\", \"personal\", \"personal\", \"personal\", \"peruano\", \"pieza\", \"pi\\u00f1ero\", \"plan\", \"plan\", \"plan\", \"plan\", \"planeta\", \"plantear\", \"plantear\", \"plantear\", \"plantear\", \"playa\", \"plebiscito\", \"poblaci\\u00f3n\", \"poblaci\\u00f3n\", \"poblaci\\u00f3n\", \"poblaci\\u00f3n\", \"policial\", \"polic\\u00eda\", \"pol\\u00edtico\", \"portavoz\", \"positivo\", \"positivo\", \"post_shared\", \"precio\", \"premio\", \"presencial\", \"presentar\", \"presentar\", \"presentar\", \"presentar\", \"presentar\", \"presidencial\", \"presidente\", \"presidente\", \"preventivo\", \"primario\", \"principal\", \"principal\", \"principal\", \"principal\", \"principal\", \"principal\", \"proceso\", \"proceso\", \"proceso\", \"proceso\", \"producci\\u00f3n\", \"producir\", \"producir\", \"producir\", \"producir\", \"producir\", \"producir\", \"producir\", \"producto\", \"producto\", \"producto\", \"producto\", \"producto\", \"producto\", \"productor\", \"promedio\", \"promedio\", \"proponer\", \"protecci\\u00f3n\", \"protecci\\u00f3n\", \"protocolo\", \"proyecto\", \"proyecto\", \"publicar\", \"publicar\", \"publicar\", \"pueblo\", \"pueblo\", \"punto\", \"punto\", \"punto\", \"punto\", \"punto\", \"punto\", \"p\\u00fablico\", \"p\\u00fablico\", \"p\\u00fablico\", \"p\\u00fablico\", \"quedar\", \"quedar\", \"quedar\", \"quedar\", \"quedar\", \"quedar\", \"querer\", \"querer\", \"rechazo\", \"recibir\", \"recibir\", \"recibir\", \"recibir\", \"recibir\", \"recibir\", \"recibir\", \"recinto\", \"recordar\", \"recordar\", \"recordar\", \"recordar\", \"recordar\", \"recurso\", \"recurso\", \"reforma\", \"regional\", \"regional\", \"regional\", \"registrar\", \"registrar\", \"registrar\", \"regi\\u00f3n\", \"regi\\u00f3n\", \"regi\\u00f3n\", \"regi\\u00f3n\", \"reino_unido\", \"religioso\", \"reporte\", \"republicano\", \"restaurante\", \"restricci\\u00f3n\", \"retiro\", \"retiro\", \"revista\", \"rival\", \"robar\", \"robar\", \"robusto\", \"rodilla\", \"ruso\", \"ruta\", \"r\\u00edo\", \"salir\", \"salir\", \"salir\", \"salir\", \"salir\", \"salir\", \"salir\", \"salud\", \"salud\", \"sanitario\", \"sanitario\", \"sector\", \"sector\", \"sector\", \"sector\", \"seguidor\", \"seguir\", \"seguir\", \"seguir\", \"seguir\", \"seguir\", \"seguir\", \"seguir\", \"seguir\", \"seleccionado\", \"selecci\\u00f3n\", \"semana\", \"semana\", \"semana\", \"semana\", \"semana\", \"semana\", \"senado\", \"senador\", \"sentir\", \"sentir\", \"serie\", \"serie\", \"serie\", \"serie\", \"serie\", \"servicio\", \"servicio\", \"sesi\\u00f3n_tercero\", \"sesi\\u00f3n_tercero\", \"sesi\\u00f3n_tercero\", \"sesi\\u00f3n_tercero\", \"sexto\", \"se\\u00f1alar\", \"se\\u00f1alar\", \"se\\u00f1alar\", \"se\\u00f1alar\", \"se\\u00f1alar\", \"se\\u00f1alar\", \"shared_by\", \"situaci\\u00f3n\", \"situaci\\u00f3n\", \"situaci\\u00f3n\", \"situaci\\u00f3n\", \"situaci\\u00f3n\", \"situaci\\u00f3n\", \"social\", \"social\", \"social\", \"sostener\", \"sostener\", \"sostener\", \"sostener\", \"sostener\", \"sostener\", \"sueldo\", \"sujeto\", \"sujeto\", \"sumar\", \"sumar\", \"sumar\", \"sumar\", \"sumar\", \"sumar\", \"sumar\", \"superficie\", \"sur\", \"sur\", \"sur\", \"suspensi\\u00f3n\", \"s\\u00edntoma\", \"tasa\", \"teatro\", \"tecnolog\\u00eda\", \"tecnol\\u00f3gico\", \"televisi\\u00f3n\", \"tel\\u00e9fono\", \"tema\", \"tema\", \"tema\", \"terminar\", \"terminar\", \"terminar\", \"terminar\", \"terminar\", \"test\", \"tomar\", \"tomar\", \"tomar\", \"tomar\", \"tomar\", \"tomar\", \"tomar\", \"torneo\", \"trabajador\", \"tribunal\", \"tr\\u00e1nsito\", \"tr\\u00e1nsito\", \"t\\u00e9cnico\", \"t\\u00e9cnico\", \"udi\", \"unido\", \"unido\", \"uniformado\", \"uruguayo\", \"vacuna\", \"vacunaci\\u00f3n\", \"vacunar\", \"vacuno\", \"vecino\", \"vecino\", \"vecino\", \"veh\\u00edculo\", \"veh\\u00edculo\", \"vender\", \"venezolano\", \"venezolano\", \"venta\", \"venta\", \"versi\\u00f3n\", \"versi\\u00f3n\", \"vida\", \"vida\", \"vida\", \"video\", \"video\", \"violencia\", \"violencia\", \"virus\", \"viviendo\", \"vivir\", \"vivir\", \"vivir\", \"vivir\", \"vivo\", \"volante\", \"volver\", \"volver\", \"volver\", \"volver\", \"volver\", \"votaci\\u00f3n\", \"votar\", \"voto\", \"v\\u00edctima\", \"zona\", \"zona\", \"zona\", \"zona\", \"\\u00e1ngel\", \"\\u00f1uble\"]}, \"R\": 30, \"lambda.step\": 0.01, \"plot.opts\": {\"xlab\": \"PC1\", \"ylab\": \"PC2\"}, \"topic.order\": [7, 2, 5, 4, 3, 6, 1, 8, 9]};\n",
       "\n",
       "function LDAvis_load_lib(url, callback){\n",
       "  var s = document.createElement('script');\n",
       "  s.src = url;\n",
       "  s.async = true;\n",
       "  s.onreadystatechange = s.onload = callback;\n",
       "  s.onerror = function(){console.warn(\"failed to load library \" + url);};\n",
       "  document.getElementsByTagName(\"head\")[0].appendChild(s);\n",
       "}\n",
       "\n",
       "if(typeof(LDAvis) !== \"undefined\"){\n",
       "   // already loaded: just create the visualization\n",
       "   !function(LDAvis){\n",
       "       new LDAvis(\"#\" + \"ldavis_el1232012511512036807066558517\", ldavis_el1232012511512036807066558517_data);\n",
       "   }(LDAvis);\n",
       "}else if(typeof define === \"function\" && define.amd){\n",
       "   // require.js is available: use it to load d3/LDAvis\n",
       "   require.config({paths: {d3: \"https://d3js.org/d3.v5\"}});\n",
       "   require([\"d3\"], function(d3){\n",
       "      window.d3 = d3;\n",
       "      LDAvis_load_lib(\"https://cdn.jsdelivr.net/gh/bmabey/pyLDAvis@3.3.1/pyLDAvis/js/ldavis.v3.0.0.js\", function(){\n",
       "        new LDAvis(\"#\" + \"ldavis_el1232012511512036807066558517\", ldavis_el1232012511512036807066558517_data);\n",
       "      });\n",
       "    });\n",
       "}else{\n",
       "    // require.js not available: dynamically load d3 & LDAvis\n",
       "    LDAvis_load_lib(\"https://d3js.org/d3.v5.js\", function(){\n",
       "         LDAvis_load_lib(\"https://cdn.jsdelivr.net/gh/bmabey/pyLDAvis@3.3.1/pyLDAvis/js/ldavis.v3.0.0.js\", function(){\n",
       "                 new LDAvis(\"#\" + \"ldavis_el1232012511512036807066558517\", ldavis_el1232012511512036807066558517_data);\n",
       "            })\n",
       "         });\n",
       "}\n",
       "</script>"
      ],
      "text/plain": [
       "PreparedData(topic_coordinates=              x         y  topics  cluster       Freq\n",
       "topic                                                \n",
       "6     -0.178934  0.045411       1        1  21.390668\n",
       "1     -0.127364 -0.077308       2        1  20.027761\n",
       "4     -0.110957 -0.068599       3        1  14.358206\n",
       "3     -0.047323  0.158125       4        1  11.264630\n",
       "2     -0.008051 -0.237077       5        1   9.850629\n",
       "5      0.007256 -0.144310       6        1   8.322265\n",
       "0      0.012464  0.228951       7        1   6.764395\n",
       "7      0.066511  0.131915       8        1   5.924489\n",
       "8      0.386398 -0.037108       9        1   2.096957, topic_info=            Term         Freq        Total Category  logprob  loglift\n",
       "301         caso  6246.000000  6246.000000  Default  30.0000  30.0000\n",
       "447         país  6116.000000  6116.000000  Default  29.0000  29.0000\n",
       "22    carabinero  2473.000000  2473.000000  Default  28.0000  28.0000\n",
       "168      partido  2879.000000  2879.000000  Default  27.0000  27.0000\n",
       "82       persona  8192.000000  8192.000000  Default  26.0000  26.0000\n",
       "...          ...          ...          ...      ...      ...      ...\n",
       "578    registrar   166.042081  1522.019189   Topic9  -5.0930   1.6491\n",
       "1215      ciudad   143.108054  1101.421487   Topic9  -5.2416   1.8239\n",
       "176     producir   139.833522  1183.799961   Topic9  -5.2648   1.7287\n",
       "1263       noche   129.684545   673.323145   Topic9  -5.3401   2.2176\n",
       "177     producto   125.580736  1030.467135   Topic9  -5.3723   1.7599\n",
       "\n",
       "[533 rows x 6 columns], token_table=      Topic      Freq     Term\n",
       "term                          \n",
       "5479      8  0.997101        _\n",
       "594       1  0.058348  abogado\n",
       "594       5  0.872068  abogado\n",
       "594       6  0.067810  abogado\n",
       "196       2  0.274145   acabar\n",
       "...     ...       ...      ...\n",
       "1031      3  0.226065     zona\n",
       "1031      7  0.005666     zona\n",
       "1031      9  0.311051     zona\n",
       "5222      9  0.981703    ángel\n",
       "3391      9  0.993181    ñuble\n",
       "\n",
       "[1039 rows x 3 columns], R=30, lambda_step=0.01, plot_opts={'xlab': 'PC1', 'ylab': 'PC2'}, topic_order=[7, 2, 5, 4, 3, 6, 1, 8, 9])"
      ]
     },
     "execution_count": 70,
     "metadata": {},
     "output_type": "execute_result"
    }
   ],
   "source": [
    "# Plotting tools\n",
    "import pyLDAvis\n",
    "import pyLDAvis.gensim_models  # don't skip this\n",
    "import matplotlib.pyplot as plt\n",
    "%matplotlib inline\n",
    "\n",
    "# Visualize the topics\n",
    "pyLDAvis.enable_notebook()\n",
    "vis = pyLDAvis.gensim_models.prepare(lda_model, corpus, id2word)\n",
    "vis"
   ]
  },
  {
   "cell_type": "markdown",
   "id": "cebc9ae2",
   "metadata": {},
   "source": [
    "1: Politica  \n",
    "2: Informacion?  \n",
    "3: Salud/Covid  \n",
    "4: Vida/Familia/Social?  \n",
    "5: Crimen y Justicia  \n",
    "6: Internacional?  \n",
    "7: Deporte  \n",
    "8: Entretenimiento/Arte/Cultura  \n",
    "9: Zonas Geograficas/Crimen?  "
   ]
  },
  {
   "cell_type": "code",
   "execution_count": 73,
   "id": "36e4a88d",
   "metadata": {},
   "outputs": [
    {
     "data": {
      "text/html": [
       "<div>\n",
       "<style scoped>\n",
       "    .dataframe tbody tr th:only-of-type {\n",
       "        vertical-align: middle;\n",
       "    }\n",
       "\n",
       "    .dataframe tbody tr th {\n",
       "        vertical-align: top;\n",
       "    }\n",
       "\n",
       "    .dataframe thead th {\n",
       "        text-align: right;\n",
       "    }\n",
       "</style>\n",
       "<table border=\"1\" class=\"dataframe\">\n",
       "  <thead>\n",
       "    <tr style=\"text-align: right;\">\n",
       "      <th></th>\n",
       "      <th>Document_No</th>\n",
       "      <th>Dominant_Topic</th>\n",
       "      <th>Topic_Perc_Contrib</th>\n",
       "      <th>Keywords</th>\n",
       "      <th>Text</th>\n",
       "    </tr>\n",
       "  </thead>\n",
       "  <tbody>\n",
       "    <tr>\n",
       "      <th>0</th>\n",
       "      <td>0</td>\n",
       "      <td>2.0</td>\n",
       "      <td>0.2860</td>\n",
       "      <td>carabinero, investigación, policía, público, c...</td>\n",
       "      <td>[mañana, miércoles, ministro, delgado, llegar,...</td>\n",
       "    </tr>\n",
       "    <tr>\n",
       "      <th>1</th>\n",
       "      <td>1</td>\n",
       "      <td>2.0</td>\n",
       "      <td>0.6151</td>\n",
       "      <td>carabinero, investigación, policía, público, c...</td>\n",
       "      <td>[persona, detener, serio, incidente, producir,...</td>\n",
       "    </tr>\n",
       "    <tr>\n",
       "      <th>2</th>\n",
       "      <td>2</td>\n",
       "      <td>7.0</td>\n",
       "      <td>0.6374</td>\n",
       "      <td>serie, favor_iniciar, personaje, película, jue...</td>\n",
       "      <td>[presentar, versión, justicia, debutar, evento...</td>\n",
       "    </tr>\n",
       "    <tr>\n",
       "      <th>3</th>\n",
       "      <td>3</td>\n",
       "      <td>3.0</td>\n",
       "      <td>0.4799</td>\n",
       "      <td>vida, mujer, vivir, dejar, pasar, seguir, habl...</td>\n",
       "      <td>[cine, año, pandemio, faltar, decir, vivir, re...</td>\n",
       "    </tr>\n",
       "    <tr>\n",
       "      <th>4</th>\n",
       "      <td>4</td>\n",
       "      <td>4.0</td>\n",
       "      <td>0.4813</td>\n",
       "      <td>caso, país, persona, región, contagio, salud, ...</td>\n",
       "      <td>[martes, feriar, festividad, religioso, capita...</td>\n",
       "    </tr>\n",
       "    <tr>\n",
       "      <th>5</th>\n",
       "      <td>5</td>\n",
       "      <td>2.0</td>\n",
       "      <td>0.2966</td>\n",
       "      <td>carabinero, investigación, policía, público, c...</td>\n",
       "      <td>[vía, mirada, crítico, marco, denunciar, inter...</td>\n",
       "    </tr>\n",
       "    <tr>\n",
       "      <th>6</th>\n",
       "      <td>6</td>\n",
       "      <td>3.0</td>\n",
       "      <td>0.3581</td>\n",
       "      <td>vida, mujer, vivir, dejar, pasar, seguir, habl...</td>\n",
       "      <td>[afectado, dramático, experiencia, mujer, hijo...</td>\n",
       "    </tr>\n",
       "    <tr>\n",
       "      <th>7</th>\n",
       "      <td>7</td>\n",
       "      <td>6.0</td>\n",
       "      <td>0.5616</td>\n",
       "      <td>político, presidente, proyecto, elección, mini...</td>\n",
       "      <td>[dejar, entrar, entrar, aforrar, quedar, inusi...</td>\n",
       "    </tr>\n",
       "    <tr>\n",
       "      <th>8</th>\n",
       "      <td>8</td>\n",
       "      <td>2.0</td>\n",
       "      <td>0.3653</td>\n",
       "      <td>carabinero, investigación, policía, público, c...</td>\n",
       "      <td>[hombre, año, permanecer, hospitalizado, riesg...</td>\n",
       "    </tr>\n",
       "    <tr>\n",
       "      <th>9</th>\n",
       "      <td>9</td>\n",
       "      <td>1.0</td>\n",
       "      <td>0.4408</td>\n",
       "      <td>persona, público, entregar, proceso, medida, p...</td>\n",
       "      <td>[reforma, promesa, campaño, acusación, vulnera...</td>\n",
       "    </tr>\n",
       "  </tbody>\n",
       "</table>\n",
       "</div>"
      ],
      "text/plain": [
       "   Document_No  Dominant_Topic  Topic_Perc_Contrib  \\\n",
       "0            0             2.0              0.2860   \n",
       "1            1             2.0              0.6151   \n",
       "2            2             7.0              0.6374   \n",
       "3            3             3.0              0.4799   \n",
       "4            4             4.0              0.4813   \n",
       "5            5             2.0              0.2966   \n",
       "6            6             3.0              0.3581   \n",
       "7            7             6.0              0.5616   \n",
       "8            8             2.0              0.3653   \n",
       "9            9             1.0              0.4408   \n",
       "\n",
       "                                            Keywords  \\\n",
       "0  carabinero, investigación, policía, público, c...   \n",
       "1  carabinero, investigación, policía, público, c...   \n",
       "2  serie, favor_iniciar, personaje, película, jue...   \n",
       "3  vida, mujer, vivir, dejar, pasar, seguir, habl...   \n",
       "4  caso, país, persona, región, contagio, salud, ...   \n",
       "5  carabinero, investigación, policía, público, c...   \n",
       "6  vida, mujer, vivir, dejar, pasar, seguir, habl...   \n",
       "7  político, presidente, proyecto, elección, mini...   \n",
       "8  carabinero, investigación, policía, público, c...   \n",
       "9  persona, público, entregar, proceso, medida, p...   \n",
       "\n",
       "                                                Text  \n",
       "0  [mañana, miércoles, ministro, delgado, llegar,...  \n",
       "1  [persona, detener, serio, incidente, producir,...  \n",
       "2  [presentar, versión, justicia, debutar, evento...  \n",
       "3  [cine, año, pandemio, faltar, decir, vivir, re...  \n",
       "4  [martes, feriar, festividad, religioso, capita...  \n",
       "5  [vía, mirada, crítico, marco, denunciar, inter...  \n",
       "6  [afectado, dramático, experiencia, mujer, hijo...  \n",
       "7  [dejar, entrar, entrar, aforrar, quedar, inusi...  \n",
       "8  [hombre, año, permanecer, hospitalizado, riesg...  \n",
       "9  [reforma, promesa, campaño, acusación, vulnera...  "
      ]
     },
     "execution_count": 73,
     "metadata": {},
     "output_type": "execute_result"
    }
   ],
   "source": [
    "def format_topics_documents(ldamodel=None, corpus=corpus, texts=texts):\n",
    "    # Init output\n",
    "    sent_topics_df = pd.DataFrame()\n",
    "\n",
    "    # Get main topic in each document\n",
    "    for i, row_list in enumerate(ldamodel[corpus]):\n",
    "        row = row_list[0] if ldamodel.per_word_topics else row_list            \n",
    "        # print(row)\n",
    "        row = sorted(row, key=lambda x: (x[1]), reverse=True)\n",
    "        # Get the Dominant topic, Perc Contribution and Keywords for each document\n",
    "        for j, (topic_num, prop_topic) in enumerate(row):\n",
    "            if j == 0:  # => dominant topic\n",
    "                wp = ldamodel.show_topic(topic_num)\n",
    "                topic_keywords = \", \".join([word for word, prop in wp])\n",
    "                sent_topics_df = sent_topics_df.append(pd.Series([int(topic_num), round(prop_topic,4), topic_keywords]), ignore_index=True)\n",
    "            else:\n",
    "                break\n",
    "    sent_topics_df.columns = ['Dominant_Topic', 'Perc_Contribution', 'Topic_Keywords']\n",
    "\n",
    "    # Add original text to the end of the output\n",
    "    contents = pd.Series(texts)\n",
    "    sent_topics_df = pd.concat([sent_topics_df, contents], axis=1)\n",
    "    return(sent_topics_df)\n",
    "\n",
    "\n",
    "df_topic_sents_keywords = format_topics_documents(ldamodel=lda_model, corpus=corpus, texts=texts)\n",
    "\n",
    "# Format\n",
    "df_dominant_topic = df_topic_sents_keywords.reset_index()\n",
    "df_dominant_topic.columns = ['Document_No', 'Dominant_Topic', 'Topic_Perc_Contrib', 'Keywords', 'Text']\n",
    "df_dominant_topic.head(10)"
   ]
  },
  {
   "cell_type": "code",
   "execution_count": null,
   "id": "6029aef9",
   "metadata": {},
   "outputs": [],
   "source": []
  }
 ],
 "metadata": {
  "interpreter": {
   "hash": "d9bec91c377bd955fe00704ae77ff3c372cebff61826020c1f6a199d4b374cfc"
  },
  "kernelspec": {
   "display_name": "Python 3 (ipykernel)",
   "language": "python",
   "name": "python3"
  },
  "language_info": {
   "codemirror_mode": {
    "name": "ipython",
    "version": 3
   },
   "file_extension": ".py",
   "mimetype": "text/x-python",
   "name": "python",
   "nbconvert_exporter": "python",
   "pygments_lexer": "ipython3",
   "version": "3.8.12"
  }
 },
 "nbformat": 4,
 "nbformat_minor": 5
}
