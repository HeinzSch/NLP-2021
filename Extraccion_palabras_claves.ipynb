{
 "cells": [
  {
   "cell_type": "markdown",
   "id": "f21e52e9",
   "metadata": {
    "id": "f21e52e9"
   },
   "source": [
    "### Importar Librerías "
   ]
  },
  {
   "cell_type": "code",
   "execution_count": 1,
   "id": "3741efef",
   "metadata": {
    "executionInfo": {
     "elapsed": 390,
     "status": "ok",
     "timestamp": 1635698245258,
     "user": {
      "displayName": "Carlos S.A.",
      "photoUrl": "https://lh3.googleusercontent.com/a-/AOh14GhgyXqJvWraBL2UAaPKuxyGQQbExZSZn359__0Lng=s64",
      "userId": "02982526807718094809"
     },
     "user_tz": 240
    },
    "id": "3741efef"
   },
   "outputs": [],
   "source": [
    "import pandas as pd\n",
    "import numpy as np\n",
    "import os\n",
    "from functools import partial, reduce\n",
    "import operator\n",
    "import re\n",
    "import time\n",
    "from bs4 import BeautifulSoup\n",
    "from collections import Counter"
   ]
  },
  {
   "cell_type": "code",
   "execution_count": 2,
   "id": "3f12c125",
   "metadata": {
    "executionInfo": {
     "elapsed": 12,
     "status": "ok",
     "timestamp": 1635698348332,
     "user": {
      "displayName": "Carlos S.A.",
      "photoUrl": "https://lh3.googleusercontent.com/a-/AOh14GhgyXqJvWraBL2UAaPKuxyGQQbExZSZn359__0Lng=s64",
      "userId": "02982526807718094809"
     },
     "user_tz": 240
    },
    "id": "3f12c125"
   },
   "outputs": [],
   "source": [
    "def getAllPaths(data_directory):\n",
    "    #Input: directorio de los archivos.\n",
    "    #Return: Arreglo con las rutas de los archivos.\n",
    "    file_name = [os.path.join(data_directory,f) \n",
    "                 for f in os.listdir(data_directory)\n",
    "                 if f.endswith(\".csv\")]\n",
    "    return file_name"
   ]
  },
  {
   "cell_type": "code",
   "execution_count": 3,
   "id": "Xn8cLxn2Qfii",
   "metadata": {
    "executionInfo": {
     "elapsed": 10,
     "status": "ok",
     "timestamp": 1635698348333,
     "user": {
      "displayName": "Carlos S.A.",
      "photoUrl": "https://lh3.googleusercontent.com/a-/AOh14GhgyXqJvWraBL2UAaPKuxyGQQbExZSZn359__0Lng=s64",
      "userId": "02982526807718094809"
     },
     "user_tz": 240
    },
    "id": "Xn8cLxn2Qfii"
   },
   "outputs": [],
   "source": [
    "def clean_tweet(tweet):\n",
    "    try:\n",
    "        if(isinstance(tweet[0],str)):\n",
    "            tweet = BeautifulSoup(tweet[0], \"lxml\").get_text()\n",
    "            # Removing the @\n",
    "            tweet = re.sub(r\"@[A-Za-z0-9]+\", ' ', tweet)\n",
    "            # Removing the URL links\n",
    "            tweet = re.sub(r\"https?://[A-Za-z0-9./]+\", ' ', tweet)\n",
    "            # Keeping only letters\n",
    "            tweet = re.sub(r\"[^a-zA-Z.!?']\", ' ', tweet)\n",
    "            # Removing additional whitespaces\n",
    "            tweet = re.sub(r\" +\", ' ', tweet)\n",
    "    except:\n",
    "        tweet=\"\"\n",
    "    return tweet"
   ]
  },
  {
   "cell_type": "markdown",
   "id": "d28ca3c9",
   "metadata": {
    "id": "d28ca3c9"
   },
   "source": [
    "### Cargo todos los dataset de pruebas."
   ]
  },
  {
   "cell_type": "code",
   "execution_count": 4,
   "id": "f915bd23",
   "metadata": {
    "colab": {
     "base_uri": "https://localhost:8080/",
     "height": 206
    },
    "executionInfo": {
     "elapsed": 533,
     "status": "ok",
     "timestamp": 1635698348857,
     "user": {
      "displayName": "Carlos S.A.",
      "photoUrl": "https://lh3.googleusercontent.com/a-/AOh14GhgyXqJvWraBL2UAaPKuxyGQQbExZSZn359__0Lng=s64",
      "userId": "02982526807718094809"
     },
     "user_tz": 240
    },
    "id": "f915bd23",
    "outputId": "425cfe56-9e66-46e0-e6b5-7869e20a8054"
   },
   "outputs": [
    {
     "data": {
      "text/html": [
       "<div>\n",
       "<style scoped>\n",
       "    .dataframe tbody tr th:only-of-type {\n",
       "        vertical-align: middle;\n",
       "    }\n",
       "\n",
       "    .dataframe tbody tr th {\n",
       "        vertical-align: top;\n",
       "    }\n",
       "\n",
       "    .dataframe thead th {\n",
       "        text-align: right;\n",
       "    }\n",
       "</style>\n",
       "<table border=\"1\" class=\"dataframe\">\n",
       "  <thead>\n",
       "    <tr style=\"text-align: right;\">\n",
       "      <th></th>\n",
       "      <th>PATH_FILES</th>\n",
       "    </tr>\n",
       "  </thead>\n",
       "  <tbody>\n",
       "    <tr>\n",
       "      <th>0</th>\n",
       "      <td>../data_sophia2/chile_2020-12.csv</td>\n",
       "    </tr>\n",
       "    <tr>\n",
       "      <th>1</th>\n",
       "      <td>../data_sophia2/chile_2021-03.csv</td>\n",
       "    </tr>\n",
       "    <tr>\n",
       "      <th>2</th>\n",
       "      <td>../data_sophia2/chile_2021-04.csv</td>\n",
       "    </tr>\n",
       "    <tr>\n",
       "      <th>3</th>\n",
       "      <td>../data_sophia2/chile_2020-11.csv</td>\n",
       "    </tr>\n",
       "    <tr>\n",
       "      <th>4</th>\n",
       "      <td>../data_sophia2/chile_2021-01.csv</td>\n",
       "    </tr>\n",
       "  </tbody>\n",
       "</table>\n",
       "</div>"
      ],
      "text/plain": [
       "                          PATH_FILES\n",
       "0  ../data_sophia2/chile_2020-12.csv\n",
       "1  ../data_sophia2/chile_2021-03.csv\n",
       "2  ../data_sophia2/chile_2021-04.csv\n",
       "3  ../data_sophia2/chile_2020-11.csv\n",
       "4  ../data_sophia2/chile_2021-01.csv"
      ]
     },
     "execution_count": 4,
     "metadata": {},
     "output_type": "execute_result"
    }
   ],
   "source": [
    "PATHS_CSV = getAllPaths(\"../data_sophia2/\")\n",
    "PATH_DF = pd.DataFrame(PATHS_CSV)\n",
    "PATH_DF.columns=[\"PATH_FILES\"]\n",
    "PATH_DF.head()"
   ]
  },
  {
   "cell_type": "markdown",
   "id": "44f5daf4",
   "metadata": {
    "id": "44f5daf4"
   },
   "source": [
    "### Nos quedamos solo con los textos"
   ]
  },
  {
   "cell_type": "code",
   "execution_count": 5,
   "id": "887df822",
   "metadata": {
    "executionInfo": {
     "elapsed": 7,
     "status": "ok",
     "timestamp": 1635698349680,
     "user": {
      "displayName": "Carlos S.A.",
      "photoUrl": "https://lh3.googleusercontent.com/a-/AOh14GhgyXqJvWraBL2UAaPKuxyGQQbExZSZn359__0Lng=s64",
      "userId": "02982526807718094809"
     },
     "user_tz": 240
    },
    "id": "887df822"
   },
   "outputs": [],
   "source": [
    "def cargarDF(x,df,col=\"PATH_FILES\"):\n",
    "    data =(df.iloc[x,0:1].values[0])\n",
    "    return pd.read_csv(data)\n",
    "\n",
    "def reducirDF(x,df,colname):\n",
    "    return df[x].iloc[:,5:6]\n",
    "\n",
    "def dropNA(x,df):\n",
    "    data = df.copy()\n",
    "    return data[x].dropna()"
   ]
  },
  {
   "cell_type": "markdown",
   "id": "328e43c5",
   "metadata": {
    "id": "328e43c5"
   },
   "source": [
    "### cargar los datasets"
   ]
  },
  {
   "cell_type": "code",
   "execution_count": 6,
   "id": "okIGxVeGVYdS",
   "metadata": {
    "executionInfo": {
     "elapsed": 8702,
     "status": "ok",
     "timestamp": 1635698358378,
     "user": {
      "displayName": "Carlos S.A.",
      "photoUrl": "https://lh3.googleusercontent.com/a-/AOh14GhgyXqJvWraBL2UAaPKuxyGQQbExZSZn359__0Lng=s64",
      "userId": "02982526807718094809"
     },
     "user_tz": 240
    },
    "id": "okIGxVeGVYdS"
   },
   "outputs": [],
   "source": [
    "df__sophia2 = list(map(partial(cargarDF, df=PATH_DF), range(PATH_DF.shape[0])))"
   ]
  },
  {
   "cell_type": "code",
   "execution_count": 7,
   "id": "v11svqbTElin",
   "metadata": {
    "colab": {
     "base_uri": "https://localhost:8080/",
     "height": 424
    },
    "executionInfo": {
     "elapsed": 20,
     "status": "ok",
     "timestamp": 1635698358379,
     "user": {
      "displayName": "Carlos S.A.",
      "photoUrl": "https://lh3.googleusercontent.com/a-/AOh14GhgyXqJvWraBL2UAaPKuxyGQQbExZSZn359__0Lng=s64",
      "userId": "02982526807718094809"
     },
     "user_tz": 240
    },
    "id": "v11svqbTElin",
    "outputId": "4c5a3925-77d3-4c64-e000-b9720bfffb09"
   },
   "outputs": [
    {
     "data": {
      "text/html": [
       "<div>\n",
       "<style scoped>\n",
       "    .dataframe tbody tr th:only-of-type {\n",
       "        vertical-align: middle;\n",
       "    }\n",
       "\n",
       "    .dataframe tbody tr th {\n",
       "        vertical-align: top;\n",
       "    }\n",
       "\n",
       "    .dataframe thead th {\n",
       "        text-align: right;\n",
       "    }\n",
       "</style>\n",
       "<table border=\"1\" class=\"dataframe\">\n",
       "  <thead>\n",
       "    <tr style=\"text-align: right;\">\n",
       "      <th></th>\n",
       "      <th>text</th>\n",
       "    </tr>\n",
       "  </thead>\n",
       "  <tbody>\n",
       "    <tr>\n",
       "      <th>0</th>\n",
       "      <td>En respuesta a los anuncios realizados hoy por...</td>\n",
       "    </tr>\n",
       "    <tr>\n",
       "      <th>1</th>\n",
       "      <td>La  comisión de Hacienda del Senado  aprobó en...</td>\n",
       "    </tr>\n",
       "    <tr>\n",
       "      <th>2</th>\n",
       "      <td>Una de las indicaciones que ha encendido las a...</td>\n",
       "    </tr>\n",
       "    <tr>\n",
       "      <th>3</th>\n",
       "      <td>La  comisión de Hacienda del Senado  aprobó es...</td>\n",
       "    </tr>\n",
       "    <tr>\n",
       "      <th>4</th>\n",
       "      <td>La comisión de Constitución de la Cámara hoy s...</td>\n",
       "    </tr>\n",
       "    <tr>\n",
       "      <th>...</th>\n",
       "      <td>...</td>\n",
       "    </tr>\n",
       "    <tr>\n",
       "      <th>1988</th>\n",
       "      <td>Este lunes  Nicolás Jarry (507°) debía enfrent...</td>\n",
       "    </tr>\n",
       "    <tr>\n",
       "      <th>1989</th>\n",
       "      <td>Este lunes se volvió a actualizar el  ranking ...</td>\n",
       "    </tr>\n",
       "    <tr>\n",
       "      <th>1990</th>\n",
       "      <td>golagol('/especiales/2020/deportes/gol-gol/Cha...</td>\n",
       "    </tr>\n",
       "    <tr>\n",
       "      <th>1991</th>\n",
       "      <td>golagol('/especiales/2021/deportes/gol-gol/Cop...</td>\n",
       "    </tr>\n",
       "    <tr>\n",
       "      <th>1992</th>\n",
       "      <td>golagol('/especiales/2021/deportes/gol-gol/Cop...</td>\n",
       "    </tr>\n",
       "  </tbody>\n",
       "</table>\n",
       "<p>1993 rows × 1 columns</p>\n",
       "</div>"
      ],
      "text/plain": [
       "                                                   text\n",
       "0     En respuesta a los anuncios realizados hoy por...\n",
       "1     La  comisión de Hacienda del Senado  aprobó en...\n",
       "2     Una de las indicaciones que ha encendido las a...\n",
       "3     La  comisión de Hacienda del Senado  aprobó es...\n",
       "4     La comisión de Constitución de la Cámara hoy s...\n",
       "...                                                 ...\n",
       "1988  Este lunes  Nicolás Jarry (507°) debía enfrent...\n",
       "1989  Este lunes se volvió a actualizar el  ranking ...\n",
       "1990  golagol('/especiales/2020/deportes/gol-gol/Cha...\n",
       "1991  golagol('/especiales/2021/deportes/gol-gol/Cop...\n",
       "1992  golagol('/especiales/2021/deportes/gol-gol/Cop...\n",
       "\n",
       "[1993 rows x 1 columns]"
      ]
     },
     "execution_count": 7,
     "metadata": {},
     "output_type": "execute_result"
    }
   ],
   "source": [
    "df_sample_sophia2 =list(map(partial(reducirDF, df=df__sophia2,colname=\"text\"),range(len(df__sophia2))))\n",
    "df_sample_sophia2[2]"
   ]
  },
  {
   "cell_type": "code",
   "execution_count": 8,
   "id": "JKPqLQ8REm93",
   "metadata": {
    "executionInfo": {
     "elapsed": 16,
     "status": "ok",
     "timestamp": 1635698358379,
     "user": {
      "displayName": "Carlos S.A.",
      "photoUrl": "https://lh3.googleusercontent.com/a-/AOh14GhgyXqJvWraBL2UAaPKuxyGQQbExZSZn359__0Lng=s64",
      "userId": "02982526807718094809"
     },
     "user_tz": 240
    },
    "id": "JKPqLQ8REm93"
   },
   "outputs": [],
   "source": [
    "df_sophia2_subset_pd = list(map(partial(dropNA,df=df_sample_sophia2),\n",
    "                                range(len(df_sample_sophia2))))\n",
    "\n"
   ]
  },
  {
   "cell_type": "code",
   "execution_count": 9,
   "id": "H0mSB55UbLUM",
   "metadata": {
    "executionInfo": {
     "elapsed": 16,
     "status": "ok",
     "timestamp": 1635698358380,
     "user": {
      "displayName": "Carlos S.A.",
      "photoUrl": "https://lh3.googleusercontent.com/a-/AOh14GhgyXqJvWraBL2UAaPKuxyGQQbExZSZn359__0Lng=s64",
      "userId": "02982526807718094809"
     },
     "user_tz": 240
    },
    "id": "H0mSB55UbLUM"
   },
   "outputs": [],
   "source": [
    "tam = len(df_sophia2_subset_pd)\n",
    "df_sophia2_subset = [pd.DataFrame(df_sophia2_subset_pd[i]) for i in range(tam)]"
   ]
  },
  {
   "cell_type": "code",
   "execution_count": 10,
   "id": "a9a0de62",
   "metadata": {
    "colab": {
     "base_uri": "https://localhost:8080/",
     "height": 173
    },
    "executionInfo": {
     "elapsed": 15,
     "status": "ok",
     "timestamp": 1635698358380,
     "user": {
      "displayName": "Carlos S.A.",
      "photoUrl": "https://lh3.googleusercontent.com/a-/AOh14GhgyXqJvWraBL2UAaPKuxyGQQbExZSZn359__0Lng=s64",
      "userId": "02982526807718094809"
     },
     "user_tz": 240
    },
    "id": "a9a0de62",
    "outputId": "9a0cfd12-7486-4ca3-a92f-c62f65418f6e"
   },
   "outputs": [
    {
     "data": {
      "text/plain": [
       "[text    0\n",
       " dtype: int64,\n",
       " text    0\n",
       " dtype: int64,\n",
       " text    0\n",
       " dtype: int64,\n",
       " text    0\n",
       " dtype: int64,\n",
       " text    0\n",
       " dtype: int64,\n",
       " text    0\n",
       " dtype: int64,\n",
       " text    0\n",
       " dtype: int64,\n",
       " text    0\n",
       " dtype: int64]"
      ]
     },
     "metadata": {},
     "output_type": "display_data"
    }
   ],
   "source": [
    "display([df_sophia2_subset[i].isna().sum() for i in range(len(df_sophia2_subset))])"
   ]
  },
  {
   "cell_type": "code",
   "execution_count": 11,
   "id": "5dr6qlgIa5_9",
   "metadata": {
    "colab": {
     "base_uri": "https://localhost:8080/"
    },
    "executionInfo": {
     "elapsed": 13,
     "status": "ok",
     "timestamp": 1635698358381,
     "user": {
      "displayName": "Carlos S.A.",
      "photoUrl": "https://lh3.googleusercontent.com/a-/AOh14GhgyXqJvWraBL2UAaPKuxyGQQbExZSZn359__0Lng=s64",
      "userId": "02982526807718094809"
     },
     "user_tz": 240
    },
    "id": "5dr6qlgIa5_9",
    "outputId": "05fc4c9d-5b76-46e7-e963-6cda1342061c"
   },
   "outputs": [
    {
     "name": "stdout",
     "output_type": "stream",
     "text": [
      "Cantidad total de textos a procesar:  69702\n"
     ]
    }
   ],
   "source": [
    "print(f\"Cantidad total de textos a procesar:  {np.sum([ df__sophia2[i].shape[0] for i in range(len(PATH_DF))])}\")"
   ]
  },
  {
   "cell_type": "code",
   "execution_count": 12,
   "id": "6b4e7401",
   "metadata": {
    "id": "6b4e7401"
   },
   "outputs": [],
   "source": [
    "#del df__sophia2, PATH_CF,df_sample_sophia2, stop_row"
   ]
  },
  {
   "cell_type": "code",
   "execution_count": 13,
   "id": "a4b5afc3",
   "metadata": {
    "id": "a4b5afc3"
   },
   "outputs": [],
   "source": [
    "#x=[df_sophia2_subset[k].to_csv(f\"../data_subset/df_sample_sophia2{k}.csv\") for k in range(len(df_sophia2_subset))]"
   ]
  },
  {
   "cell_type": "code",
   "execution_count": 14,
   "id": "QEnHQkY-bq8X",
   "metadata": {
    "colab": {
     "base_uri": "https://localhost:8080/"
    },
    "executionInfo": {
     "elapsed": 349,
     "status": "ok",
     "timestamp": 1635698385981,
     "user": {
      "displayName": "Carlos S.A.",
      "photoUrl": "https://lh3.googleusercontent.com/a-/AOh14GhgyXqJvWraBL2UAaPKuxyGQQbExZSZn359__0Lng=s64",
      "userId": "02982526807718094809"
     },
     "user_tz": 240
    },
    "id": "QEnHQkY-bq8X",
    "outputId": "d6e9c8a0-646f-4964-fce8-d8737520d3bd"
   },
   "outputs": [
    {
     "name": "stdout",
     "output_type": "stream",
     "text": [
      "Cantidad de DataFrames: 8\n"
     ]
    }
   ],
   "source": [
    "ITERATOR_DF = list(range(len(df_sophia2_subset))) # tamaño del array de datasets.\n",
    "print(f\"Cantidad de DataFrames: {len(ITERATOR_DF)}\")"
   ]
  },
  {
   "cell_type": "markdown",
   "id": "242e461d",
   "metadata": {
    "id": "242e461d"
   },
   "source": [
    "### Generamos los Matches con Spacy."
   ]
  },
  {
   "cell_type": "code",
   "execution_count": 16,
   "id": "9-0P2KKMWFzV",
   "metadata": {
    "id": "9-0P2KKMWFzV"
   },
   "outputs": [],
   "source": [
    "#!pip install -U spacy-nightly\n",
    "#!python -m spacy download es_core_news_sm\n",
    "#!pip install -U pip setuptools wheel\n",
    "#!pip uninstall en-core-web-sm"
   ]
  },
  {
   "cell_type": "code",
   "execution_count": 15,
   "id": "rksOHVpmjrmy",
   "metadata": {
    "executionInfo": {
     "elapsed": 6428,
     "status": "ok",
     "timestamp": 1635698396617,
     "user": {
      "displayName": "Carlos S.A.",
      "photoUrl": "https://lh3.googleusercontent.com/a-/AOh14GhgyXqJvWraBL2UAaPKuxyGQQbExZSZn359__0Lng=s64",
      "userId": "02982526807718094809"
     },
     "user_tz": 240
    },
    "id": "rksOHVpmjrmy"
   },
   "outputs": [],
   "source": [
    "import spacy \n",
    "from spacy.matcher import Matcher\n",
    "gpu= spacy.prefer_gpu()\n",
    "#nlp = spacy.load('es_core_news_sm')\n",
    "#nlp = spacy.load('en_core_web_lg')\n",
    "nlp = spacy.load('es_dep_news_trf')\n",
    "matcher = Matcher(nlp.vocab)\n",
    "pattern_1 = [{\"POS\": \"NOUN\"},{\"LOWER\": \"de\"}, {\"POS\": \"NOUN\"}]\n",
    "matcher.add(\"NOUN-de-NOUN\", [pattern_1])\n",
    "pattern_2 = [{\"POS\": \"NOUN\"}, {\"POS\": \"ADJ\"}]\n",
    "matcher.add(\"NOUN-ADJ\", [pattern_2])"
   ]
  },
  {
   "cell_type": "code",
   "execution_count": 16,
   "id": "c93f563a",
   "metadata": {
    "executionInfo": {
     "elapsed": 361,
     "status": "ok",
     "timestamp": 1635698400389,
     "user": {
      "displayName": "Carlos S.A.",
      "photoUrl": "https://lh3.googleusercontent.com/a-/AOh14GhgyXqJvWraBL2UAaPKuxyGQQbExZSZn359__0Lng=s64",
      "userId": "02982526807718094809"
     },
     "user_tz": 240
    },
    "id": "c93f563a"
   },
   "outputs": [],
   "source": [
    "def counterReduce(matches, doc):\n",
    "        start = matches[1]\n",
    "        end = matches[2]\n",
    "        span = doc[start:end]\n",
    "        return span.text\n",
    "\n",
    "def getText(x,df,nlp,matcher):\n",
    "    #x : iterador de los textos del dataset en posicion index\n",
    "    #index: indice del dataset dentro del array de dataset df_sophia2_subset\n",
    "    # df : Dataframe df_sophia2_subset\n",
    "    #return : span for all matcher \n",
    "    #print(df.loc[x,[\"text\"]].values[0])\n",
    "    text_atomic = df.loc[x,[\"text\"]].values[0]\n",
    "    doc_x = nlp(text_atomic)\n",
    "    matches = matcher(doc_x)\n",
    "    span_reduce = list(map(partial(counterReduce, doc=doc_x),matches))\n",
    "    #Se podría clasificar ahora mismo. \n",
    "    return Counter(span_reduce)\n",
    "\n",
    "\n",
    "def launchTask(x,df,nlp,matcher):\n",
    "    #index_df: iterador del array de dataset\n",
    "    #df: Dataframe df_sophia2_subset\n",
    "    #return: lista de arrays que contiene las construcciones terminologícas\n",
    "\n",
    "    data_clean = list(map(clean_tweet , df[x].values))\n",
    "    df_clean = pd.DataFrame(data_clean)\n",
    "    df_clean.columns = [\"text\"]\n",
    "    tam_df_current=len(df_clean)\n",
    "    #print(len(df[x]),tam_df_current)\n",
    "    term = list(map(partial(getText, df=df_clean,nlp=nlp,matcher=matcher),range(tam_df_current) ))\n",
    "    Concepts = reduce(operator.add, term )\n",
    "    print(\"Terminado\")\n",
    "    result = pd.DataFrame(Concepts.most_common(), columns =['Concept', 'Frequency'])\n",
    "    result.to_csv(f\"./terminology_DF{x}_31_10_2021.csv\")\n",
    "    return Concepts"
   ]
  },
  {
   "cell_type": "markdown",
   "id": "a5586b11",
   "metadata": {
    "id": "a5586b11"
   },
   "source": [
    "### Obtenemos una collections de los conceptos."
   ]
  },
  {
   "cell_type": "code",
   "execution_count": 19,
   "id": "wmDN5qPerSb_",
   "metadata": {
    "colab": {
     "base_uri": "https://localhost:8080/",
     "height": 209
    },
    "executionInfo": {
     "elapsed": 368,
     "status": "ok",
     "timestamp": 1635698411135,
     "user": {
      "displayName": "Carlos S.A.",
      "photoUrl": "https://lh3.googleusercontent.com/a-/AOh14GhgyXqJvWraBL2UAaPKuxyGQQbExZSZn359__0Lng=s64",
      "userId": "02982526807718094809"
     },
     "user_tz": 240
    },
    "id": "wmDN5qPerSb_",
    "outputId": "c3eacf29-06e2-4cb4-9dd9-4aee3ba32e6e",
    "scrolled": false
   },
   "outputs": [
    {
     "data": {
      "text/plain": [
       "\"Un descenso generalizado de casos activos registró el país durante los últimos días, según reveló este miércoles el  97° informe epidemiológico  publicado por el Minsal, que da cuenta del avance de la pandemia del coronavirus en Chile. De acuerdo al reporte,  a nivel nacional hay un total de 25.410 personas contagiantes, lo que representa una baja de 1.095 casos  en comparación con el informe anterior, publicado el sábado, cuando había 26.505 activos. RelacionadasDetalle('1013120','1013187'); Asimismo, el estudio indica que  15 de las 16 regiones del país registraron bajas en este indicador,  siendo  Los Lagos  la que anotó la mayor disminución, con 391 casos activos menos. Segunda se ubica la  Región Metropolitana,  con una baja de 163 contagios, seguida por  Tarpacá  (-117),  Antofagasta  (-110),  O'Higgins  (-98),  Ñuble  (-71),  Valparaíso  (-37),  Biobío  (-34) y  Arica  (-29). Mientras que las regiones que menos bajaron sus casos activos fueron el  Maule  (-25),  Atacama  (-21),  Aysén  (-15),  Magallanes  (-15) y  Los Ríos  (-4). Por su parte, la única región que registró aumento de contagios en relación al informe previo fue  Coquimbo , que sumó 27 casos activos. Antofagasta e Iquique lideran contagios En cuanto a la situación por comuna, el informe revela que  Antofagasta  se mantiene como el territorio con más casos activos, con un total de 902.  Posteriormente viene  Iquique , que tiene 630,  Puerto Montt,  con 622,  Arica , con 621,  Puente Alto  con 520, y  Valdivia  con 471.  RelacionadasDetalle('1012807','1012816'); Este grupo lo completan  Temuco  (467),  Valparaíso  (432),  Santiago  (425) y  Los Ángeles  (420).  En tanto, las comunas que más subieron sus casos activos fueron  San Antonio  (91),  Coronel  (60),  Valdivia  (49),  La Serena  (42),  Collipulli  (30),  Chiguayante  (25),  Longaví  (23),  Vicuña  (23),  Chañaral  (22) y  Lampa  (20). Mientras que las comunas que más bajaron sus contagios son  Puerto Montt  (-128),  Iquique  (-71),  Antofagasta  (-71),  Chillán  (-69),  Temuco  (-67),  Osorno  (-63),  La Florida  (-42),  Viña del Mar  (-40),  Alto Hospicio  (-40) y  Castro  (-33).\""
      ]
     },
     "execution_count": 19,
     "metadata": {},
     "output_type": "execute_result"
    }
   ],
   "source": [
    "df_sophia2_subset[7].loc[350,\"text\"]"
   ]
  },
  {
   "cell_type": "code",
   "execution_count": 20,
   "id": "a2399704",
   "metadata": {
    "id": "a2399704"
   },
   "outputs": [
    {
     "name": "stderr",
     "output_type": "stream",
     "text": [
      "Token indices sequence length is longer than the specified maximum sequence length for this model (617 > 512). Running this sequence through the model will result in indexing errors\n"
     ]
    },
    {
     "name": "stdout",
     "output_type": "stream",
     "text": [
      "Terminado\n",
      "Terminado\n",
      "Terminado\n",
      "Terminado\n",
      "Terminado\n",
      "Terminado\n",
      "Terminado\n",
      "Terminado\n",
      "CPU times: user 2d 4h 33min 56s, sys: 30min 57s, total: 2d 5h 4min 54s\n",
      "Wall time: 9h 4min\n"
     ]
    }
   ],
   "source": [
    "%%time\n",
    "#from multiprocessing import Pool\n",
    "#p=Pool(6)\n",
    "Concept_freq = list(map(partial(launchTask,df=df_sophia2_subset,nlp=nlp,matcher=matcher),ITERATOR_DF))"
   ]
  },
  {
   "cell_type": "markdown",
   "id": "mJGFptN_z2N_",
   "metadata": {
    "id": "mJGFptN_z2N_"
   },
   "source": [
    "### Reducimos el contador de conceptos."
   ]
  },
  {
   "cell_type": "code",
   "execution_count": 21,
   "id": "bd72d945",
   "metadata": {
    "id": "bd72d945"
   },
   "outputs": [],
   "source": [
    "concept_freq_total = reduce(operator.add,Concept_freq)"
   ]
  },
  {
   "cell_type": "code",
   "execution_count": null,
   "id": "MPp8xSB2W1u_",
   "metadata": {
    "colab": {
     "base_uri": "https://localhost:8080/"
    },
    "executionInfo": {
     "elapsed": 36,
     "status": "ok",
     "timestamp": 1635593200764,
     "user": {
      "displayName": "Carlos S.A.",
      "photoUrl": "https://lh3.googleusercontent.com/a-/AOh14GhgyXqJvWraBL2UAaPKuxyGQQbExZSZn359__0Lng=s64",
      "userId": "02982526807718094809"
     },
     "user_tz": 240
    },
    "id": "MPp8xSB2W1u_",
    "outputId": "6596e31c-3b30-4372-f8fb-5ef5abe0c8bb"
   },
   "outputs": [],
   "source": [
    "Concept_freq"
   ]
  },
  {
   "cell_type": "code",
   "execution_count": null,
   "id": "8d2ab103",
   "metadata": {
    "colab": {
     "base_uri": "https://localhost:8080/"
    },
    "executionInfo": {
     "elapsed": 15,
     "status": "ok",
     "timestamp": 1635593201466,
     "user": {
      "displayName": "Carlos S.A.",
      "photoUrl": "https://lh3.googleusercontent.com/a-/AOh14GhgyXqJvWraBL2UAaPKuxyGQQbExZSZn359__0Lng=s64",
      "userId": "02982526807718094809"
     },
     "user_tz": 240
    },
    "id": "8d2ab103",
    "outputId": "c119ce97-9d0b-40ab-ff5e-3ba176adcc24"
   },
   "outputs": [],
   "source": [
    "concept_freq_total"
   ]
  },
  {
   "cell_type": "code",
   "execution_count": 22,
   "id": "ade332a4",
   "metadata": {
    "id": "ade332a4"
   },
   "outputs": [],
   "source": [
    "data = concept_freq_total.most_common()\n",
    "result = pd.DataFrame(data, columns =['Concept', 'Frequency'])\n",
    "result.to_csv(\"./terminology_summary_concepts.csv\")"
   ]
  },
  {
   "cell_type": "code",
   "execution_count": null,
   "id": "g4gWB1vl1xhw",
   "metadata": {
    "id": "g4gWB1vl1xhw"
   },
   "outputs": [],
   "source": []
  }
 ],
 "metadata": {
  "accelerator": "GPU",
  "colab": {
   "collapsed_sections": [],
   "name": "Extraccion_palabras_claves.ipynb",
   "provenance": []
  },
  "kernelspec": {
   "display_name": "Python 3 (ipykernel)",
   "language": "python",
   "name": "python3"
  },
  "language_info": {
   "codemirror_mode": {
    "name": "ipython",
    "version": 3
   },
   "file_extension": ".py",
   "mimetype": "text/x-python",
   "name": "python",
   "nbconvert_exporter": "python",
   "pygments_lexer": "ipython3",
   "version": "3.8.8"
  }
 },
 "nbformat": 4,
 "nbformat_minor": 5
}
